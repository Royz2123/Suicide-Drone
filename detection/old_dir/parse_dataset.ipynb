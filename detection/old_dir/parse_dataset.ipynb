{
 "cells": [
  {
   "cell_type": "code",
   "execution_count": 4,
   "metadata": {},
   "outputs": [
    {
     "data": {
      "text/plain": [
       "'C:\\\\Users\\\\t8637523\\\\Desktop\\\\Puzzles Refael\\\\Suicide-Drone'"
      ]
     },
     "execution_count": 4,
     "metadata": {},
     "output_type": "execute_result"
    }
   ],
   "source": [
    "import cv2\n",
    "import matplotlib.pyplot as plt\n",
    "import numpy as np\n",
    "import os\n",
    "\n",
    "os.getcwd()\n",
    "os.chdir(\"C:\\\\Users\\\\t8637523\\\\Desktop\\\\Puzzles Refael\\\\Suicide-Drone\")\n",
    "os.getcwd()\n"
   ]
  },
  {
   "cell_type": "code",
   "execution_count": 5,
   "metadata": {},
   "outputs": [
    {
     "name": "stdout",
     "output_type": "stream",
     "text": [
      "Creation of the directory .\\train_images\\drones\\cropped_images succeeded, because it's already exists Toar...\n"
     ]
    }
   ],
   "source": [
    "base = \".\\\\train_images\\\\drones\"\n",
    "directory = base + \"\\\\raw_data\"\n",
    "cropped_dir_name = \"cropped_images\"\n",
    "cropped_dir = base + \"\\\\\" + cropped_dir_name\n",
    "\n",
    "try:\n",
    "    if not os.path.isdir(cropped_dir):\n",
    "        os.mkdir(cropped_dir)\n",
    "        print(\"Successfully created the directory %s \" % cropped_dir)\n",
    "    else:\n",
    "        print(\"Creation of the directory %s succeeded, because it's already exists Toar...\" % cropped_dir)\n",
    "except OSError:\n",
    "    print(\"Creation of the directory %s failed\" % cropped_dir)\n"
   ]
  },
  {
   "cell_type": "code",
   "execution_count": 6,
   "metadata": {},
   "outputs": [],
   "source": [
    "def extract_rect(line):\n",
    "    size_str=line.split(\" \")\n",
    "    sizes=[int(s) for s in size_str]\n",
    "    return sizes[0],sizes[1],sizes[2],sizes[3]"
   ]
  },
  {
   "cell_type": "code",
   "execution_count": 7,
   "metadata": {},
   "outputs": [],
   "source": [
    "def edit_file(mov_file, txt_file, save_dir):\n",
    "    data_name = mov_file.split(\".\")[-2].split(\"\\\\\")[-1]\n",
    "    vidcap = cv2.VideoCapture(mov_file)\n",
    "    success, image = vidcap.read()\n",
    "    count = 0\n",
    "    with open(txt_file, 'r') as txt:\n",
    "        lines = txt.readlines()\n",
    "\n",
    "    while success:\n",
    "        if count * 3 >= len(lines):\n",
    "            print(\"No more tiud stupid Toar\")\n",
    "            print(\"Happened in: \" + data_name + \", in frame\" + str(count))\n",
    "            break\n",
    "\n",
    "        x, y, w, h = extract_rect(lines[count * 3 + 2][:-1])\n",
    "        crop_img = image[y:y + h, x:x + w]\n",
    "        gray_image = cv2.cvtColor(crop_img, cv2.COLOR_BGR2GRAY)\n",
    "        cv2.imwrite(save_dir + \"\\\\\" + data_name + \"_frame%d.jpg\" % count, gray_image)  # save frame as JPEG file      \n",
    "        success, image = vidcap.read()\n",
    "        print(\"Read frame: %d from %s\" % (count, data_name))\n",
    "        count += 1\n"
   ]
  },
  {
   "cell_type": "code",
   "execution_count": 8,
   "metadata": {},
   "outputs": [],
   "source": [
    "def ask_remove_duplicates(directory):\n",
    "    remove_duplicates = input(\n",
    "        \"duplicate images were found, delete all duplicates? (you can erase %s and run the script again)[y/n]\" % directory)\n",
    "    if remove_duplicates == \"y\":\n",
    "        used_names = []\n",
    "        for filename in os.listdir(directory):\n",
    "            if filename in used_names:\n",
    "                os.remove(directory + filename)\n",
    "                print(\"Removed %s\" % filename)\n",
    "            else:\n",
    "                used_names.append(filename)\n",
    "    else:\n",
    "        print(\"Ok, Toar...\")\n"
   ]
  },
  {
   "cell_type": "code",
   "execution_count": 9,
   "metadata": {},
   "outputs": [
    {
     "name": "stdout",
     "output_type": "stream",
     "text": [
      "Read frame: 0 from DSC_6299\nRead frame: 1 from DSC_6299\nRead frame: 2 from DSC_6299\nRead frame: 3 from DSC_6299\nRead frame: 4 from DSC_6299\nRead frame: 5 from DSC_6299\nRead frame: 6 from DSC_6299\nRead frame: 7 from DSC_6299\nRead frame: 8 from DSC_6299\nRead frame: 9 from DSC_6299\nRead frame: 10 from DSC_6299\nRead frame: 11 from DSC_6299\nRead frame: 12 from DSC_6299\n"
     ]
    },
    {
     "name": "stdout",
     "output_type": "stream",
     "text": [
      "Read frame: 13 from DSC_6299\nRead frame: 14 from DSC_6299\nRead frame: 15 from DSC_6299\nRead frame: 16 from DSC_6299\nRead frame: 17 from DSC_6299\nRead frame: 18 from DSC_6299\nRead frame: 19 from DSC_6299\nRead frame: 20 from DSC_6299\nRead frame: 21 from DSC_6299\nRead frame: 22 from DSC_6299\nRead frame: 23 from DSC_6299\nRead frame: 24 from DSC_6299\nRead frame: 25 from DSC_6299\nRead frame: 26 from DSC_6299\nRead frame: 27 from DSC_6299\nRead frame: 28 from DSC_6299\nRead frame: 29 from DSC_6299\nRead frame: 30 from DSC_6299\n"
     ]
    },
    {
     "name": "stdout",
     "output_type": "stream",
     "text": [
      "Read frame: 31 from DSC_6299\nRead frame: 32 from DSC_6299\nRead frame: 33 from DSC_6299\nRead frame: 34 from DSC_6299\nRead frame: 35 from DSC_6299\nRead frame: 36 from DSC_6299\nRead frame: 37 from DSC_6299\nRead frame: 38 from DSC_6299\nRead frame: 39 from DSC_6299\nRead frame: 40 from DSC_6299\nRead frame: 41 from DSC_6299\nRead frame: 42 from DSC_6299\nRead frame: 43 from DSC_6299\nRead frame: 44 from DSC_6299\nRead frame: 45 from DSC_6299\nRead frame: 46 from DSC_6299\n"
     ]
    },
    {
     "name": "stdout",
     "output_type": "stream",
     "text": [
      "Read frame: 47 from DSC_6299\nRead frame: 48 from DSC_6299\nRead frame: 49 from DSC_6299\nRead frame: 50 from DSC_6299\nRead frame: 51 from DSC_6299\nRead frame: 52 from DSC_6299\nRead frame: 53 from DSC_6299\nRead frame: 54 from DSC_6299\nRead frame: 55 from DSC_6299\nRead frame: 56 from DSC_6299\nRead frame: 57 from DSC_6299\nRead frame: 58 from DSC_6299\nRead frame: 59 from DSC_6299\n"
     ]
    },
    {
     "name": "stdout",
     "output_type": "stream",
     "text": [
      "Read frame: 60 from DSC_6299\nRead frame: 61 from DSC_6299\nRead frame: 62 from DSC_6299\nRead frame: 63 from DSC_6299\nRead frame: 64 from DSC_6299\nRead frame: 65 from DSC_6299\nRead frame: 66 from DSC_6299\nRead frame: 67 from DSC_6299\nRead frame: 68 from DSC_6299\nRead frame: 69 from DSC_6299\nRead frame: 70 from DSC_6299\nRead frame: 71 from DSC_6299\nRead frame: 72 from DSC_6299\n"
     ]
    },
    {
     "name": "stdout",
     "output_type": "stream",
     "text": [
      "Read frame: 73 from DSC_6299\nRead frame: 74 from DSC_6299\nRead frame: 75 from DSC_6299\nRead frame: 76 from DSC_6299\nRead frame: 77 from DSC_6299\nRead frame: 78 from DSC_6299\nRead frame: 79 from DSC_6299\nRead frame: 80 from DSC_6299\nRead frame: 81 from DSC_6299\nRead frame: 82 from DSC_6299\nRead frame: 83 from DSC_6299\nRead frame: 84 from DSC_6299\nRead frame: 85 from DSC_6299\nRead frame: 86 from DSC_6299\n"
     ]
    },
    {
     "name": "stdout",
     "output_type": "stream",
     "text": [
      "Read frame: 87 from DSC_6299\nRead frame: 88 from DSC_6299\nRead frame: 89 from DSC_6299\nRead frame: 90 from DSC_6299\nRead frame: 91 from DSC_6299\nRead frame: 92 from DSC_6299\nRead frame: 93 from DSC_6299\nRead frame: 94 from DSC_6299\nRead frame: 95 from DSC_6299\nRead frame: 96 from DSC_6299\nRead frame: 97 from DSC_6299\nRead frame: 98 from DSC_6299\n"
     ]
    },
    {
     "name": "stdout",
     "output_type": "stream",
     "text": [
      "Read frame: 99 from DSC_6299\nRead frame: 100 from DSC_6299\nRead frame: 101 from DSC_6299\nRead frame: 102 from DSC_6299\nRead frame: 103 from DSC_6299\nRead frame: 104 from DSC_6299\nRead frame: 105 from DSC_6299\nRead frame: 106 from DSC_6299\nRead frame: 107 from DSC_6299\nRead frame: 108 from DSC_6299\nRead frame: 109 from DSC_6299\nRead frame: 110 from DSC_6299\n"
     ]
    },
    {
     "name": "stdout",
     "output_type": "stream",
     "text": [
      "Read frame: 111 from DSC_6299\nRead frame: 112 from DSC_6299\nRead frame: 113 from DSC_6299\nRead frame: 114 from DSC_6299\nRead frame: 115 from DSC_6299\nRead frame: 116 from DSC_6299\nRead frame: 117 from DSC_6299\nRead frame: 118 from DSC_6299\nRead frame: 119 from DSC_6299\nRead frame: 120 from DSC_6299\nRead frame: 121 from DSC_6299\nRead frame: 122 from DSC_6299\nRead frame: 123 from DSC_6299\nRead frame: 124 from DSC_6299"
     ]
    },
    {
     "name": "stdout",
     "output_type": "stream",
     "text": [
      "\nRead frame: 125 from DSC_6299\nRead frame: 126 from DSC_6299\nRead frame: 127 from DSC_6299\nRead frame: 128 from DSC_6299\nRead frame: 129 from DSC_6299\nRead frame: 130 from DSC_6299\nRead frame: 131 from DSC_6299\nRead frame: 132 from DSC_6299\nRead frame: 133 from DSC_6299\nRead frame: 134 from DSC_6299\nRead frame: 135 from DSC_6299\nRead frame: 136 from DSC_6299\nRead frame: 137 from DSC_6299\nRead frame: 138 from DSC_6299\n"
     ]
    },
    {
     "name": "stdout",
     "output_type": "stream",
     "text": [
      "Read frame: 139 from DSC_6299\nRead frame: 140 from DSC_6299\nRead frame: 141 from DSC_6299\nRead frame: 142 from DSC_6299\nRead frame: 143 from DSC_6299\nRead frame: 144 from DSC_6299\nRead frame: 145 from DSC_6299\nRead frame: 146 from DSC_6299\nRead frame: 147 from DSC_6299\nRead frame: 148 from DSC_6299\nRead frame: 149 from DSC_6299\nRead frame: 150 from DSC_6299\nRead frame: 151 from DSC_6299\nRead frame: 152 from DSC_6299\nRead frame: 153 from DSC_6299\n"
     ]
    },
    {
     "name": "stdout",
     "output_type": "stream",
     "text": [
      "Read frame: 154 from DSC_6299\nRead frame: 155 from DSC_6299\nRead frame: 156 from DSC_6299\nRead frame: 157 from DSC_6299\nRead frame: 158 from DSC_6299\nRead frame: 159 from DSC_6299\nRead frame: 160 from DSC_6299\nRead frame: 161 from DSC_6299\nRead frame: 162 from DSC_6299\nRead frame: 163 from DSC_6299\nRead frame: 164 from DSC_6299\nRead frame: 165 from DSC_6299\nRead frame: 166 from DSC_6299\n"
     ]
    },
    {
     "name": "stdout",
     "output_type": "stream",
     "text": [
      "Read frame: 167 from DSC_6299\nRead frame: 168 from DSC_6299\nRead frame: 169 from DSC_6299\nRead frame: 170 from DSC_6299\nRead frame: 171 from DSC_6299\nRead frame: 172 from DSC_6299\nRead frame: 173 from DSC_6299\nRead frame: 174 from DSC_6299\nRead frame: 175 from DSC_6299\nRead frame: 176 from DSC_6299\nRead frame: 177 from DSC_6299\nRead frame: 178 from DSC_6299\nRead frame: 179 from DSC_6299\n"
     ]
    },
    {
     "name": "stdout",
     "output_type": "stream",
     "text": [
      "Read frame: 180 from DSC_6299\nRead frame: 181 from DSC_6299\nRead frame: 182 from DSC_6299\nRead frame: 183 from DSC_6299\nRead frame: 184 from DSC_6299\nRead frame: 185 from DSC_6299\nRead frame: 186 from DSC_6299\nRead frame: 187 from DSC_6299\nRead frame: 188 from DSC_6299\nRead frame: 189 from DSC_6299\nRead frame: 190 from DSC_6299\nRead frame: 191 from DSC_6299\nRead frame: 192 from DSC_6299\nRead frame: 193 from DSC_6299\nRead frame: 194 from DSC_6299\n"
     ]
    },
    {
     "name": "stdout",
     "output_type": "stream",
     "text": [
      "Read frame: 195 from DSC_6299\nRead frame: 196 from DSC_6299\nRead frame: 197 from DSC_6299\nRead frame: 198 from DSC_6299\nRead frame: 199 from DSC_6299\nRead frame: 200 from DSC_6299\nRead frame: 201 from DSC_6299\nRead frame: 202 from DSC_6299\nRead frame: 203 from DSC_6299\nRead frame: 204 from DSC_6299\nRead frame: 205 from DSC_6299\nRead frame: 206 from DSC_6299\nRead frame: 207 from DSC_6299\nRead frame: 208 from DSC_6299\n"
     ]
    },
    {
     "name": "stdout",
     "output_type": "stream",
     "text": [
      "Read frame: 209 from DSC_6299\nRead frame: 210 from DSC_6299\nRead frame: 211 from DSC_6299\nRead frame: 212 from DSC_6299\nRead frame: 213 from DSC_6299\nRead frame: 214 from DSC_6299\nRead frame: 215 from DSC_6299\nRead frame: 216 from DSC_6299\nRead frame: 217 from DSC_6299\nRead frame: 218 from DSC_6299\nRead frame: 219 from DSC_6299\nRead frame: 220 from DSC_6299\nRead frame: 221 from DSC_6299\nRead frame: 222 from DSC_6299\nRead frame: 223 from DSC_6299\nRead frame: 224 from DSC_6299\nRead frame: 225 from DSC_6299\nRead frame: 226 from DSC_6299\nRead frame: 227 from DSC_6299\n"
     ]
    },
    {
     "name": "stdout",
     "output_type": "stream",
     "text": [
      "Read frame: 228 from DSC_6299\nRead frame: 229 from DSC_6299\nRead frame: 230 from DSC_6299\nRead frame: 231 from DSC_6299\nRead frame: 232 from DSC_6299\nRead frame: 233 from DSC_6299\nRead frame: 234 from DSC_6299\nRead frame: 235 from DSC_6299\nRead frame: 236 from DSC_6299\nRead frame: 237 from DSC_6299\nRead frame: 238 from DSC_6299\nRead frame: 239 from DSC_6299\nRead frame: 240 from DSC_6299\nRead frame: 241 from DSC_6299\nRead frame: 242 from DSC_6299\nRead frame: 243 from DSC_6299\nRead frame: 244 from DSC_6299\nRead frame: 245 from DSC_6299\n"
     ]
    },
    {
     "name": "stdout",
     "output_type": "stream",
     "text": [
      "Read frame: 246 from DSC_6299\nRead frame: 247 from DSC_6299\nRead frame: 248 from DSC_6299\nRead frame: 249 from DSC_6299\nRead frame: 250 from DSC_6299\nRead frame: 251 from DSC_6299\nRead frame: 252 from DSC_6299\nRead frame: 253 from DSC_6299\nRead frame: 254 from DSC_6299\nRead frame: 255 from DSC_6299\nRead frame: 256 from DSC_6299\nRead frame: 257 from DSC_6299\nRead frame: 258 from DSC_6299\nRead frame: 259 from DSC_6299\nRead frame: 260 from DSC_6299\nRead frame: 261 from DSC_6299\nRead frame: 262 from DSC_6299\nRead frame: 263 from DSC_6299\n"
     ]
    },
    {
     "name": "stdout",
     "output_type": "stream",
     "text": [
      "Read frame: 264 from DSC_6299\nRead frame: 265 from DSC_6299\nRead frame: 266 from DSC_6299\nRead frame: 267 from DSC_6299\nRead frame: 268 from DSC_6299\nRead frame: 269 from DSC_6299\nRead frame: 270 from DSC_6299\nRead frame: 271 from DSC_6299\nRead frame: 272 from DSC_6299\nRead frame: 273 from DSC_6299\nRead frame: 274 from DSC_6299\nRead frame: 275 from DSC_6299\nRead frame: 276 from DSC_6299\nRead frame: 277 from DSC_6299\nRead frame: 278 from DSC_6299\nRead frame: 279 from DSC_6299\n"
     ]
    },
    {
     "name": "stdout",
     "output_type": "stream",
     "text": [
      "Read frame: 280 from DSC_6299\nRead frame: 281 from DSC_6299\nRead frame: 282 from DSC_6299\nRead frame: 283 from DSC_6299\nRead frame: 284 from DSC_6299\nRead frame: 285 from DSC_6299\nRead frame: 286 from DSC_6299\nRead frame: 287 from DSC_6299\nRead frame: 288 from DSC_6299\nRead frame: 289 from DSC_6299\nRead frame: 290 from DSC_6299\nRead frame: 291 from DSC_6299\nRead frame: 292 from DSC_6299\nRead frame: 293 from DSC_6299\nRead frame: 294 from DSC_6299\nRead frame: 295 from DSC_6299\nRead frame: 296 from DSC_6299\nRead frame: 297 from DSC_6299\n"
     ]
    },
    {
     "name": "stdout",
     "output_type": "stream",
     "text": [
      "Read frame: 298 from DSC_6299\nRead frame: 299 from DSC_6299\nRead frame: 300 from DSC_6299\nRead frame: 301 from DSC_6299\nRead frame: 302 from DSC_6299\nRead frame: 303 from DSC_6299\nRead frame: 304 from DSC_6299\nRead frame: 305 from DSC_6299\nRead frame: 306 from DSC_6299\nRead frame: 307 from DSC_6299\nRead frame: 308 from DSC_6299\nRead frame: 309 from DSC_6299\nRead frame: 310 from DSC_6299\nRead frame: 311 from DSC_6299\nRead frame: 312 from DSC_6299\nRead frame: 313 from DSC_6299\nRead frame: 314 from DSC_6299\n"
     ]
    },
    {
     "name": "stdout",
     "output_type": "stream",
     "text": [
      "Read frame: 315 from DSC_6299\nRead frame: 316 from DSC_6299\nRead frame: 317 from DSC_6299\nRead frame: 318 from DSC_6299\nRead frame: 319 from DSC_6299\nRead frame: 320 from DSC_6299\nRead frame: 321 from DSC_6299\nRead frame: 322 from DSC_6299\nRead frame: 323 from DSC_6299\nRead frame: 324 from DSC_6299\nRead frame: 325 from DSC_6299\nRead frame: 326 from DSC_6299\nRead frame: 327 from DSC_6299\nRead frame: 328 from DSC_6299\nRead frame: 329 from DSC_6299\n"
     ]
    },
    {
     "name": "stdout",
     "output_type": "stream",
     "text": [
      "Read frame: 330 from DSC_6299\nRead frame: 331 from DSC_6299\nRead frame: 332 from DSC_6299\nRead frame: 333 from DSC_6299\nRead frame: 334 from DSC_6299\nRead frame: 335 from DSC_6299\nRead frame: 336 from DSC_6299\nRead frame: 337 from DSC_6299\nRead frame: 338 from DSC_6299\nRead frame: 339 from DSC_6299\nRead frame: 340 from DSC_6299\nRead frame: 341 from DSC_6299\nRead frame: 342 from DSC_6299\nRead frame: 343 from DSC_6299\nRead frame: 344 from DSC_6299\nRead frame: 345 from DSC_6299\nRead frame: 346 from DSC_6299\nRead frame: 347 from DSC_6299\n"
     ]
    },
    {
     "name": "stdout",
     "output_type": "stream",
     "text": [
      "Read frame: 348 from DSC_6299\nRead frame: 349 from DSC_6299\nRead frame: 350 from DSC_6299\nRead frame: 351 from DSC_6299\nRead frame: 352 from DSC_6299\nRead frame: 353 from DSC_6299\nRead frame: 354 from DSC_6299\nRead frame: 355 from DSC_6299\nRead frame: 356 from DSC_6299\nRead frame: 357 from DSC_6299\nRead frame: 358 from DSC_6299\nRead frame: 359 from DSC_6299\nRead frame: 360 from DSC_6299\nRead frame: 361 from DSC_6299\nRead frame: 362 from DSC_6299\n"
     ]
    },
    {
     "name": "stdout",
     "output_type": "stream",
     "text": [
      "Read frame: 363 from DSC_6299\nRead frame: 364 from DSC_6299\nRead frame: 365 from DSC_6299\nRead frame: 366 from DSC_6299\nRead frame: 367 from DSC_6299\nRead frame: 368 from DSC_6299\nRead frame: 369 from DSC_6299\nRead frame: 370 from DSC_6299\nRead frame: 371 from DSC_6299\nRead frame: 372 from DSC_6299\nRead frame: 373 from DSC_6299\nRead frame: 374 from DSC_6299\n"
     ]
    },
    {
     "name": "stdout",
     "output_type": "stream",
     "text": [
      "Read frame: 375 from DSC_6299\nRead frame: 376 from DSC_6299\nRead frame: 377 from DSC_6299\nRead frame: 378 from DSC_6299\nRead frame: 379 from DSC_6299\nRead frame: 380 from DSC_6299\nRead frame: 381 from DSC_6299\nRead frame: 382 from DSC_6299\nRead frame: 383 from DSC_6299\nRead frame: 384 from DSC_6299\nRead frame: 385 from DSC_6299\nRead frame: 386 from DSC_6299\nRead frame: 387 from DSC_6299\n"
     ]
    },
    {
     "name": "stdout",
     "output_type": "stream",
     "text": [
      "Read frame: 388 from DSC_6299\nRead frame: 389 from DSC_6299\nRead frame: 390 from DSC_6299\nRead frame: 391 from DSC_6299\nRead frame: 392 from DSC_6299\nRead frame: 393 from DSC_6299\nRead frame: 394 from DSC_6299\nRead frame: 395 from DSC_6299\nRead frame: 396 from DSC_6299\nRead frame: 397 from DSC_6299\nRead frame: 398 from DSC_6299\nRead frame: 399 from DSC_6299\nRead frame: 400 from DSC_6299\nRead frame: 401 from DSC_6299\n"
     ]
    },
    {
     "name": "stdout",
     "output_type": "stream",
     "text": [
      "Read frame: 402 from DSC_6299\nRead frame: 403 from DSC_6299\nRead frame: 404 from DSC_6299\nRead frame: 405 from DSC_6299\nRead frame: 406 from DSC_6299\nRead frame: 407 from DSC_6299\nRead frame: 408 from DSC_6299\nRead frame: 409 from DSC_6299\nRead frame: 410 from DSC_6299\nRead frame: 411 from DSC_6299\nRead frame: 412 from DSC_6299\nRead frame: 413 from DSC_6299\nRead frame: 414 from DSC_6299\nRead frame: 415 from DSC_6299\nRead frame: 416 from DSC_6299\nRead frame: 417 from DSC_6299\nRead frame: 418 from DSC_6299\nRead frame: 419 from DSC_6299\n"
     ]
    },
    {
     "name": "stdout",
     "output_type": "stream",
     "text": [
      "Read frame: 420 from DSC_6299\nRead frame: 421 from DSC_6299\nRead frame: 422 from DSC_6299\nRead frame: 423 from DSC_6299\nRead frame: 424 from DSC_6299\nRead frame: 425 from DSC_6299\nRead frame: 426 from DSC_6299\nRead frame: 427 from DSC_6299\nRead frame: 428 from DSC_6299\nRead frame: 429 from DSC_6299\nRead frame: 430 from DSC_6299\nRead frame: 431 from DSC_6299\nRead frame: 432 from DSC_6299\nRead frame: 433 from DSC_6299\nRead frame: 434 from DSC_6299\nRead frame: 435 from DSC_6299\nRead frame: 436 from DSC_6299\n"
     ]
    },
    {
     "name": "stdout",
     "output_type": "stream",
     "text": [
      "Read frame: 437 from DSC_6299\nRead frame: 438 from DSC_6299\nRead frame: 439 from DSC_6299\nRead frame: 440 from DSC_6299\nRead frame: 441 from DSC_6299\nRead frame: 442 from DSC_6299\nRead frame: 443 from DSC_6299\nRead frame: 444 from DSC_6299\nRead frame: 445 from DSC_6299\nRead frame: 446 from DSC_6299\nRead frame: 447 from DSC_6299\nRead frame: 448 from DSC_6299\nRead frame: 449 from DSC_6299\nRead frame: 450 from DSC_6299\nRead frame: 451 from DSC_6299\nRead frame: 452 from DSC_6299\nRead frame: 453 from DSC_6299\nRead frame: 454 from DSC_6299\n"
     ]
    },
    {
     "name": "stdout",
     "output_type": "stream",
     "text": [
      "Read frame: 455 from DSC_6299\nRead frame: 456 from DSC_6299\nRead frame: 457 from DSC_6299\nRead frame: 458 from DSC_6299\nRead frame: 459 from DSC_6299\nRead frame: 460 from DSC_6299\nRead frame: 461 from DSC_6299\nRead frame: 462 from DSC_6299\nRead frame: 463 from DSC_6299\nRead frame: 464 from DSC_6299\nRead frame: 465 from DSC_6299\nRead frame: 466 from DSC_6299\nRead frame: 467 from DSC_6299\nRead frame: 468 from DSC_6299\nRead frame: 469 from DSC_6299\nRead frame: 470 from DSC_6299\nRead frame: 471 from DSC_6299\n"
     ]
    },
    {
     "name": "stdout",
     "output_type": "stream",
     "text": [
      "Read frame: 472 from DSC_6299\nRead frame: 473 from DSC_6299\nRead frame: 474 from DSC_6299\nRead frame: 475 from DSC_6299\nRead frame: 476 from DSC_6299\nRead frame: 477 from DSC_6299\nRead frame: 478 from DSC_6299\nRead frame: 479 from DSC_6299\nRead frame: 480 from DSC_6299\nRead frame: 481 from DSC_6299\nRead frame: 482 from DSC_6299\nRead frame: 483 from DSC_6299\nRead frame: 484 from DSC_6299\nRead frame: 485 from DSC_6299\nRead frame: 486 from DSC_6299\nRead frame: 487 from DSC_6299\n"
     ]
    },
    {
     "name": "stdout",
     "output_type": "stream",
     "text": [
      "Read frame: 488 from DSC_6299\nRead frame: 489 from DSC_6299\nRead frame: 490 from DSC_6299\nRead frame: 491 from DSC_6299\nRead frame: 492 from DSC_6299\nRead frame: 493 from DSC_6299\nRead frame: 494 from DSC_6299\nRead frame: 495 from DSC_6299\nRead frame: 496 from DSC_6299\nRead frame: 497 from DSC_6299\nRead frame: 498 from DSC_6299\nRead frame: 499 from DSC_6299\nRead frame: 500 from DSC_6299\nRead frame: 501 from DSC_6299\nRead frame: 502 from DSC_6299\nRead frame: 503 from DSC_6299\n"
     ]
    },
    {
     "name": "stdout",
     "output_type": "stream",
     "text": [
      "Read frame: 504 from DSC_6299\nRead frame: 505 from DSC_6299\nRead frame: 506 from DSC_6299\nRead frame: 507 from DSC_6299\nRead frame: 508 from DSC_6299\nRead frame: 509 from DSC_6299\nRead frame: 510 from DSC_6299\nRead frame: 511 from DSC_6299\nRead frame: 512 from DSC_6299\nRead frame: 513 from DSC_6299\nRead frame: 514 from DSC_6299\nRead frame: 515 from DSC_6299\nRead frame: 516 from DSC_6299\nRead frame: 517 from DSC_6299\nRead frame: 518 from DSC_6299\nRead frame: 519 from DSC_6299\nRead frame: 520 from DSC_6299\nRead frame: 521 from DSC_6299\n"
     ]
    },
    {
     "name": "stdout",
     "output_type": "stream",
     "text": [
      "Read frame: 522 from DSC_6299\nRead frame: 523 from DSC_6299\nRead frame: 524 from DSC_6299\nRead frame: 525 from DSC_6299\nRead frame: 526 from DSC_6299\nRead frame: 527 from DSC_6299\nRead frame: 528 from DSC_6299\nRead frame: 529 from DSC_6299\nRead frame: 530 from DSC_6299\nRead frame: 531 from DSC_6299\nRead frame: 532 from DSC_6299\nRead frame: 533 from DSC_6299\nRead frame: 534 from DSC_6299\nRead frame: 535 from DSC_6299\nRead frame: 536 from DSC_6299\nRead frame: 537 from DSC_6299\nRead frame: 538 from DSC_6299\nRead frame: 539 from DSC_6299\nRead frame: 540 from DSC_6299\n"
     ]
    },
    {
     "name": "stdout",
     "output_type": "stream",
     "text": [
      "Read frame: 541 from DSC_6299\nRead frame: 542 from DSC_6299\nRead frame: 543 from DSC_6299\nRead frame: 544 from DSC_6299\nRead frame: 545 from DSC_6299\nRead frame: 546 from DSC_6299\nRead frame: 547 from DSC_6299\nRead frame: 548 from DSC_6299\nRead frame: 549 from DSC_6299\nRead frame: 550 from DSC_6299\nRead frame: 551 from DSC_6299\nRead frame: 552 from DSC_6299\nRead frame: 553 from DSC_6299\nRead frame: 554 from DSC_6299\nRead frame: 555 from DSC_6299\nRead frame: 556 from DSC_6299\nRead frame: 557 from DSC_6299\nRead frame: 558 from DSC_6299\n"
     ]
    },
    {
     "name": "stdout",
     "output_type": "stream",
     "text": [
      "Read frame: 559 from DSC_6299\nRead frame: 560 from DSC_6299\nRead frame: 561 from DSC_6299\nRead frame: 562 from DSC_6299\nRead frame: 563 from DSC_6299\nRead frame: 564 from DSC_6299\nRead frame: 565 from DSC_6299\nRead frame: 566 from DSC_6299\nRead frame: 567 from DSC_6299\nRead frame: 568 from DSC_6299\nRead frame: 569 from DSC_6299\nRead frame: 570 from DSC_6299\nRead frame: 571 from DSC_6299\nRead frame: 572 from DSC_6299\n"
     ]
    },
    {
     "name": "stdout",
     "output_type": "stream",
     "text": [
      "Read frame: 573 from DSC_6299\nRead frame: 574 from DSC_6299\nRead frame: 575 from DSC_6299\nRead frame: 576 from DSC_6299\nRead frame: 577 from DSC_6299\nRead frame: 578 from DSC_6299\nRead frame: 579 from DSC_6299\nRead frame: 580 from DSC_6299\nRead frame: 581 from DSC_6299\nRead frame: 582 from DSC_6299\nRead frame: 583 from DSC_6299\nRead frame: 584 from DSC_6299\nRead frame: 585 from DSC_6299\n"
     ]
    },
    {
     "name": "stdout",
     "output_type": "stream",
     "text": [
      "Read frame: 586 from DSC_6299\nRead frame: 587 from DSC_6299\nRead frame: 588 from DSC_6299\nRead frame: 589 from DSC_6299\nRead frame: 590 from DSC_6299\nRead frame: 591 from DSC_6299\nRead frame: 592 from DSC_6299\nRead frame: 593 from DSC_6299\n"
     ]
    },
    {
     "name": "stdout",
     "output_type": "stream",
     "text": [
      "Read frame: 594 from DSC_6299\nRead frame: 595 from DSC_6299\nRead frame: 596 from DSC_6299\nRead frame: 597 from DSC_6299\nRead frame: 598 from DSC_6299\nRead frame: 599 from DSC_6299\n"
     ]
    },
    {
     "name": "stdout",
     "output_type": "stream",
     "text": [
      "Read frame: 600 from DSC_6299\nRead frame: 601 from DSC_6299\nRead frame: 602 from DSC_6299\nRead frame: 603 from DSC_6299\nRead frame: 604 from DSC_6299\nRead frame: 605 from DSC_6299\n"
     ]
    },
    {
     "name": "stdout",
     "output_type": "stream",
     "text": [
      "Read frame: 606 from DSC_6299\nRead frame: 607 from DSC_6299\nRead frame: 608 from DSC_6299\nRead frame: 609 from DSC_6299\nRead frame: 610 from DSC_6299\nRead frame: 611 from DSC_6299\nRead frame: 612 from DSC_6299\nRead frame: 613 from DSC_6299\n"
     ]
    },
    {
     "name": "stdout",
     "output_type": "stream",
     "text": [
      "Read frame: 614 from DSC_6299\nRead frame: 615 from DSC_6299\nRead frame: 616 from DSC_6299\nRead frame: 617 from DSC_6299\nRead frame: 618 from DSC_6299\n"
     ]
    },
    {
     "name": "stdout",
     "output_type": "stream",
     "text": [
      "Read frame: 619 from DSC_6299\nRead frame: 620 from DSC_6299\nRead frame: 621 from DSC_6299\nRead frame: 622 from DSC_6299\nRead frame: 623 from DSC_6299\n"
     ]
    },
    {
     "name": "stdout",
     "output_type": "stream",
     "text": [
      "Read frame: 624 from DSC_6299\nRead frame: 625 from DSC_6299\nRead frame: 626 from DSC_6299\nRead frame: 627 from DSC_6299\nRead frame: 628 from DSC_6299\nRead frame: 629 from DSC_6299\nRead frame: 630 from DSC_6299\nRead frame: 631 from DSC_6299\n"
     ]
    },
    {
     "name": "stdout",
     "output_type": "stream",
     "text": [
      "Read frame: 632 from DSC_6299\nRead frame: 633 from DSC_6299\nRead frame: 634 from DSC_6299\nRead frame: 635 from DSC_6299\nRead frame: 636 from DSC_6299\nRead frame: 637 from DSC_6299\nRead frame: 638 from DSC_6299\nRead frame: 639 from DSC_6299\nRead frame: 640 from DSC_6299\n"
     ]
    },
    {
     "name": "stdout",
     "output_type": "stream",
     "text": [
      "Read frame: 641 from DSC_6299\nRead frame: 642 from DSC_6299\nRead frame: 643 from DSC_6299\nRead frame: 644 from DSC_6299\nRead frame: 645 from DSC_6299\nRead frame: 646 from DSC_6299\nRead frame: 647 from DSC_6299\nRead frame: 648 from DSC_6299\nRead frame: 649 from DSC_6299\nRead frame: 650 from DSC_6299\n"
     ]
    },
    {
     "name": "stdout",
     "output_type": "stream",
     "text": [
      "Read frame: 651 from DSC_6299\nRead frame: 652 from DSC_6299\nRead frame: 653 from DSC_6299\nRead frame: 654 from DSC_6299\nRead frame: 655 from DSC_6299\nRead frame: 656 from DSC_6299\nRead frame: 657 from DSC_6299\nRead frame: 658 from DSC_6299\nRead frame: 659 from DSC_6299\n"
     ]
    },
    {
     "name": "stdout",
     "output_type": "stream",
     "text": [
      "Read frame: 660 from DSC_6299\nRead frame: 661 from DSC_6299\nRead frame: 662 from DSC_6299\nRead frame: 663 from DSC_6299\nRead frame: 664 from DSC_6299\nRead frame: 665 from DSC_6299\nRead frame: 666 from DSC_6299\nRead frame: 667 from DSC_6299\nRead frame: 668 from DSC_6299\n"
     ]
    },
    {
     "name": "stdout",
     "output_type": "stream",
     "text": [
      "Read frame: 669 from DSC_6299\nRead frame: 670 from DSC_6299\nRead frame: 671 from DSC_6299\nRead frame: 672 from DSC_6299\nRead frame: 673 from DSC_6299\nRead frame: 674 from DSC_6299\nRead frame: 675 from DSC_6299\nRead frame: 676 from DSC_6299\nRead frame: 677 from DSC_6299\nRead frame: 678 from DSC_6299\n"
     ]
    },
    {
     "name": "stdout",
     "output_type": "stream",
     "text": [
      "Read frame: 679 from DSC_6299\nRead frame: 680 from DSC_6299\nRead frame: 681 from DSC_6299\nRead frame: 682 from DSC_6299\nRead frame: 683 from DSC_6299\nRead frame: 684 from DSC_6299\nRead frame: 685 from DSC_6299\nRead frame: 686 from DSC_6299\nRead frame: 687 from DSC_6299\nRead frame: 688 from DSC_6299\nRead frame: 689 from DSC_6299\n"
     ]
    },
    {
     "name": "stdout",
     "output_type": "stream",
     "text": [
      "Read frame: 690 from DSC_6299\nRead frame: 691 from DSC_6299\nRead frame: 692 from DSC_6299\nRead frame: 693 from DSC_6299\nRead frame: 694 from DSC_6299\nRead frame: 695 from DSC_6299\nRead frame: 696 from DSC_6299\nRead frame: 697 from DSC_6299\nRead frame: 698 from DSC_6299\n"
     ]
    },
    {
     "name": "stdout",
     "output_type": "stream",
     "text": [
      "Read frame: 699 from DSC_6299\nRead frame: 700 from DSC_6299\nRead frame: 701 from DSC_6299\nRead frame: 702 from DSC_6299\nRead frame: 703 from DSC_6299\nRead frame: 704 from DSC_6299\nRead frame: 705 from DSC_6299\nRead frame: 706 from DSC_6299\nRead frame: 707 from DSC_6299\n"
     ]
    },
    {
     "name": "stdout",
     "output_type": "stream",
     "text": [
      "Read frame: 708 from DSC_6299\nRead frame: 709 from DSC_6299\nRead frame: 710 from DSC_6299\nRead frame: 711 from DSC_6299\nRead frame: 712 from DSC_6299\nRead frame: 713 from DSC_6299\nRead frame: 714 from DSC_6299\nRead frame: 715 from DSC_6299\nRead frame: 716 from DSC_6299\n"
     ]
    },
    {
     "name": "stdout",
     "output_type": "stream",
     "text": [
      "Read frame: 717 from DSC_6299\nRead frame: 718 from DSC_6299\nRead frame: 719 from DSC_6299\nRead frame: 720 from DSC_6299\nRead frame: 721 from DSC_6299\nRead frame: 722 from DSC_6299\nRead frame: 723 from DSC_6299\nRead frame: 724 from DSC_6299\n"
     ]
    },
    {
     "name": "stdout",
     "output_type": "stream",
     "text": [
      "Read frame: 725 from DSC_6299\nRead frame: 726 from DSC_6299\nRead frame: 727 from DSC_6299\nRead frame: 728 from DSC_6299\nRead frame: 729 from DSC_6299\nRead frame: 730 from DSC_6299\nRead frame: 731 from DSC_6299\nRead frame: 732 from DSC_6299\nRead frame: 733 from DSC_6299\nRead frame: 734 from DSC_6299\n"
     ]
    },
    {
     "name": "stdout",
     "output_type": "stream",
     "text": [
      "Read frame: 735 from DSC_6299\nRead frame: 736 from DSC_6299\nRead frame: 737 from DSC_6299\nRead frame: 738 from DSC_6299\nRead frame: 739 from DSC_6299\n"
     ]
    },
    {
     "name": "stdout",
     "output_type": "stream",
     "text": [
      "Read frame: 740 from DSC_6299\nRead frame: 741 from DSC_6299\nRead frame: 742 from DSC_6299\nRead frame: 743 from DSC_6299\nRead frame: 744 from DSC_6299\nRead frame: 745 from DSC_6299\nRead frame: 746 from DSC_6299\nRead frame: 747 from DSC_6299\n"
     ]
    },
    {
     "name": "stdout",
     "output_type": "stream",
     "text": [
      "Read frame: 748 from DSC_6299\nRead frame: 749 from DSC_6299\nRead frame: 750 from DSC_6299\nRead frame: 751 from DSC_6299\nRead frame: 752 from DSC_6299\nRead frame: 753 from DSC_6299\nRead frame: 754 from DSC_6299\n"
     ]
    },
    {
     "name": "stdout",
     "output_type": "stream",
     "text": [
      "Read frame: 755 from DSC_6299\nRead frame: 756 from DSC_6299\nRead frame: 757 from DSC_6299\nRead frame: 758 from DSC_6299\nRead frame: 759 from DSC_6299\nRead frame: 760 from DSC_6299\n"
     ]
    },
    {
     "name": "stdout",
     "output_type": "stream",
     "text": [
      "Read frame: 761 from DSC_6299\nRead frame: 762 from DSC_6299\nRead frame: 763 from DSC_6299\nRead frame: 764 from DSC_6299\nRead frame: 765 from DSC_6299\nRead frame: 766 from DSC_6299\nRead frame: 767 from DSC_6299\nRead frame: 768 from DSC_6299\n"
     ]
    },
    {
     "name": "stdout",
     "output_type": "stream",
     "text": [
      "Read frame: 769 from DSC_6299\nRead frame: 770 from DSC_6299\nRead frame: 771 from DSC_6299\nRead frame: 772 from DSC_6299\nRead frame: 773 from DSC_6299\nRead frame: 774 from DSC_6299\nRead frame: 775 from DSC_6299\n"
     ]
    },
    {
     "name": "stdout",
     "output_type": "stream",
     "text": [
      "Read frame: 776 from DSC_6299\nRead frame: 777 from DSC_6299\nRead frame: 778 from DSC_6299\nRead frame: 779 from DSC_6299\nRead frame: 780 from DSC_6299\nRead frame: 781 from DSC_6299\nRead frame: 782 from DSC_6299\n"
     ]
    },
    {
     "name": "stdout",
     "output_type": "stream",
     "text": [
      "Read frame: 783 from DSC_6299\nRead frame: 784 from DSC_6299\nRead frame: 785 from DSC_6299\nRead frame: 786 from DSC_6299\nRead frame: 787 from DSC_6299\nRead frame: 788 from DSC_6299\nRead frame: 789 from DSC_6299\nRead frame: 790 from DSC_6299\nRead frame: 791 from DSC_6299\n"
     ]
    },
    {
     "name": "stdout",
     "output_type": "stream",
     "text": [
      "Read frame: 792 from DSC_6299\nRead frame: 793 from DSC_6299\nRead frame: 794 from DSC_6299\nRead frame: 795 from DSC_6299\nRead frame: 796 from DSC_6299\nRead frame: 797 from DSC_6299\nRead frame: 798 from DSC_6299\nRead frame: 799 from DSC_6299\nRead frame: 800 from DSC_6299\nRead frame: 801 from DSC_6299\n"
     ]
    },
    {
     "name": "stdout",
     "output_type": "stream",
     "text": [
      "Read frame: 802 from DSC_6299\nRead frame: 803 from DSC_6299\nRead frame: 804 from DSC_6299\nRead frame: 805 from DSC_6299\nRead frame: 806 from DSC_6299\nRead frame: 807 from DSC_6299\nRead frame: 808 from DSC_6299\nRead frame: 809 from DSC_6299\nRead frame: 810 from DSC_6299\n"
     ]
    },
    {
     "name": "stdout",
     "output_type": "stream",
     "text": [
      "Read frame: 811 from DSC_6299\nRead frame: 812 from DSC_6299\nRead frame: 813 from DSC_6299\nRead frame: 814 from DSC_6299\nRead frame: 815 from DSC_6299\nRead frame: 816 from DSC_6299\nRead frame: 817 from DSC_6299\nRead frame: 818 from DSC_6299\nRead frame: 819 from DSC_6299\n"
     ]
    },
    {
     "name": "stdout",
     "output_type": "stream",
     "text": [
      "Read frame: 820 from DSC_6299\nRead frame: 821 from DSC_6299\nRead frame: 822 from DSC_6299\nRead frame: 823 from DSC_6299\nRead frame: 824 from DSC_6299\nRead frame: 825 from DSC_6299\nRead frame: 826 from DSC_6299\nRead frame: 827 from DSC_6299\nRead frame: 828 from DSC_6299\nRead frame: 829 from DSC_6299\nRead frame: 830 from DSC_6299\n"
     ]
    },
    {
     "name": "stdout",
     "output_type": "stream",
     "text": [
      "Read frame: 831 from DSC_6299\nRead frame: 832 from DSC_6299\nRead frame: 833 from DSC_6299\nRead frame: 834 from DSC_6299\nRead frame: 835 from DSC_6299\nRead frame: 836 from DSC_6299\nRead frame: 837 from DSC_6299\nRead frame: 838 from DSC_6299\nRead frame: 839 from DSC_6299\nRead frame: 840 from DSC_6299\n"
     ]
    },
    {
     "name": "stdout",
     "output_type": "stream",
     "text": [
      "Read frame: 841 from DSC_6299\nRead frame: 842 from DSC_6299\nRead frame: 843 from DSC_6299\nRead frame: 844 from DSC_6299\nRead frame: 845 from DSC_6299\nRead frame: 846 from DSC_6299\nRead frame: 847 from DSC_6299\nRead frame: 848 from DSC_6299\nRead frame: 849 from DSC_6299\n"
     ]
    },
    {
     "name": "stdout",
     "output_type": "stream",
     "text": [
      "Read frame: 850 from DSC_6299\nRead frame: 851 from DSC_6299\nRead frame: 852 from DSC_6299\nRead frame: 853 from DSC_6299\nRead frame: 854 from DSC_6299\nRead frame: 855 from DSC_6299\nRead frame: 856 from DSC_6299\nRead frame: 857 from DSC_6299\nRead frame: 858 from DSC_6299\n"
     ]
    },
    {
     "name": "stdout",
     "output_type": "stream",
     "text": [
      "Read frame: 859 from DSC_6299\nRead frame: 860 from DSC_6299\nRead frame: 861 from DSC_6299\nRead frame: 862 from DSC_6299\nRead frame: 863 from DSC_6299\nRead frame: 864 from DSC_6299\nRead frame: 865 from DSC_6299\nRead frame: 866 from DSC_6299\nRead frame: 867 from DSC_6299\nRead frame: 868 from DSC_6299\n"
     ]
    },
    {
     "name": "stdout",
     "output_type": "stream",
     "text": [
      "Read frame: 869 from DSC_6299\nRead frame: 870 from DSC_6299\nRead frame: 871 from DSC_6299\nRead frame: 872 from DSC_6299\nRead frame: 873 from DSC_6299\nRead frame: 874 from DSC_6299\nRead frame: 875 from DSC_6299\nRead frame: 876 from DSC_6299\nRead frame: 877 from DSC_6299\n"
     ]
    },
    {
     "name": "stdout",
     "output_type": "stream",
     "text": [
      "Read frame: 878 from DSC_6299\nRead frame: 879 from DSC_6299\nRead frame: 880 from DSC_6299\nRead frame: 881 from DSC_6299\nRead frame: 882 from DSC_6299\nRead frame: 883 from DSC_6299\nRead frame: 884 from DSC_6299\nRead frame: 885 from DSC_6299\nRead frame: 886 from DSC_6299\n"
     ]
    },
    {
     "name": "stdout",
     "output_type": "stream",
     "text": [
      "Read frame: 887 from DSC_6299\nRead frame: 888 from DSC_6299\nRead frame: 889 from DSC_6299\nRead frame: 890 from DSC_6299\nRead frame: 891 from DSC_6299\nRead frame: 892 from DSC_6299\nRead frame: 893 from DSC_6299\n"
     ]
    },
    {
     "name": "stdout",
     "output_type": "stream",
     "text": [
      "Read frame: 894 from DSC_6299\nRead frame: 895 from DSC_6299\nRead frame: 896 from DSC_6299\nRead frame: 897 from DSC_6299\nRead frame: 898 from DSC_6299\nRead frame: 899 from DSC_6299\n"
     ]
    },
    {
     "name": "stdout",
     "output_type": "stream",
     "text": [
      "Read frame: 900 from DSC_6299\nRead frame: 901 from DSC_6299\nRead frame: 902 from DSC_6299\nRead frame: 903 from DSC_6299\nRead frame: 904 from DSC_6299\nRead frame: 905 from DSC_6299\nRead frame: 906 from DSC_6299\nRead frame: 907 from DSC_6299\n"
     ]
    },
    {
     "name": "stdout",
     "output_type": "stream",
     "text": [
      "Read frame: 908 from DSC_6299\nRead frame: 909 from DSC_6299\nRead frame: 910 from DSC_6299\nRead frame: 911 from DSC_6299\nRead frame: 912 from DSC_6299\nRead frame: 913 from DSC_6299\nRead frame: 914 from DSC_6299\n"
     ]
    },
    {
     "name": "stdout",
     "output_type": "stream",
     "text": [
      "Read frame: 915 from DSC_6299\nRead frame: 916 from DSC_6299\nRead frame: 917 from DSC_6299\nRead frame: 918 from DSC_6299\nRead frame: 919 from DSC_6299\nRead frame: 920 from DSC_6299\nRead frame: 921 from DSC_6299\nRead frame: 922 from DSC_6299\n"
     ]
    },
    {
     "name": "stdout",
     "output_type": "stream",
     "text": [
      "Read frame: 923 from DSC_6299\nRead frame: 924 from DSC_6299\nRead frame: 925 from DSC_6299\nRead frame: 926 from DSC_6299\nRead frame: 927 from DSC_6299\nRead frame: 928 from DSC_6299\nRead frame: 929 from DSC_6299\n"
     ]
    },
    {
     "name": "stdout",
     "output_type": "stream",
     "text": [
      "Read frame: 930 from DSC_6299\nRead frame: 931 from DSC_6299\nRead frame: 932 from DSC_6299\nRead frame: 933 from DSC_6299\nRead frame: 934 from DSC_6299\nRead frame: 935 from DSC_6299\nRead frame: 936 from DSC_6299\nRead frame: 937 from DSC_6299\n"
     ]
    },
    {
     "name": "stdout",
     "output_type": "stream",
     "text": [
      "Read frame: 938 from DSC_6299\nRead frame: 939 from DSC_6299\nRead frame: 940 from DSC_6299\nRead frame: 941 from DSC_6299\nRead frame: 942 from DSC_6299\nRead frame: 943 from DSC_6299\nRead frame: 944 from DSC_6299\nRead frame: 945 from DSC_6299\n"
     ]
    },
    {
     "name": "stdout",
     "output_type": "stream",
     "text": [
      "Read frame: 946 from DSC_6299\nRead frame: 947 from DSC_6299\nRead frame: 948 from DSC_6299\nRead frame: 949 from DSC_6299\nRead frame: 950 from DSC_6299\nRead frame: 951 from DSC_6299\nRead frame: 952 from DSC_6299\nRead frame: 953 from DSC_6299\nRead frame: 954 from DSC_6299\n"
     ]
    },
    {
     "name": "stdout",
     "output_type": "stream",
     "text": [
      "Read frame: 955 from DSC_6299\nRead frame: 956 from DSC_6299\nRead frame: 957 from DSC_6299\nRead frame: 958 from DSC_6299\nRead frame: 959 from DSC_6299\nRead frame: 960 from DSC_6299\nRead frame: 961 from DSC_6299\nRead frame: 962 from DSC_6299\n"
     ]
    },
    {
     "name": "stdout",
     "output_type": "stream",
     "text": [
      "Read frame: 963 from DSC_6299\nRead frame: 964 from DSC_6299\nRead frame: 965 from DSC_6299\nRead frame: 966 from DSC_6299\nRead frame: 967 from DSC_6299\nRead frame: 968 from DSC_6299\nRead frame: 969 from DSC_6299\nRead frame: 970 from DSC_6299\nRead frame: 971 from DSC_6299\nRead frame: 972 from DSC_6299\n"
     ]
    },
    {
     "name": "stdout",
     "output_type": "stream",
     "text": [
      "Read frame: 973 from DSC_6299\nRead frame: 974 from DSC_6299\nRead frame: 975 from DSC_6299\nRead frame: 976 from DSC_6299\nRead frame: 977 from DSC_6299\nRead frame: 978 from DSC_6299\nRead frame: 979 from DSC_6299\nRead frame: 980 from DSC_6299\nRead frame: 981 from DSC_6299\n"
     ]
    },
    {
     "name": "stdout",
     "output_type": "stream",
     "text": [
      "Read frame: 982 from DSC_6299\nRead frame: 983 from DSC_6299\nRead frame: 984 from DSC_6299\nRead frame: 985 from DSC_6299\nRead frame: 986 from DSC_6299\nRead frame: 987 from DSC_6299\nRead frame: 988 from DSC_6299\nRead frame: 989 from DSC_6299\nRead frame: 990 from DSC_6299\nRead frame: 991 from DSC_6299\n"
     ]
    },
    {
     "name": "stdout",
     "output_type": "stream",
     "text": [
      "Read frame: 992 from DSC_6299\nRead frame: 993 from DSC_6299\nRead frame: 994 from DSC_6299\nRead frame: 995 from DSC_6299\nRead frame: 996 from DSC_6299\nRead frame: 997 from DSC_6299\nRead frame: 998 from DSC_6299\nRead frame: 999 from DSC_6299\nRead frame: 1000 from DSC_6299\nRead frame: 1001 from DSC_6299\n"
     ]
    },
    {
     "name": "stdout",
     "output_type": "stream",
     "text": [
      "Read frame: 1002 from DSC_6299\nRead frame: 1003 from DSC_6299\nRead frame: 1004 from DSC_6299\nRead frame: 1005 from DSC_6299\nRead frame: 1006 from DSC_6299\nRead frame: 1007 from DSC_6299\nRead frame: 1008 from DSC_6299\nRead frame: 1009 from DSC_6299\nRead frame: 1010 from DSC_6299\n"
     ]
    },
    {
     "name": "stdout",
     "output_type": "stream",
     "text": [
      "Read frame: 1011 from DSC_6299\nRead frame: 1012 from DSC_6299\nRead frame: 1013 from DSC_6299\nRead frame: 1014 from DSC_6299\nRead frame: 1015 from DSC_6299\nRead frame: 1016 from DSC_6299\nRead frame: 1017 from DSC_6299\nRead frame: 1018 from DSC_6299\nRead frame: 1019 from DSC_6299\nRead frame: 1020 from DSC_6299\n"
     ]
    },
    {
     "name": "stdout",
     "output_type": "stream",
     "text": [
      "Read frame: 1021 from DSC_6299\nRead frame: 1022 from DSC_6299\nRead frame: 1023 from DSC_6299\nRead frame: 1024 from DSC_6299\nRead frame: 1025 from DSC_6299\nRead frame: 1026 from DSC_6299\nRead frame: 1027 from DSC_6299\nRead frame: 1028 from DSC_6299\nRead frame: 1029 from DSC_6299\nRead frame: 1030 from DSC_6299\n"
     ]
    },
    {
     "name": "stdout",
     "output_type": "stream",
     "text": [
      "Read frame: 1031 from DSC_6299\nRead frame: 1032 from DSC_6299\nRead frame: 1033 from DSC_6299\nRead frame: 1034 from DSC_6299\nRead frame: 1035 from DSC_6299\nRead frame: 1036 from DSC_6299\nRead frame: 1037 from DSC_6299\nRead frame: 1038 from DSC_6299\n"
     ]
    },
    {
     "name": "stdout",
     "output_type": "stream",
     "text": [
      "Read frame: 1039 from DSC_6299\nRead frame: 1040 from DSC_6299\nRead frame: 1041 from DSC_6299\nRead frame: 1042 from DSC_6299\nRead frame: 1043 from DSC_6299\nRead frame: 1044 from DSC_6299\nRead frame: 1045 from DSC_6299\nRead frame: 1046 from DSC_6299\n"
     ]
    },
    {
     "name": "stdout",
     "output_type": "stream",
     "text": [
      "Read frame: 1047 from DSC_6299\nRead frame: 1048 from DSC_6299\nRead frame: 1049 from DSC_6299\nRead frame: 1050 from DSC_6299\nRead frame: 1051 from DSC_6299\nRead frame: 1052 from DSC_6299\nRead frame: 1053 from DSC_6299\nRead frame: 1054 from DSC_6299\nRead frame: 1055 from DSC_6299\n"
     ]
    },
    {
     "name": "stdout",
     "output_type": "stream",
     "text": [
      "Read frame: 1056 from DSC_6299\nRead frame: 1057 from DSC_6299\nRead frame: 1058 from DSC_6299\nRead frame: 1059 from DSC_6299\nRead frame: 1060 from DSC_6299\nRead frame: 1061 from DSC_6299\nRead frame: 1062 from DSC_6299\nRead frame: 1063 from DSC_6299\n"
     ]
    },
    {
     "name": "stdout",
     "output_type": "stream",
     "text": [
      "Read frame: 1064 from DSC_6299\nRead frame: 1065 from DSC_6299\nRead frame: 1066 from DSC_6299\nRead frame: 1067 from DSC_6299\nRead frame: 1068 from DSC_6299\nRead frame: 1069 from DSC_6299\nRead frame: 1070 from DSC_6299\nRead frame: 1071 from DSC_6299\n"
     ]
    },
    {
     "name": "stdout",
     "output_type": "stream",
     "text": [
      "Read frame: 1072 from DSC_6299\nRead frame: 1073 from DSC_6299\nRead frame: 1074 from DSC_6299\nRead frame: 1075 from DSC_6299\nRead frame: 1076 from DSC_6299\nRead frame: 1077 from DSC_6299\nRead frame: 1078 from DSC_6299\nRead frame: 1079 from DSC_6299\nRead frame: 1080 from DSC_6299\n"
     ]
    },
    {
     "name": "stdout",
     "output_type": "stream",
     "text": [
      "Read frame: 1081 from DSC_6299\nRead frame: 1082 from DSC_6299\nRead frame: 1083 from DSC_6299\nRead frame: 1084 from DSC_6299\nRead frame: 1085 from DSC_6299\nRead frame: 1086 from DSC_6299\nRead frame: 1087 from DSC_6299\n"
     ]
    },
    {
     "name": "stdout",
     "output_type": "stream",
     "text": [
      "Read frame: 1088 from DSC_6299\nRead frame: 1089 from DSC_6299\nRead frame: 1090 from DSC_6299\nRead frame: 1091 from DSC_6299\nRead frame: 1092 from DSC_6299\nRead frame: 1093 from DSC_6299\nRead frame: 1094 from DSC_6299\nRead frame: 1095 from DSC_6299\nRead frame: 1096 from DSC_6299\n"
     ]
    },
    {
     "name": "stdout",
     "output_type": "stream",
     "text": [
      "Read frame: 1097 from DSC_6299\nRead frame: 1098 from DSC_6299\nRead frame: 1099 from DSC_6299\nRead frame: 1100 from DSC_6299\nRead frame: 1101 from DSC_6299\nRead frame: 1102 from DSC_6299\nRead frame: 1103 from DSC_6299\nRead frame: 1104 from DSC_6299\n"
     ]
    },
    {
     "name": "stdout",
     "output_type": "stream",
     "text": [
      "Read frame: 1105 from DSC_6299\nRead frame: 1106 from DSC_6299\nRead frame: 1107 from DSC_6299\nRead frame: 1108 from DSC_6299\nRead frame: 1109 from DSC_6299\nRead frame: 1110 from DSC_6299\nRead frame: 1111 from DSC_6299\nRead frame: 1112 from DSC_6299"
     ]
    },
    {
     "name": "stdout",
     "output_type": "stream",
     "text": [
      "\nRead frame: 1113 from DSC_6299\nRead frame: 1114 from DSC_6299\nRead frame: 1115 from DSC_6299\nRead frame: 1116 from DSC_6299\nRead frame: 1117 from DSC_6299\nRead frame: 1118 from DSC_6299\nRead frame: 1119 from DSC_6299\nRead frame: 1120 from DSC_6299\nRead frame: 1121 from DSC_6299\n"
     ]
    },
    {
     "name": "stdout",
     "output_type": "stream",
     "text": [
      "Read frame: 1122 from DSC_6299\nRead frame: 1123 from DSC_6299\nRead frame: 1124 from DSC_6299\nRead frame: 1125 from DSC_6299\nRead frame: 1126 from DSC_6299\nRead frame: 1127 from DSC_6299\nRead frame: 1128 from DSC_6299\nRead frame: 1129 from DSC_6299\nRead frame: 1130 from DSC_6299\nRead frame: 1131 from DSC_6299\n"
     ]
    },
    {
     "name": "stdout",
     "output_type": "stream",
     "text": [
      "Read frame: 1132 from DSC_6299\nRead frame: 1133 from DSC_6299\nRead frame: 1134 from DSC_6299\nRead frame: 1135 from DSC_6299\nRead frame: 1136 from DSC_6299\nRead frame: 1137 from DSC_6299\nRead frame: 1138 from DSC_6299\nRead frame: 1139 from DSC_6299\nRead frame: 1140 from DSC_6299\nRead frame: 1141 from DSC_6299\n"
     ]
    },
    {
     "name": "stdout",
     "output_type": "stream",
     "text": [
      "Read frame: 1142 from DSC_6299\nRead frame: 1143 from DSC_6299\nRead frame: 1144 from DSC_6299\nRead frame: 1145 from DSC_6299\nRead frame: 1146 from DSC_6299\nRead frame: 1147 from DSC_6299\nRead frame: 1148 from DSC_6299\nRead frame: 1149 from DSC_6299\nRead frame: 1150 from DSC_6299\nRead frame: 1151 from DSC_6299\nRead frame: 1152 from DSC_6299\n"
     ]
    },
    {
     "name": "stdout",
     "output_type": "stream",
     "text": [
      "Read frame: 1153 from DSC_6299\nRead frame: 1154 from DSC_6299\nRead frame: 1155 from DSC_6299\nRead frame: 1156 from DSC_6299\nRead frame: 1157 from DSC_6299\nRead frame: 1158 from DSC_6299\nRead frame: 1159 from DSC_6299\nRead frame: 1160 from DSC_6299\nRead frame: 1161 from DSC_6299\nRead frame: 1162 from DSC_6299\nRead frame: 1163 from DSC_6299\n"
     ]
    },
    {
     "name": "stdout",
     "output_type": "stream",
     "text": [
      "Read frame: 1164 from DSC_6299\nRead frame: 1165 from DSC_6299\nRead frame: 1166 from DSC_6299\nRead frame: 1167 from DSC_6299\nRead frame: 1168 from DSC_6299\nRead frame: 1169 from DSC_6299\nRead frame: 1170 from DSC_6299\nRead frame: 1171 from DSC_6299\nRead frame: 1172 from DSC_6299\nRead frame: 1173 from DSC_6299\nRead frame: 1174 from DSC_6299\n"
     ]
    },
    {
     "name": "stdout",
     "output_type": "stream",
     "text": [
      "Read frame: 1175 from DSC_6299\nRead frame: 1176 from DSC_6299\nRead frame: 1177 from DSC_6299\nRead frame: 1178 from DSC_6299\nRead frame: 1179 from DSC_6299\nRead frame: 1180 from DSC_6299\nRead frame: 1181 from DSC_6299\nRead frame: 1182 from DSC_6299\nRead frame: 1183 from DSC_6299\nRead frame: 1184 from DSC_6299\nRead frame: 1185 from DSC_6299\nRead frame: 1186 from DSC_6299\n"
     ]
    },
    {
     "name": "stdout",
     "output_type": "stream",
     "text": [
      "Read frame: 1187 from DSC_6299\nRead frame: 1188 from DSC_6299\nRead frame: 1189 from DSC_6299\nRead frame: 1190 from DSC_6299\nRead frame: 1191 from DSC_6299\nRead frame: 1192 from DSC_6299\nRead frame: 1193 from DSC_6299\nRead frame: 1194 from DSC_6299\nRead frame: 1195 from DSC_6299\nRead frame: 1196 from DSC_6299\nRead frame: 1197 from DSC_6299\nRead frame: 1198 from DSC_6299\nRead frame: 1199 from DSC_6299\n"
     ]
    },
    {
     "name": "stdout",
     "output_type": "stream",
     "text": [
      "Read frame: 1200 from DSC_6299\nRead frame: 1201 from DSC_6299\nRead frame: 1202 from DSC_6299\nRead frame: 1203 from DSC_6299\nRead frame: 1204 from DSC_6299\nRead frame: 1205 from DSC_6299\nRead frame: 1206 from DSC_6299\nRead frame: 1207 from DSC_6299\nRead frame: 1208 from DSC_6299\nRead frame: 1209 from DSC_6299\nRead frame: 1210 from DSC_6299\nRead frame: 1211 from DSC_6299\nRead frame: 1212 from DSC_6299\n"
     ]
    },
    {
     "name": "stdout",
     "output_type": "stream",
     "text": [
      "Read frame: 1213 from DSC_6299\nRead frame: 1214 from DSC_6299\nRead frame: 1215 from DSC_6299\nRead frame: 1216 from DSC_6299\nRead frame: 1217 from DSC_6299\nRead frame: 1218 from DSC_6299\nRead frame: 1219 from DSC_6299\nRead frame: 1220 from DSC_6299\nRead frame: 1221 from DSC_6299"
     ]
    },
    {
     "name": "stdout",
     "output_type": "stream",
     "text": [
      "\nRead frame: 1222 from DSC_6299\nRead frame: 1223 from DSC_6299\nRead frame: 1224 from DSC_6299\nRead frame: 1225 from DSC_6299\nRead frame: 1226 from DSC_6299\nRead frame: 1227 from DSC_6299\n"
     ]
    },
    {
     "name": "stdout",
     "output_type": "stream",
     "text": [
      "Read frame: 1228 from DSC_6299\nRead frame: 1229 from DSC_6299\nRead frame: 1230 from DSC_6299\nRead frame: 1231 from DSC_6299\nRead frame: 1232 from DSC_6299\nRead frame: 1233 from DSC_6299\nRead frame: 1234 from DSC_6299\nRead frame: 1235 from DSC_6299\nRead frame: 1236 from DSC_6299\n"
     ]
    },
    {
     "name": "stdout",
     "output_type": "stream",
     "text": [
      "Read frame: 1237 from DSC_6299\nRead frame: 1238 from DSC_6299\nRead frame: 1239 from DSC_6299\nRead frame: 1240 from DSC_6299\nRead frame: 1241 from DSC_6299\nRead frame: 1242 from DSC_6299\nRead frame: 1243 from DSC_6299\nRead frame: 1244 from DSC_6299\nRead frame: 1245 from DSC_6299\nRead frame: 1246 from DSC_6299\nRead frame: 1247 from DSC_6299\n"
     ]
    },
    {
     "name": "stdout",
     "output_type": "stream",
     "text": [
      "Read frame: 1248 from DSC_6299\nRead frame: 1249 from DSC_6299\nRead frame: 1250 from DSC_6299\nRead frame: 1251 from DSC_6299\nRead frame: 1252 from DSC_6299\nRead frame: 1253 from DSC_6299\nRead frame: 1254 from DSC_6299\nRead frame: 1255 from DSC_6299\nRead frame: 1256 from DSC_6299\nRead frame: 1257 from DSC_6299\nRead frame: 1258 from DSC_6299"
     ]
    },
    {
     "name": "stdout",
     "output_type": "stream",
     "text": [
      "\nRead frame: 1259 from DSC_6299\nRead frame: 1260 from DSC_6299\nRead frame: 1261 from DSC_6299\nRead frame: 1262 from DSC_6299\nRead frame: 1263 from DSC_6299\nRead frame: 1264 from DSC_6299\nRead frame: 1265 from DSC_6299\nRead frame: 1266 from DSC_6299\nRead frame: 1267 from DSC_6299\nRead frame: 1268 from DSC_6299\n"
     ]
    },
    {
     "name": "stdout",
     "output_type": "stream",
     "text": [
      "Read frame: 1269 from DSC_6299\nRead frame: 1270 from DSC_6299\nRead frame: 1271 from DSC_6299\nRead frame: 1272 from DSC_6299\nRead frame: 1273 from DSC_6299\nRead frame: 1274 from DSC_6299\nRead frame: 1275 from DSC_6299\nRead frame: 1276 from DSC_6299\nRead frame: 1277 from DSC_6299\nRead frame: 1278 from DSC_6299"
     ]
    },
    {
     "name": "stdout",
     "output_type": "stream",
     "text": [
      "\nRead frame: 1279 from DSC_6299\nRead frame: 1280 from DSC_6299\nRead frame: 1281 from DSC_6299\nRead frame: 1282 from DSC_6299\nRead frame: 1283 from DSC_6299\nRead frame: 1284 from DSC_6299\nRead frame: 1285 from DSC_6299\nRead frame: 1286 from DSC_6299\n"
     ]
    },
    {
     "name": "stdout",
     "output_type": "stream",
     "text": [
      "Read frame: 1287 from DSC_6299\nRead frame: 1288 from DSC_6299\nRead frame: 1289 from DSC_6299\nRead frame: 1290 from DSC_6299\nRead frame: 1291 from DSC_6299\nRead frame: 1292 from DSC_6299\nRead frame: 1293 from DSC_6299\nRead frame: 1294 from DSC_6299\n"
     ]
    },
    {
     "name": "stdout",
     "output_type": "stream",
     "text": [
      "Read frame: 1295 from DSC_6299\nRead frame: 1296 from DSC_6299\nRead frame: 1297 from DSC_6299\nRead frame: 1298 from DSC_6299\nRead frame: 1299 from DSC_6299\nRead frame: 1300 from DSC_6299\nRead frame: 1301 from DSC_6299\nRead frame: 1302 from DSC_6299\nRead frame: 1303 from DSC_6299\nRead frame: 1304 from DSC_6299\n"
     ]
    },
    {
     "name": "stdout",
     "output_type": "stream",
     "text": [
      "Read frame: 1305 from DSC_6299\nRead frame: 1306 from DSC_6299\nRead frame: 1307 from DSC_6299\nRead frame: 1308 from DSC_6299\nRead frame: 1309 from DSC_6299\nRead frame: 1310 from DSC_6299\nRead frame: 1311 from DSC_6299\nRead frame: 1312 from DSC_6299\nRead frame: 1313 from DSC_6299\nRead frame: 1314 from DSC_6299\n"
     ]
    },
    {
     "name": "stdout",
     "output_type": "stream",
     "text": [
      "Read frame: 1315 from DSC_6299\nRead frame: 1316 from DSC_6299\nRead frame: 1317 from DSC_6299\nRead frame: 1318 from DSC_6299\nRead frame: 1319 from DSC_6299\nRead frame: 1320 from DSC_6299\nRead frame: 1321 from DSC_6299\nRead frame: 1322 from DSC_6299\nRead frame: 1323 from DSC_6299\nRead frame: 1324 from DSC_6299\n"
     ]
    },
    {
     "name": "stdout",
     "output_type": "stream",
     "text": [
      "Read frame: 1325 from DSC_6299\nRead frame: 1326 from DSC_6299\nRead frame: 1327 from DSC_6299\nRead frame: 1328 from DSC_6299\nRead frame: 1329 from DSC_6299\nRead frame: 1330 from DSC_6299\nRead frame: 1331 from DSC_6299\nRead frame: 1332 from DSC_6299\nRead frame: 1333 from DSC_6299\nRead frame: 1334 from DSC_6299\nRead frame: 1335 from DSC_6299\n"
     ]
    },
    {
     "name": "stdout",
     "output_type": "stream",
     "text": [
      "Read frame: 1336 from DSC_6299\nRead frame: 1337 from DSC_6299\nRead frame: 1338 from DSC_6299\nRead frame: 1339 from DSC_6299\nRead frame: 1340 from DSC_6299\nRead frame: 1341 from DSC_6299\nRead frame: 1342 from DSC_6299\nRead frame: 1343 from DSC_6299\nRead frame: 1344 from DSC_6299\nRead frame: 1345 from DSC_6299\n"
     ]
    },
    {
     "name": "stdout",
     "output_type": "stream",
     "text": [
      "Read frame: 1346 from DSC_6299\nRead frame: 1347 from DSC_6299\nRead frame: 1348 from DSC_6299\nRead frame: 1349 from DSC_6299\nRead frame: 1350 from DSC_6299\nRead frame: 1351 from DSC_6299\nRead frame: 1352 from DSC_6299\nRead frame: 1353 from DSC_6299\nRead frame: 1354 from DSC_6299\nRead frame: 1355 from DSC_6299"
     ]
    },
    {
     "name": "stdout",
     "output_type": "stream",
     "text": [
      "\nRead frame: 1356 from DSC_6299\nRead frame: 1357 from DSC_6299\nRead frame: 1358 from DSC_6299\nRead frame: 1359 from DSC_6299\nRead frame: 1360 from DSC_6299\nRead frame: 1361 from DSC_6299\nRead frame: 1362 from DSC_6299\nRead frame: 1363 from DSC_6299\nRead frame: 1364 from DSC_6299\nRead frame: 1365 from DSC_6299\n"
     ]
    },
    {
     "name": "stdout",
     "output_type": "stream",
     "text": [
      "Read frame: 1366 from DSC_6299\nRead frame: 1367 from DSC_6299\nRead frame: 1368 from DSC_6299\nRead frame: 1369 from DSC_6299\nRead frame: 1370 from DSC_6299\nRead frame: 1371 from DSC_6299\nRead frame: 1372 from DSC_6299\nRead frame: 1373 from DSC_6299\nRead frame: 1374 from DSC_6299\nRead frame: 1375 from DSC_6299\nRead frame: 1376 from DSC_6299\nRead frame: 1377 from DSC_6299\nRead frame: 1378 from DSC_6299\n"
     ]
    },
    {
     "name": "stdout",
     "output_type": "stream",
     "text": [
      "Read frame: 1379 from DSC_6299\nRead frame: 1380 from DSC_6299\nRead frame: 1381 from DSC_6299\nRead frame: 1382 from DSC_6299\nRead frame: 1383 from DSC_6299\nRead frame: 1384 from DSC_6299\nRead frame: 1385 from DSC_6299\nRead frame: 1386 from DSC_6299\nRead frame: 1387 from DSC_6299\nRead frame: 1388 from DSC_6299\nRead frame: 1389 from DSC_6299\nRead frame: 1390 from DSC_6299\nRead frame: 1391 from DSC_6299\n"
     ]
    },
    {
     "name": "stdout",
     "output_type": "stream",
     "text": [
      "Read frame: 1392 from DSC_6299\nRead frame: 1393 from DSC_6299\nRead frame: 1394 from DSC_6299\nRead frame: 1395 from DSC_6299\nRead frame: 1396 from DSC_6299\nRead frame: 1397 from DSC_6299\nRead frame: 1398 from DSC_6299\nRead frame: 1399 from DSC_6299\nRead frame: 1400 from DSC_6299\nRead frame: 1401 from DSC_6299\nRead frame: 1402 from DSC_6299\nRead frame: 1403 from DSC_6299\nRead frame: 1404 from DSC_6299\n"
     ]
    },
    {
     "name": "stdout",
     "output_type": "stream",
     "text": [
      "Read frame: 1405 from DSC_6299\nRead frame: 1406 from DSC_6299\nRead frame: 1407 from DSC_6299\nRead frame: 1408 from DSC_6299\nRead frame: 1409 from DSC_6299\nRead frame: 1410 from DSC_6299\nRead frame: 1411 from DSC_6299\n"
     ]
    },
    {
     "name": "stdout",
     "output_type": "stream",
     "text": [
      "Read frame: 1412 from DSC_6299\nRead frame: 1413 from DSC_6299\nRead frame: 1414 from DSC_6299\nRead frame: 1415 from DSC_6299\nRead frame: 1416 from DSC_6299\nRead frame: 1417 from DSC_6299\nRead frame: 1418 from DSC_6299\n"
     ]
    },
    {
     "name": "stdout",
     "output_type": "stream",
     "text": [
      "Read frame: 1419 from DSC_6299\nRead frame: 1420 from DSC_6299\nRead frame: 1421 from DSC_6299\nRead frame: 1422 from DSC_6299\nRead frame: 1423 from DSC_6299\nRead frame: 1424 from DSC_6299\nRead frame: 1425 from DSC_6299\nRead frame: 1426 from DSC_6299"
     ]
    },
    {
     "name": "stdout",
     "output_type": "stream",
     "text": [
      "\nRead frame: 1427 from DSC_6299\nRead frame: 1428 from DSC_6299\nRead frame: 1429 from DSC_6299\nRead frame: 1430 from DSC_6299\nRead frame: 1431 from DSC_6299\nRead frame: 1432 from DSC_6299\nRead frame: 1433 from DSC_6299\nRead frame: 1434 from DSC_6299\nRead frame: 1435 from DSC_6299\n"
     ]
    },
    {
     "name": "stdout",
     "output_type": "stream",
     "text": [
      "Read frame: 1436 from DSC_6299\nRead frame: 1437 from DSC_6299\nRead frame: 1438 from DSC_6299\nRead frame: 1439 from DSC_6299\nRead frame: 1440 from DSC_6299\nRead frame: 1441 from DSC_6299\nRead frame: 1442 from DSC_6299\nRead frame: 1443 from DSC_6299\nRead frame: 1444 from DSC_6299\nRead frame: 1445 from DSC_6299\n"
     ]
    },
    {
     "name": "stdout",
     "output_type": "stream",
     "text": [
      "Read frame: 1446 from DSC_6299\nRead frame: 1447 from DSC_6299\nRead frame: 1448 from DSC_6299\nRead frame: 1449 from DSC_6299\nRead frame: 1450 from DSC_6299\nRead frame: 1451 from DSC_6299\nRead frame: 1452 from DSC_6299\nRead frame: 1453 from DSC_6299\nRead frame: 1454 from DSC_6299\n"
     ]
    },
    {
     "name": "stdout",
     "output_type": "stream",
     "text": [
      "Read frame: 1455 from DSC_6299\nRead frame: 1456 from DSC_6299\nRead frame: 1457 from DSC_6299\nRead frame: 1458 from DSC_6299\nRead frame: 1459 from DSC_6299\nRead frame: 1460 from DSC_6299\nRead frame: 1461 from DSC_6299\nRead frame: 1462 from DSC_6299\nRead frame: 1463 from DSC_6299\nRead frame: 1464 from DSC_6299\n"
     ]
    },
    {
     "name": "stdout",
     "output_type": "stream",
     "text": [
      "Read frame: 1465 from DSC_6299\nRead frame: 1466 from DSC_6299\nRead frame: 1467 from DSC_6299\nRead frame: 1468 from DSC_6299\nRead frame: 1469 from DSC_6299\nRead frame: 1470 from DSC_6299\nRead frame: 1471 from DSC_6299\nRead frame: 1472 from DSC_6299\nRead frame: 1473 from DSC_6299\nRead frame: 1474 from DSC_6299\n"
     ]
    },
    {
     "name": "stdout",
     "output_type": "stream",
     "text": [
      "Read frame: 1475 from DSC_6299\nRead frame: 1476 from DSC_6299\nRead frame: 1477 from DSC_6299\nRead frame: 1478 from DSC_6299\nRead frame: 1479 from DSC_6299\nRead frame: 1480 from DSC_6299\nRead frame: 1481 from DSC_6299\nRead frame: 1482 from DSC_6299\nRead frame: 1483 from DSC_6299\nRead frame: 1484 from DSC_6299\nRead frame: 1485 from DSC_6299\nRead frame: 1486 from DSC_6299\nRead frame: 1487 from DSC_6299\n"
     ]
    },
    {
     "name": "stdout",
     "output_type": "stream",
     "text": [
      "Read frame: 1488 from DSC_6299\nRead frame: 1489 from DSC_6299\nRead frame: 1490 from DSC_6299\nRead frame: 1491 from DSC_6299\nRead frame: 1492 from DSC_6299\nRead frame: 1493 from DSC_6299\nRead frame: 1494 from DSC_6299\nRead frame: 1495 from DSC_6299\nRead frame: 1496 from DSC_6299\nRead frame: 1497 from DSC_6299\nRead frame: 1498 from DSC_6299\nRead frame: 1499 from DSC_6299\nRead frame: 1500 from DSC_6299\n"
     ]
    },
    {
     "name": "stdout",
     "output_type": "stream",
     "text": [
      "Read frame: 1501 from DSC_6299\nRead frame: 1502 from DSC_6299\nRead frame: 1503 from DSC_6299\nRead frame: 1504 from DSC_6299\nRead frame: 1505 from DSC_6299\nRead frame: 1506 from DSC_6299\nRead frame: 1507 from DSC_6299\nRead frame: 1508 from DSC_6299\nRead frame: 1509 from DSC_6299\nRead frame: 1510 from DSC_6299\nRead frame: 1511 from DSC_6299\nRead frame: 1512 from DSC_6299\nRead frame: 1513 from DSC_6299\n"
     ]
    },
    {
     "name": "stdout",
     "output_type": "stream",
     "text": [
      "Read frame: 1514 from DSC_6299\nRead frame: 1515 from DSC_6299\nRead frame: 1516 from DSC_6299\nRead frame: 1517 from DSC_6299\nRead frame: 1518 from DSC_6299\nRead frame: 1519 from DSC_6299\nRead frame: 1520 from DSC_6299\nRead frame: 1521 from DSC_6299\nRead frame: 1522 from DSC_6299\nRead frame: 1523 from DSC_6299\nRead frame: 1524 from DSC_6299\n"
     ]
    },
    {
     "name": "stdout",
     "output_type": "stream",
     "text": [
      "Read frame: 1525 from DSC_6299\nRead frame: 1526 from DSC_6299\nRead frame: 1527 from DSC_6299\nRead frame: 1528 from DSC_6299\nRead frame: 1529 from DSC_6299\nRead frame: 1530 from DSC_6299\nRead frame: 1531 from DSC_6299\nRead frame: 1532 from DSC_6299\nRead frame: 1533 from DSC_6299\nRead frame: 1534 from DSC_6299\nRead frame: 1535 from DSC_6299\nRead frame: 1536 from DSC_6299\n"
     ]
    },
    {
     "name": "stdout",
     "output_type": "stream",
     "text": [
      "Read frame: 1537 from DSC_6299\nRead frame: 1538 from DSC_6299\nRead frame: 1539 from DSC_6299\nRead frame: 1540 from DSC_6299\nRead frame: 1541 from DSC_6299\nRead frame: 1542 from DSC_6299\nRead frame: 1543 from DSC_6299\nRead frame: 1544 from DSC_6299\nRead frame: 1545 from DSC_6299\nRead frame: 1546 from DSC_6299\nRead frame: 1547 from DSC_6299\nRead frame: 1548 from DSC_6299\n"
     ]
    },
    {
     "name": "stdout",
     "output_type": "stream",
     "text": [
      "Read frame: 1549 from DSC_6299\nRead frame: 1550 from DSC_6299\nRead frame: 1551 from DSC_6299\nRead frame: 1552 from DSC_6299\nRead frame: 1553 from DSC_6299\nRead frame: 1554 from DSC_6299\nRead frame: 1555 from DSC_6299\nRead frame: 1556 from DSC_6299\nRead frame: 1557 from DSC_6299\nRead frame: 1558 from DSC_6299\nRead frame: 1559 from DSC_6299\nRead frame: 1560 from DSC_6299\nRead frame: 1561 from DSC_6299\nRead frame: 1562 from DSC_6299\nRead frame: 1563 from DSC_6299\n"
     ]
    },
    {
     "name": "stdout",
     "output_type": "stream",
     "text": [
      "Read frame: 1564 from DSC_6299\nRead frame: 1565 from DSC_6299\nRead frame: 1566 from DSC_6299\nRead frame: 1567 from DSC_6299\nRead frame: 1568 from DSC_6299\nRead frame: 1569 from DSC_6299\nRead frame: 1570 from DSC_6299\nRead frame: 1571 from DSC_6299\nRead frame: 1572 from DSC_6299\nRead frame: 1573 from DSC_6299\nRead frame: 1574 from DSC_6299\nRead frame: 1575 from DSC_6299\nRead frame: 1576 from DSC_6299\n"
     ]
    },
    {
     "name": "stdout",
     "output_type": "stream",
     "text": [
      "Read frame: 1577 from DSC_6299\nRead frame: 1578 from DSC_6299\nRead frame: 1579 from DSC_6299\nRead frame: 1580 from DSC_6299\nRead frame: 1581 from DSC_6299\nRead frame: 1582 from DSC_6299\nRead frame: 1583 from DSC_6299\nRead frame: 1584 from DSC_6299\nRead frame: 1585 from DSC_6299\nRead frame: 1586 from DSC_6299\nRead frame: 1587 from DSC_6299\n"
     ]
    },
    {
     "name": "stdout",
     "output_type": "stream",
     "text": [
      "Read frame: 1588 from DSC_6299\nRead frame: 1589 from DSC_6299\nRead frame: 1590 from DSC_6299\nRead frame: 1591 from DSC_6299\nRead frame: 1592 from DSC_6299\nRead frame: 1593 from DSC_6299\nRead frame: 1594 from DSC_6299\nRead frame: 1595 from DSC_6299\nRead frame: 1596 from DSC_6299\nRead frame: 1597 from DSC_6299\nRead frame: 1598 from DSC_6299\n"
     ]
    },
    {
     "name": "stdout",
     "output_type": "stream",
     "text": [
      "Read frame: 1599 from DSC_6299\nRead frame: 1600 from DSC_6299\nRead frame: 1601 from DSC_6299\nRead frame: 1602 from DSC_6299\nRead frame: 1603 from DSC_6299\nRead frame: 1604 from DSC_6299\nRead frame: 1605 from DSC_6299\nRead frame: 1606 from DSC_6299\nRead frame: 1607 from DSC_6299\nRead frame: 1608 from DSC_6299\n"
     ]
    },
    {
     "name": "stdout",
     "output_type": "stream",
     "text": [
      "Read frame: 1609 from DSC_6299\nRead frame: 1610 from DSC_6299\nRead frame: 1611 from DSC_6299\nRead frame: 1612 from DSC_6299\nRead frame: 1613 from DSC_6299\nRead frame: 1614 from DSC_6299\nRead frame: 1615 from DSC_6299"
     ]
    },
    {
     "name": "stdout",
     "output_type": "stream",
     "text": [
      "\nRead frame: 1616 from DSC_6299\nRead frame: 1617 from DSC_6299\nRead frame: 1618 from DSC_6299\nRead frame: 1619 from DSC_6299\nRead frame: 1620 from DSC_6299\nRead frame: 1621 from DSC_6299\nRead frame: 1622 from DSC_6299\nRead frame: 1623 from DSC_6299\n"
     ]
    },
    {
     "name": "stdout",
     "output_type": "stream",
     "text": [
      "Read frame: 1624 from DSC_6299\nRead frame: 1625 from DSC_6299\nRead frame: 1626 from DSC_6299\nRead frame: 1627 from DSC_6299\nRead frame: 1628 from DSC_6299\nRead frame: 1629 from DSC_6299\nRead frame: 1630 from DSC_6299\nRead frame: 1631 from DSC_6299\nRead frame: 1632 from DSC_6299\nRead frame: 1633 from DSC_6299\nRead frame: 1634 from DSC_6299\n"
     ]
    },
    {
     "name": "stdout",
     "output_type": "stream",
     "text": [
      "Read frame: 1635 from DSC_6299\nRead frame: 1636 from DSC_6299\nRead frame: 1637 from DSC_6299\nRead frame: 1638 from DSC_6299\nRead frame: 1639 from DSC_6299\nRead frame: 1640 from DSC_6299\nRead frame: 1641 from DSC_6299\nRead frame: 1642 from DSC_6299\nRead frame: 1643 from DSC_6299\nRead frame: 1644 from DSC_6299\nRead frame: 1645 from DSC_6299\n"
     ]
    },
    {
     "name": "stdout",
     "output_type": "stream",
     "text": [
      "Read frame: 1646 from DSC_6299\nRead frame: 1647 from DSC_6299\nRead frame: 1648 from DSC_6299\nRead frame: 1649 from DSC_6299\nRead frame: 1650 from DSC_6299\nRead frame: 1651 from DSC_6299\nRead frame: 1652 from DSC_6299\nRead frame: 1653 from DSC_6299\nRead frame: 1654 from DSC_6299\nRead frame: 1655 from DSC_6299\nRead frame: 1656 from DSC_6299\nRead frame: 1657 from DSC_6299\n"
     ]
    },
    {
     "name": "stdout",
     "output_type": "stream",
     "text": [
      "Read frame: 1658 from DSC_6299\nRead frame: 1659 from DSC_6299\nRead frame: 1660 from DSC_6299\nRead frame: 1661 from DSC_6299\nRead frame: 1662 from DSC_6299\nRead frame: 1663 from DSC_6299\nRead frame: 1664 from DSC_6299\nRead frame: 1665 from DSC_6299\nRead frame: 1666 from DSC_6299\n"
     ]
    },
    {
     "name": "stdout",
     "output_type": "stream",
     "text": [
      "Read frame: 1667 from DSC_6299\nRead frame: 1668 from DSC_6299\nRead frame: 1669 from DSC_6299\nRead frame: 1670 from DSC_6299\nRead frame: 1671 from DSC_6299\nRead frame: 1672 from DSC_6299\nRead frame: 1673 from DSC_6299\nRead frame: 1674 from DSC_6299\nRead frame: 1675 from DSC_6299\nRead frame: 1676 from DSC_6299\nRead frame: 1677 from DSC_6299\n"
     ]
    },
    {
     "name": "stdout",
     "output_type": "stream",
     "text": [
      "Read frame: 1678 from DSC_6299\nRead frame: 1679 from DSC_6299\nRead frame: 1680 from DSC_6299\nRead frame: 1681 from DSC_6299\nRead frame: 1682 from DSC_6299\nRead frame: 1683 from DSC_6299\nRead frame: 1684 from DSC_6299\nRead frame: 1685 from DSC_6299\nRead frame: 1686 from DSC_6299\nRead frame: 1687 from DSC_6299\nRead frame: 1688 from DSC_6299\nRead frame: 1689 from DSC_6299\n"
     ]
    },
    {
     "name": "stdout",
     "output_type": "stream",
     "text": [
      "Read frame: 1690 from DSC_6299\nRead frame: 1691 from DSC_6299\nRead frame: 1692 from DSC_6299\nRead frame: 1693 from DSC_6299\nRead frame: 1694 from DSC_6299\nRead frame: 1695 from DSC_6299\nRead frame: 1696 from DSC_6299\nRead frame: 1697 from DSC_6299\nRead frame: 1698 from DSC_6299\nRead frame: 1699 from DSC_6299\nRead frame: 1700 from DSC_6299\nRead frame: 1701 from DSC_6299\n"
     ]
    },
    {
     "name": "stdout",
     "output_type": "stream",
     "text": [
      "Read frame: 1702 from DSC_6299\nRead frame: 1703 from DSC_6299\nRead frame: 1704 from DSC_6299\nRead frame: 1705 from DSC_6299\nRead frame: 1706 from DSC_6299\nRead frame: 1707 from DSC_6299\nRead frame: 1708 from DSC_6299\nRead frame: 1709 from DSC_6299\nRead frame: 1710 from DSC_6299\nRead frame: 1711 from DSC_6299\nRead frame: 1712 from DSC_6299\nRead frame: 1713 from DSC_6299\nRead frame: 1714 from DSC_6299\n"
     ]
    },
    {
     "name": "stdout",
     "output_type": "stream",
     "text": [
      "Read frame: 1715 from DSC_6299\nRead frame: 1716 from DSC_6299\nRead frame: 1717 from DSC_6299\nRead frame: 1718 from DSC_6299\nRead frame: 1719 from DSC_6299\nRead frame: 1720 from DSC_6299\nRead frame: 1721 from DSC_6299\nRead frame: 1722 from DSC_6299\nRead frame: 1723 from DSC_6299\nRead frame: 1724 from DSC_6299\nRead frame: 1725 from DSC_6299\nRead frame: 1726 from DSC_6299\n"
     ]
    },
    {
     "name": "stdout",
     "output_type": "stream",
     "text": [
      "Read frame: 1727 from DSC_6299\nRead frame: 1728 from DSC_6299\nRead frame: 1729 from DSC_6299\nRead frame: 1730 from DSC_6299\nRead frame: 1731 from DSC_6299\nRead frame: 1732 from DSC_6299\nRead frame: 1733 from DSC_6299\nRead frame: 1734 from DSC_6299\nRead frame: 1735 from DSC_6299\nRead frame: 1736 from DSC_6299\nRead frame: 1737 from DSC_6299\n"
     ]
    },
    {
     "name": "stdout",
     "output_type": "stream",
     "text": [
      "Read frame: 1738 from DSC_6299\nRead frame: 1739 from DSC_6299\nRead frame: 1740 from DSC_6299\nRead frame: 1741 from DSC_6299\nRead frame: 1742 from DSC_6299\nRead frame: 1743 from DSC_6299\nRead frame: 1744 from DSC_6299\nRead frame: 1745 from DSC_6299\nRead frame: 1746 from DSC_6299\nRead frame: 1747 from DSC_6299\nRead frame: 1748 from DSC_6299\nRead frame: 1749 from DSC_6299\nRead frame: 1750 from DSC_6299\nRead frame: 1751 from DSC_6299\n"
     ]
    },
    {
     "name": "stdout",
     "output_type": "stream",
     "text": [
      "Read frame: 1752 from DSC_6299\nRead frame: 1753 from DSC_6299\nRead frame: 1754 from DSC_6299\nRead frame: 1755 from DSC_6299\nRead frame: 1756 from DSC_6299\nRead frame: 1757 from DSC_6299\nRead frame: 1758 from DSC_6299\nRead frame: 1759 from DSC_6299\nRead frame: 1760 from DSC_6299\nRead frame: 1761 from DSC_6299\nRead frame: 1762 from DSC_6299\nRead frame: 1763 from DSC_6299\nRead frame: 1764 from DSC_6299\n"
     ]
    },
    {
     "name": "stdout",
     "output_type": "stream",
     "text": [
      "Read frame: 1765 from DSC_6299\nRead frame: 1766 from DSC_6299\nRead frame: 1767 from DSC_6299\nRead frame: 1768 from DSC_6299\nRead frame: 1769 from DSC_6299\nRead frame: 1770 from DSC_6299\nRead frame: 1771 from DSC_6299\nRead frame: 1772 from DSC_6299\nRead frame: 1773 from DSC_6299\nRead frame: 1774 from DSC_6299\nRead frame: 1775 from DSC_6299\nRead frame: 1776 from DSC_6299\nRead frame: 1777 from DSC_6299\n"
     ]
    },
    {
     "name": "stdout",
     "output_type": "stream",
     "text": [
      "Read frame: 1778 from DSC_6299\nRead frame: 1779 from DSC_6299\nRead frame: 1780 from DSC_6299\nRead frame: 1781 from DSC_6299\nRead frame: 1782 from DSC_6299\nRead frame: 1783 from DSC_6299\nRead frame: 1784 from DSC_6299\nRead frame: 1785 from DSC_6299\nRead frame: 1786 from DSC_6299\nRead frame: 1787 from DSC_6299\nRead frame: 1788 from DSC_6299\nRead frame: 1789 from DSC_6299\nRead frame: 1790 from DSC_6299\n"
     ]
    },
    {
     "name": "stdout",
     "output_type": "stream",
     "text": [
      "Read frame: 1791 from DSC_6299\nRead frame: 1792 from DSC_6299\nRead frame: 1793 from DSC_6299\nRead frame: 1794 from DSC_6299\nRead frame: 1795 from DSC_6299\nRead frame: 1796 from DSC_6299\nRead frame: 1797 from DSC_6299\nRead frame: 1798 from DSC_6299\nRead frame: 1799 from DSC_6299\nRead frame: 1800 from DSC_6299\nRead frame: 1801 from DSC_6299\nRead frame: 1802 from DSC_6299\nRead frame: 1803 from DSC_6299\nRead frame: 1804 from DSC_6299\n"
     ]
    },
    {
     "name": "stdout",
     "output_type": "stream",
     "text": [
      "Read frame: 1805 from DSC_6299\nRead frame: 1806 from DSC_6299\nRead frame: 1807 from DSC_6299\nRead frame: 1808 from DSC_6299\nRead frame: 1809 from DSC_6299\nRead frame: 1810 from DSC_6299\nRead frame: 1811 from DSC_6299\nRead frame: 1812 from DSC_6299\nRead frame: 1813 from DSC_6299\nRead frame: 1814 from DSC_6299\nRead frame: 1815 from DSC_6299\nRead frame: 1816 from DSC_6299\nRead frame: 1817 from DSC_6299\nRead frame: 1818 from DSC_6299\n"
     ]
    },
    {
     "name": "stdout",
     "output_type": "stream",
     "text": [
      "Read frame: 1819 from DSC_6299\nRead frame: 1820 from DSC_6299\nRead frame: 1821 from DSC_6299\nRead frame: 1822 from DSC_6299\nRead frame: 1823 from DSC_6299\nRead frame: 1824 from DSC_6299\nRead frame: 1825 from DSC_6299\nRead frame: 1826 from DSC_6299\nRead frame: 1827 from DSC_6299\nRead frame: 1828 from DSC_6299\n"
     ]
    },
    {
     "name": "stdout",
     "output_type": "stream",
     "text": [
      "Read frame: 1829 from DSC_6299\nRead frame: 1830 from DSC_6299\nRead frame: 1831 from DSC_6299\nRead frame: 1832 from DSC_6299\nRead frame: 1833 from DSC_6299\nRead frame: 1834 from DSC_6299\nRead frame: 1835 from DSC_6299\nRead frame: 1836 from DSC_6299"
     ]
    },
    {
     "name": "stdout",
     "output_type": "stream",
     "text": [
      "\nRead frame: 1837 from DSC_6299\nRead frame: 1838 from DSC_6299\nRead frame: 1839 from DSC_6299\nRead frame: 1840 from DSC_6299\nRead frame: 1841 from DSC_6299\nRead frame: 1842 from DSC_6299\nRead frame: 1843 from DSC_6299\n"
     ]
    },
    {
     "name": "stdout",
     "output_type": "stream",
     "text": [
      "Read frame: 1844 from DSC_6299\nRead frame: 1845 from DSC_6299\nRead frame: 1846 from DSC_6299\nRead frame: 1847 from DSC_6299\nRead frame: 1848 from DSC_6299\nRead frame: 1849 from DSC_6299\nRead frame: 1850 from DSC_6299\nRead frame: 1851 from DSC_6299\nRead frame: 1852 from DSC_6299\nRead frame: 1853 from DSC_6299\n"
     ]
    },
    {
     "name": "stdout",
     "output_type": "stream",
     "text": [
      "Read frame: 1854 from DSC_6299\nRead frame: 1855 from DSC_6299\nRead frame: 1856 from DSC_6299\nRead frame: 1857 from DSC_6299\nRead frame: 1858 from DSC_6299\nRead frame: 1859 from DSC_6299\nRead frame: 1860 from DSC_6299\nRead frame: 1861 from DSC_6299\nRead frame: 1862 from DSC_6299\nRead frame: 1863 from DSC_6299\n"
     ]
    },
    {
     "name": "stdout",
     "output_type": "stream",
     "text": [
      "Read frame: 1864 from DSC_6299\nRead frame: 1865 from DSC_6299\nRead frame: 1866 from DSC_6299\nRead frame: 1867 from DSC_6299\nRead frame: 1868 from DSC_6299\nRead frame: 1869 from DSC_6299\n"
     ]
    },
    {
     "name": "stdout",
     "output_type": "stream",
     "text": [
      "Read frame: 1870 from DSC_6299\nRead frame: 1871 from DSC_6299\nRead frame: 1872 from DSC_6299\nRead frame: 1873 from DSC_6299\nRead frame: 1874 from DSC_6299\nRead frame: 1875 from DSC_6299\nRead frame: 1876 from DSC_6299\nRead frame: 1877 from DSC_6299\nRead frame: 1878 from DSC_6299\nRead frame: 1879 from DSC_6299\n"
     ]
    },
    {
     "name": "stdout",
     "output_type": "stream",
     "text": [
      "Read frame: 1880 from DSC_6299\nRead frame: 1881 from DSC_6299\nRead frame: 1882 from DSC_6299\nRead frame: 1883 from DSC_6299\nRead frame: 1884 from DSC_6299\nRead frame: 1885 from DSC_6299\nRead frame: 1886 from DSC_6299\nRead frame: 1887 from DSC_6299\nRead frame: 1888 from DSC_6299\nRead frame: 1889 from DSC_6299\nRead frame: 1890 from DSC_6299\nRead frame: 1891 from DSC_6299\n"
     ]
    },
    {
     "name": "stdout",
     "output_type": "stream",
     "text": [
      "Read frame: 1892 from DSC_6299\nRead frame: 1893 from DSC_6299\nRead frame: 1894 from DSC_6299\nRead frame: 1895 from DSC_6299\nRead frame: 1896 from DSC_6299\nRead frame: 1897 from DSC_6299\nRead frame: 1898 from DSC_6299\nRead frame: 1899 from DSC_6299\nRead frame: 1900 from DSC_6299\nRead frame: 1901 from DSC_6299\nRead frame: 1902 from DSC_6299\nRead frame: 1903 from DSC_6299\nRead frame: 1904 from DSC_6299\n"
     ]
    },
    {
     "name": "stdout",
     "output_type": "stream",
     "text": [
      "Read frame: 1905 from DSC_6299\nRead frame: 1906 from DSC_6299\nRead frame: 1907 from DSC_6299\nRead frame: 1908 from DSC_6299\nRead frame: 1909 from DSC_6299\nRead frame: 1910 from DSC_6299\nRead frame: 1911 from DSC_6299\nRead frame: 1912 from DSC_6299\nRead frame: 1913 from DSC_6299\nRead frame: 1914 from DSC_6299\nRead frame: 1915 from DSC_6299\nRead frame: 1916 from DSC_6299\nRead frame: 1917 from DSC_6299\n"
     ]
    },
    {
     "name": "stdout",
     "output_type": "stream",
     "text": [
      "Read frame: 1918 from DSC_6299\nRead frame: 1919 from DSC_6299\nRead frame: 1920 from DSC_6299\nRead frame: 1921 from DSC_6299\nRead frame: 1922 from DSC_6299\nRead frame: 1923 from DSC_6299\nRead frame: 1924 from DSC_6299\nRead frame: 1925 from DSC_6299\nRead frame: 1926 from DSC_6299\nRead frame: 1927 from DSC_6299\nRead frame: 1928 from DSC_6299\nRead frame: 1929 from DSC_6299\n"
     ]
    },
    {
     "name": "stdout",
     "output_type": "stream",
     "text": [
      "Read frame: 1930 from DSC_6299\nRead frame: 1931 from DSC_6299\nRead frame: 1932 from DSC_6299\nRead frame: 1933 from DSC_6299\nRead frame: 1934 from DSC_6299\nRead frame: 1935 from DSC_6299\nRead frame: 1936 from DSC_6299\nRead frame: 1937 from DSC_6299\nRead frame: 1938 from DSC_6299\nRead frame: 1939 from DSC_6299\nRead frame: 1940 from DSC_6299\nRead frame: 1941 from DSC_6299\nRead frame: 1942 from DSC_6299\n"
     ]
    },
    {
     "name": "stdout",
     "output_type": "stream",
     "text": [
      "Read frame: 1943 from DSC_6299\nRead frame: 1944 from DSC_6299\nRead frame: 1945 from DSC_6299\nRead frame: 1946 from DSC_6299\nRead frame: 1947 from DSC_6299\nRead frame: 1948 from DSC_6299\nRead frame: 1949 from DSC_6299\nRead frame: 1950 from DSC_6299\nRead frame: 1951 from DSC_6299\nRead frame: 1952 from DSC_6299\nRead frame: 1953 from DSC_6299\nRead frame: 1954 from DSC_6299\nRead frame: 1955 from DSC_6299\n"
     ]
    },
    {
     "name": "stdout",
     "output_type": "stream",
     "text": [
      "Read frame: 1956 from DSC_6299\nRead frame: 1957 from DSC_6299\nRead frame: 1958 from DSC_6299\nRead frame: 1959 from DSC_6299\nRead frame: 1960 from DSC_6299\nRead frame: 1961 from DSC_6299\nRead frame: 1962 from DSC_6299\nRead frame: 1963 from DSC_6299\nRead frame: 1964 from DSC_6299\nRead frame: 1965 from DSC_6299\nRead frame: 1966 from DSC_6299\nRead frame: 1967 from DSC_6299\nRead frame: 1968 from DSC_6299\nRead frame: 1969 from DSC_6299\n"
     ]
    },
    {
     "name": "stdout",
     "output_type": "stream",
     "text": [
      "Read frame: 1970 from DSC_6299\nRead frame: 1971 from DSC_6299\nRead frame: 1972 from DSC_6299\nRead frame: 1973 from DSC_6299\nRead frame: 1974 from DSC_6299\nRead frame: 1975 from DSC_6299\nRead frame: 1976 from DSC_6299\nRead frame: 1977 from DSC_6299\nRead frame: 1978 from DSC_6299\nRead frame: 1979 from DSC_6299\nRead frame: 1980 from DSC_6299\nRead frame: 1981 from DSC_6299\nRead frame: 1982 from DSC_6299\n"
     ]
    },
    {
     "name": "stdout",
     "output_type": "stream",
     "text": [
      "Read frame: 1983 from DSC_6299\nRead frame: 1984 from DSC_6299\nRead frame: 1985 from DSC_6299\nRead frame: 1986 from DSC_6299\nRead frame: 1987 from DSC_6299\nRead frame: 1988 from DSC_6299\nRead frame: 1989 from DSC_6299\nRead frame: 1990 from DSC_6299\nRead frame: 1991 from DSC_6299\nRead frame: 1992 from DSC_6299\nRead frame: 1993 from DSC_6299\nRead frame: 1994 from DSC_6299\nRead frame: 1995 from DSC_6299\nRead frame: 1996 from DSC_6299\n"
     ]
    },
    {
     "name": "stdout",
     "output_type": "stream",
     "text": [
      "Read frame: 1997 from DSC_6299\nRead frame: 1998 from DSC_6299\nRead frame: 1999 from DSC_6299\nRead frame: 2000 from DSC_6299\nRead frame: 2001 from DSC_6299\nRead frame: 2002 from DSC_6299\nRead frame: 2003 from DSC_6299\nRead frame: 2004 from DSC_6299\nRead frame: 2005 from DSC_6299\nRead frame: 2006 from DSC_6299\nRead frame: 2007 from DSC_6299\nRead frame: 2008 from DSC_6299\nRead frame: 2009 from DSC_6299\n"
     ]
    },
    {
     "name": "stdout",
     "output_type": "stream",
     "text": [
      "Read frame: 2010 from DSC_6299\nRead frame: 2011 from DSC_6299\nRead frame: 2012 from DSC_6299\nRead frame: 2013 from DSC_6299\nRead frame: 2014 from DSC_6299\nRead frame: 2015 from DSC_6299\nRead frame: 2016 from DSC_6299\nRead frame: 2017 from DSC_6299\nRead frame: 2018 from DSC_6299\nRead frame: 2019 from DSC_6299\nRead frame: 2020 from DSC_6299\n"
     ]
    },
    {
     "name": "stdout",
     "output_type": "stream",
     "text": [
      "Read frame: 2021 from DSC_6299\nRead frame: 2022 from DSC_6299\nRead frame: 2023 from DSC_6299\nRead frame: 2024 from DSC_6299\nRead frame: 2025 from DSC_6299\nRead frame: 2026 from DSC_6299\nRead frame: 2027 from DSC_6299\nRead frame: 2028 from DSC_6299\nRead frame: 2029 from DSC_6299\n"
     ]
    },
    {
     "name": "stdout",
     "output_type": "stream",
     "text": [
      "Read frame: 2030 from DSC_6299\nRead frame: 2031 from DSC_6299\nRead frame: 2032 from DSC_6299\nRead frame: 2033 from DSC_6299\nRead frame: 2034 from DSC_6299\nRead frame: 2035 from DSC_6299\nRead frame: 2036 from DSC_6299\nRead frame: 2037 from DSC_6299\nRead frame: 2038 from DSC_6299\nRead frame: 2039 from DSC_6299\n"
     ]
    },
    {
     "name": "stdout",
     "output_type": "stream",
     "text": [
      "Read frame: 2040 from DSC_6299\nRead frame: 2041 from DSC_6299\nRead frame: 2042 from DSC_6299\nRead frame: 2043 from DSC_6299\nRead frame: 2044 from DSC_6299\nRead frame: 2045 from DSC_6299\nRead frame: 2046 from DSC_6299\nRead frame: 2047 from DSC_6299\nRead frame: 2048 from DSC_6299\nRead frame: 2049 from DSC_6299\nRead frame: 2050 from DSC_6299\n"
     ]
    },
    {
     "name": "stdout",
     "output_type": "stream",
     "text": [
      "Read frame: 2051 from DSC_6299\nRead frame: 2052 from DSC_6299\nRead frame: 2053 from DSC_6299\nRead frame: 2054 from DSC_6299\nRead frame: 2055 from DSC_6299\nRead frame: 2056 from DSC_6299\nRead frame: 2057 from DSC_6299\nRead frame: 2058 from DSC_6299\nRead frame: 2059 from DSC_6299\nRead frame: 2060 from DSC_6299\nRead frame: 2061 from DSC_6299\n"
     ]
    },
    {
     "name": "stdout",
     "output_type": "stream",
     "text": [
      "Read frame: 2062 from DSC_6299\nRead frame: 2063 from DSC_6299\nRead frame: 2064 from DSC_6299\nRead frame: 2065 from DSC_6299\nRead frame: 2066 from DSC_6299\nRead frame: 2067 from DSC_6299\nRead frame: 2068 from DSC_6299\nRead frame: 2069 from DSC_6299\nRead frame: 2070 from DSC_6299\nRead frame: 2071 from DSC_6299\nRead frame: 2072 from DSC_6299\n"
     ]
    },
    {
     "name": "stdout",
     "output_type": "stream",
     "text": [
      "Read frame: 2073 from DSC_6299\nRead frame: 2074 from DSC_6299\nRead frame: 2075 from DSC_6299\nRead frame: 2076 from DSC_6299\nRead frame: 2077 from DSC_6299\nRead frame: 2078 from DSC_6299\nRead frame: 2079 from DSC_6299\nRead frame: 2080 from DSC_6299\nRead frame: 2081 from DSC_6299\n"
     ]
    },
    {
     "name": "stdout",
     "output_type": "stream",
     "text": [
      "Read frame: 2082 from DSC_6299\nRead frame: 2083 from DSC_6299\nRead frame: 2084 from DSC_6299\nRead frame: 2085 from DSC_6299\nRead frame: 2086 from DSC_6299\nRead frame: 2087 from DSC_6299\nRead frame: 2088 from DSC_6299\nRead frame: 2089 from DSC_6299\nRead frame: 2090 from DSC_6299\nRead frame: 2091 from DSC_6299\nRead frame: 2092 from DSC_6299\nRead frame: 2093 from DSC_6299\n"
     ]
    },
    {
     "name": "stdout",
     "output_type": "stream",
     "text": [
      "Read frame: 2094 from DSC_6299\nRead frame: 2095 from DSC_6299\nRead frame: 2096 from DSC_6299\nRead frame: 2097 from DSC_6299\nRead frame: 2098 from DSC_6299\nRead frame: 2099 from DSC_6299\nRead frame: 2100 from DSC_6299\nRead frame: 2101 from DSC_6299\nRead frame: 2102 from DSC_6299\nRead frame: 2103 from DSC_6299\nRead frame: 2104 from DSC_6299\nRead frame: 2105 from DSC_6299\nRead frame: 2106 from DSC_6299\n"
     ]
    },
    {
     "name": "stdout",
     "output_type": "stream",
     "text": [
      "Read frame: 2107 from DSC_6299\nRead frame: 2108 from DSC_6299\nRead frame: 2109 from DSC_6299\nRead frame: 2110 from DSC_6299\nRead frame: 2111 from DSC_6299\nRead frame: 2112 from DSC_6299\nRead frame: 2113 from DSC_6299\nRead frame: 2114 from DSC_6299\nRead frame: 2115 from DSC_6299\nRead frame: 2116 from DSC_6299\nRead frame: 2117 from DSC_6299\nRead frame: 2118 from DSC_6299\nRead frame: 2119 from DSC_6299\nRead frame: 2120 from DSC_6299\n"
     ]
    },
    {
     "name": "stdout",
     "output_type": "stream",
     "text": [
      "Read frame: 2121 from DSC_6299\nRead frame: 2122 from DSC_6299\nRead frame: 2123 from DSC_6299\nRead frame: 2124 from DSC_6299\nRead frame: 2125 from DSC_6299\nRead frame: 2126 from DSC_6299\nRead frame: 2127 from DSC_6299\nRead frame: 2128 from DSC_6299\nRead frame: 2129 from DSC_6299\nRead frame: 2130 from DSC_6299\nRead frame: 2131 from DSC_6299\nRead frame: 2132 from DSC_6299\nRead frame: 2133 from DSC_6299\n"
     ]
    },
    {
     "name": "stdout",
     "output_type": "stream",
     "text": [
      "Read frame: 2134 from DSC_6299\nRead frame: 2135 from DSC_6299\nRead frame: 2136 from DSC_6299\nRead frame: 2137 from DSC_6299\nRead frame: 2138 from DSC_6299\nRead frame: 2139 from DSC_6299\nRead frame: 2140 from DSC_6299\nRead frame: 2141 from DSC_6299\nRead frame: 2142 from DSC_6299\nRead frame: 2143 from DSC_6299\nRead frame: 2144 from DSC_6299\nRead frame: 2145 from DSC_6299\nRead frame: 2146 from DSC_6299\n"
     ]
    },
    {
     "name": "stdout",
     "output_type": "stream",
     "text": [
      "Read frame: 2147 from DSC_6299\nRead frame: 2148 from DSC_6299\nRead frame: 2149 from DSC_6299\nRead frame: 2150 from DSC_6299\nRead frame: 2151 from DSC_6299\nRead frame: 2152 from DSC_6299\nRead frame: 2153 from DSC_6299\nRead frame: 2154 from DSC_6299\nRead frame: 2155 from DSC_6299\nRead frame: 2156 from DSC_6299\nRead frame: 2157 from DSC_6299\nRead frame: 2158 from DSC_6299\nRead frame: 2159 from DSC_6299\n"
     ]
    },
    {
     "name": "stdout",
     "output_type": "stream",
     "text": [
      "Read frame: 2160 from DSC_6299\nRead frame: 2161 from DSC_6299\nRead frame: 2162 from DSC_6299\nRead frame: 2163 from DSC_6299\nRead frame: 2164 from DSC_6299\nRead frame: 2165 from DSC_6299\nRead frame: 2166 from DSC_6299\nRead frame: 2167 from DSC_6299\nRead frame: 2168 from DSC_6299\nRead frame: 2169 from DSC_6299\nRead frame: 2170 from DSC_6299\nRead frame: 2171 from DSC_6299\nRead frame: 2172 from DSC_6299\n"
     ]
    },
    {
     "name": "stdout",
     "output_type": "stream",
     "text": [
      "Read frame: 2173 from DSC_6299\nRead frame: 2174 from DSC_6299\nRead frame: 2175 from DSC_6299\nRead frame: 2176 from DSC_6299\nRead frame: 2177 from DSC_6299\nRead frame: 2178 from DSC_6299\nRead frame: 2179 from DSC_6299\nRead frame: 2180 from DSC_6299\nRead frame: 2181 from DSC_6299\nRead frame: 2182 from DSC_6299\nRead frame: 2183 from DSC_6299\nRead frame: 2184 from DSC_6299\nRead frame: 2185 from DSC_6299\nRead frame: 2186 from DSC_6299\n"
     ]
    },
    {
     "name": "stdout",
     "output_type": "stream",
     "text": [
      "Read frame: 2187 from DSC_6299\nRead frame: 2188 from DSC_6299\nRead frame: 2189 from DSC_6299\nRead frame: 2190 from DSC_6299\nRead frame: 2191 from DSC_6299\nRead frame: 2192 from DSC_6299\nRead frame: 2193 from DSC_6299\nRead frame: 2194 from DSC_6299\nRead frame: 2195 from DSC_6299\nRead frame: 2196 from DSC_6299\nRead frame: 2197 from DSC_6299\nRead frame: 2198 from DSC_6299\n"
     ]
    },
    {
     "name": "stdout",
     "output_type": "stream",
     "text": [
      "Read frame: 2199 from DSC_6299\nRead frame: 2200 from DSC_6299\nRead frame: 2201 from DSC_6299\nRead frame: 2202 from DSC_6299\nRead frame: 2203 from DSC_6299\nRead frame: 2204 from DSC_6299\nRead frame: 2205 from DSC_6299\nRead frame: 2206 from DSC_6299\nRead frame: 2207 from DSC_6299\nRead frame: 2208 from DSC_6299\nRead frame: 2209 from DSC_6299\nRead frame: 2210 from DSC_6299\n"
     ]
    },
    {
     "name": "stdout",
     "output_type": "stream",
     "text": [
      "Read frame: 2211 from DSC_6299\nRead frame: 2212 from DSC_6299\nRead frame: 2213 from DSC_6299\nRead frame: 2214 from DSC_6299\nRead frame: 2215 from DSC_6299\nRead frame: 2216 from DSC_6299\nRead frame: 2217 from DSC_6299\nRead frame: 2218 from DSC_6299\nRead frame: 2219 from DSC_6299\nRead frame: 2220 from DSC_6299\nRead frame: 2221 from DSC_6299\n"
     ]
    },
    {
     "name": "stdout",
     "output_type": "stream",
     "text": [
      "Read frame: 2222 from DSC_6299\nRead frame: 2223 from DSC_6299\nRead frame: 2224 from DSC_6299\nRead frame: 2225 from DSC_6299\nRead frame: 2226 from DSC_6299\nRead frame: 2227 from DSC_6299\nRead frame: 2228 from DSC_6299\nRead frame: 2229 from DSC_6299\nRead frame: 2230 from DSC_6299\nRead frame: 2231 from DSC_6299\nRead frame: 2232 from DSC_6299\nRead frame: 2233 from DSC_6299\nRead frame: 2234 from DSC_6299\nRead frame: 2235 from DSC_6299\n"
     ]
    },
    {
     "name": "stdout",
     "output_type": "stream",
     "text": [
      "Read frame: 2236 from DSC_6299\nRead frame: 2237 from DSC_6299\nRead frame: 2238 from DSC_6299\nRead frame: 2239 from DSC_6299\nRead frame: 2240 from DSC_6299\nRead frame: 2241 from DSC_6299\nRead frame: 2242 from DSC_6299\n"
     ]
    },
    {
     "name": "stdout",
     "output_type": "stream",
     "text": [
      "Read frame: 2243 from DSC_6299\nRead frame: 2244 from DSC_6299\nRead frame: 2245 from DSC_6299\nRead frame: 2246 from DSC_6299\nRead frame: 2247 from DSC_6299\nRead frame: 2248 from DSC_6299\nRead frame: 2249 from DSC_6299\nRead frame: 2250 from DSC_6299\nRead frame: 2251 from DSC_6299\n"
     ]
    },
    {
     "name": "stdout",
     "output_type": "stream",
     "text": [
      "Read frame: 2252 from DSC_6299\nRead frame: 2253 from DSC_6299\nRead frame: 2254 from DSC_6299\nRead frame: 2255 from DSC_6299\nRead frame: 2256 from DSC_6299\nRead frame: 2257 from DSC_6299\nRead frame: 2258 from DSC_6299\nRead frame: 2259 from DSC_6299\nRead frame: 2260 from DSC_6299\n"
     ]
    },
    {
     "name": "stdout",
     "output_type": "stream",
     "text": [
      "Read frame: 2261 from DSC_6299\nRead frame: 2262 from DSC_6299\nRead frame: 2263 from DSC_6299\nRead frame: 2264 from DSC_6299\nRead frame: 2265 from DSC_6299\nRead frame: 2266 from DSC_6299\nRead frame: 2267 from DSC_6299\nRead frame: 2268 from DSC_6299\nRead frame: 2269 from DSC_6299\nRead frame: 2270 from DSC_6299\n"
     ]
    },
    {
     "name": "stdout",
     "output_type": "stream",
     "text": [
      "Read frame: 2271 from DSC_6299\nRead frame: 2272 from DSC_6299\nRead frame: 2273 from DSC_6299\nRead frame: 2274 from DSC_6299\nRead frame: 2275 from DSC_6299\nRead frame: 2276 from DSC_6299\nRead frame: 2277 from DSC_6299\nRead frame: 2278 from DSC_6299\n"
     ]
    },
    {
     "name": "stdout",
     "output_type": "stream",
     "text": [
      "Read frame: 2279 from DSC_6299\nRead frame: 2280 from DSC_6299\nRead frame: 2281 from DSC_6299\nRead frame: 2282 from DSC_6299\nRead frame: 2283 from DSC_6299\nRead frame: 2284 from DSC_6299\nRead frame: 2285 from DSC_6299\nRead frame: 2286 from DSC_6299\n"
     ]
    },
    {
     "name": "stdout",
     "output_type": "stream",
     "text": [
      "Read frame: 2287 from DSC_6299\nRead frame: 2288 from DSC_6299\nRead frame: 2289 from DSC_6299\nRead frame: 2290 from DSC_6299\nRead frame: 2291 from DSC_6299\nRead frame: 2292 from DSC_6299\nRead frame: 2293 from DSC_6299\nRead frame: 2294 from DSC_6299\nRead frame: 2295 from DSC_6299\nRead frame: 2296 from DSC_6299\n"
     ]
    },
    {
     "name": "stdout",
     "output_type": "stream",
     "text": [
      "Read frame: 2297 from DSC_6299\nRead frame: 2298 from DSC_6299\nRead frame: 2299 from DSC_6299\nRead frame: 2300 from DSC_6299\nRead frame: 2301 from DSC_6299\nRead frame: 2302 from DSC_6299\nRead frame: 2303 from DSC_6299\nRead frame: 2304 from DSC_6299\nRead frame: 2305 from DSC_6299\nRead frame: 2306 from DSC_6299\nRead frame: 2307 from DSC_6299\nRead frame: 2308 from DSC_6299\n"
     ]
    },
    {
     "name": "stdout",
     "output_type": "stream",
     "text": [
      "Read frame: 2309 from DSC_6299\nRead frame: 2310 from DSC_6299\nRead frame: 2311 from DSC_6299\nRead frame: 2312 from DSC_6299\nRead frame: 2313 from DSC_6299\nRead frame: 2314 from DSC_6299\nRead frame: 2315 from DSC_6299\nRead frame: 2316 from DSC_6299\nRead frame: 2317 from DSC_6299\nRead frame: 2318 from DSC_6299\nRead frame: 2319 from DSC_6299\nRead frame: 2320 from DSC_6299\n"
     ]
    },
    {
     "name": "stdout",
     "output_type": "stream",
     "text": [
      "Read frame: 2321 from DSC_6299\nRead frame: 2322 from DSC_6299\nRead frame: 2323 from DSC_6299\nRead frame: 2324 from DSC_6299\nRead frame: 2325 from DSC_6299\nRead frame: 2326 from DSC_6299\nRead frame: 2327 from DSC_6299\nRead frame: 2328 from DSC_6299\nRead frame: 2329 from DSC_6299\nRead frame: 2330 from DSC_6299\nRead frame: 2331 from DSC_6299\nRead frame: 2332 from DSC_6299\n"
     ]
    },
    {
     "name": "stdout",
     "output_type": "stream",
     "text": [
      "Read frame: 2333 from DSC_6299\nRead frame: 2334 from DSC_6299\nRead frame: 2335 from DSC_6299\nRead frame: 2336 from DSC_6299\nRead frame: 2337 from DSC_6299\nRead frame: 2338 from DSC_6299\nRead frame: 2339 from DSC_6299\nRead frame: 2340 from DSC_6299\nRead frame: 2341 from DSC_6299\nRead frame: 2342 from DSC_6299\nRead frame: 2343 from DSC_6299\nRead frame: 2344 from DSC_6299\n"
     ]
    },
    {
     "name": "stdout",
     "output_type": "stream",
     "text": [
      "Read frame: 2345 from DSC_6299\nRead frame: 2346 from DSC_6299\nRead frame: 2347 from DSC_6299\nRead frame: 2348 from DSC_6299\nRead frame: 2349 from DSC_6299\nRead frame: 2350 from DSC_6299\nRead frame: 2351 from DSC_6299\nRead frame: 2352 from DSC_6299\nRead frame: 2353 from DSC_6299\nRead frame: 2354 from DSC_6299\nRead frame: 2355 from DSC_6299\nRead frame: 2356 from DSC_6299\nRead frame: 2357 from DSC_6299\nRead frame: 2358 from DSC_6299\n"
     ]
    },
    {
     "name": "stdout",
     "output_type": "stream",
     "text": [
      "Read frame: 2359 from DSC_6299\nRead frame: 2360 from DSC_6299\nRead frame: 2361 from DSC_6299\nRead frame: 2362 from DSC_6299\nRead frame: 2363 from DSC_6299\nRead frame: 2364 from DSC_6299\nRead frame: 2365 from DSC_6299\nRead frame: 2366 from DSC_6299\nRead frame: 2367 from DSC_6299\nRead frame: 2368 from DSC_6299\nRead frame: 2369 from DSC_6299\nRead frame: 2370 from DSC_6299\nRead frame: 2371 from DSC_6299\n"
     ]
    },
    {
     "name": "stdout",
     "output_type": "stream",
     "text": [
      "Read frame: 2372 from DSC_6299\nRead frame: 2373 from DSC_6299\nRead frame: 2374 from DSC_6299\nRead frame: 2375 from DSC_6299\nRead frame: 2376 from DSC_6299\nRead frame: 2377 from DSC_6299\nRead frame: 2378 from DSC_6299\nRead frame: 2379 from DSC_6299\nRead frame: 2380 from DSC_6299\nRead frame: 2381 from DSC_6299\nRead frame: 2382 from DSC_6299\nRead frame: 2383 from DSC_6299\n"
     ]
    },
    {
     "name": "stdout",
     "output_type": "stream",
     "text": [
      "Read frame: 2384 from DSC_6299\nRead frame: 2385 from DSC_6299\nRead frame: 2386 from DSC_6299\nRead frame: 2387 from DSC_6299\nRead frame: 2388 from DSC_6299\nRead frame: 2389 from DSC_6299\nRead frame: 2390 from DSC_6299\nRead frame: 2391 from DSC_6299\nRead frame: 2392 from DSC_6299\nRead frame: 2393 from DSC_6299\nRead frame: 2394 from DSC_6299\nRead frame: 2395 from DSC_6299\n"
     ]
    },
    {
     "name": "stdout",
     "output_type": "stream",
     "text": [
      "Read frame: 2396 from DSC_6299\nRead frame: 2397 from DSC_6299\nRead frame: 2398 from DSC_6299\nRead frame: 2399 from DSC_6299\nRead frame: 2400 from DSC_6299\nRead frame: 2401 from DSC_6299\nRead frame: 2402 from DSC_6299\nRead frame: 2403 from DSC_6299\nRead frame: 2404 from DSC_6299\nRead frame: 2405 from DSC_6299\nRead frame: 2406 from DSC_6299\nRead frame: 2407 from DSC_6299\n"
     ]
    },
    {
     "name": "stdout",
     "output_type": "stream",
     "text": [
      "Read frame: 2408 from DSC_6299\nRead frame: 2409 from DSC_6299\nRead frame: 2410 from DSC_6299\nRead frame: 2411 from DSC_6299\nRead frame: 2412 from DSC_6299\nRead frame: 2413 from DSC_6299\nRead frame: 2414 from DSC_6299\nRead frame: 2415 from DSC_6299\nRead frame: 2416 from DSC_6299\nRead frame: 2417 from DSC_6299\nRead frame: 2418 from DSC_6299\nRead frame: 2419 from DSC_6299\nRead frame: 2420 from DSC_6299\n"
     ]
    },
    {
     "name": "stdout",
     "output_type": "stream",
     "text": [
      "Read frame: 2421 from DSC_6299\nRead frame: 2422 from DSC_6299\nRead frame: 2423 from DSC_6299\nRead frame: 2424 from DSC_6299\nRead frame: 2425 from DSC_6299\nRead frame: 2426 from DSC_6299\nRead frame: 2427 from DSC_6299\nRead frame: 2428 from DSC_6299\nRead frame: 2429 from DSC_6299\nRead frame: 2430 from DSC_6299\nRead frame: 2431 from DSC_6299\nRead frame: 2432 from DSC_6299\nRead frame: 2433 from DSC_6299\n"
     ]
    },
    {
     "name": "stdout",
     "output_type": "stream",
     "text": [
      "Read frame: 2434 from DSC_6299\nRead frame: 2435 from DSC_6299\nRead frame: 2436 from DSC_6299\nRead frame: 2437 from DSC_6299\nRead frame: 2438 from DSC_6299\nRead frame: 2439 from DSC_6299\nRead frame: 2440 from DSC_6299\nRead frame: 2441 from DSC_6299"
     ]
    },
    {
     "name": "stdout",
     "output_type": "stream",
     "text": [
      "\nRead frame: 2442 from DSC_6299\nRead frame: 2443 from DSC_6299\nRead frame: 2444 from DSC_6299\nRead frame: 2445 from DSC_6299\nRead frame: 2446 from DSC_6299\nRead frame: 2447 from DSC_6299\nRead frame: 2448 from DSC_6299\n"
     ]
    },
    {
     "name": "stdout",
     "output_type": "stream",
     "text": [
      "Read frame: 2449 from DSC_6299\nRead frame: 2450 from DSC_6299\nRead frame: 2451 from DSC_6299\nRead frame: 2452 from DSC_6299\nRead frame: 2453 from DSC_6299\nRead frame: 2454 from DSC_6299\nRead frame: 2455 from DSC_6299\nRead frame: 2456 from DSC_6299\nRead frame: 2457 from DSC_6299\nRead frame: 2458 from DSC_6299\n"
     ]
    },
    {
     "name": "stdout",
     "output_type": "stream",
     "text": [
      "Read frame: 2459 from DSC_6299\nRead frame: 2460 from DSC_6299\nRead frame: 2461 from DSC_6299\nRead frame: 2462 from DSC_6299\nRead frame: 2463 from DSC_6299\nRead frame: 2464 from DSC_6299\nRead frame: 2465 from DSC_6299\nRead frame: 2466 from DSC_6299\nRead frame: 2467 from DSC_6299\nRead frame: 2468 from DSC_6299\n"
     ]
    },
    {
     "name": "stdout",
     "output_type": "stream",
     "text": [
      "Read frame: 2469 from DSC_6299\nRead frame: 2470 from DSC_6299\nRead frame: 2471 from DSC_6299\nRead frame: 2472 from DSC_6299\nRead frame: 2473 from DSC_6299\nRead frame: 2474 from DSC_6299\nRead frame: 2475 from DSC_6299\nRead frame: 2476 from DSC_6299\nRead frame: 2477 from DSC_6299\nRead frame: 2478 from DSC_6299\n"
     ]
    },
    {
     "name": "stdout",
     "output_type": "stream",
     "text": [
      "Read frame: 2479 from DSC_6299\nRead frame: 2480 from DSC_6299\nRead frame: 2481 from DSC_6299\nRead frame: 2482 from DSC_6299\nRead frame: 2483 from DSC_6299\nRead frame: 2484 from DSC_6299\nRead frame: 2485 from DSC_6299\nRead frame: 2486 from DSC_6299\n"
     ]
    },
    {
     "name": "stdout",
     "output_type": "stream",
     "text": [
      "Read frame: 2487 from DSC_6299\nRead frame: 2488 from DSC_6299\nRead frame: 2489 from DSC_6299\nRead frame: 2490 from DSC_6299\nRead frame: 2491 from DSC_6299\nRead frame: 2492 from DSC_6299\nRead frame: 2493 from DSC_6299\nRead frame: 2494 from DSC_6299\nRead frame: 2495 from DSC_6299\nRead frame: 2496 from DSC_6299\n"
     ]
    },
    {
     "name": "stdout",
     "output_type": "stream",
     "text": [
      "Read frame: 2497 from DSC_6299\nRead frame: 2498 from DSC_6299\nRead frame: 2499 from DSC_6299\nRead frame: 2500 from DSC_6299\nRead frame: 2501 from DSC_6299\nRead frame: 2502 from DSC_6299\nRead frame: 2503 from DSC_6299\nRead frame: 2504 from DSC_6299\nRead frame: 2505 from DSC_6299\nRead frame: 2506 from DSC_6299\n"
     ]
    },
    {
     "name": "stdout",
     "output_type": "stream",
     "text": [
      "Read frame: 2507 from DSC_6299\nRead frame: 2508 from DSC_6299\nRead frame: 2509 from DSC_6299\nRead frame: 2510 from DSC_6299\nRead frame: 2511 from DSC_6299\nRead frame: 2512 from DSC_6299\nRead frame: 2513 from DSC_6299\nRead frame: 2514 from DSC_6299\nRead frame: 2515 from DSC_6299\nRead frame: 2516 from DSC_6299\nRead frame: 2517 from DSC_6299\n"
     ]
    },
    {
     "name": "stdout",
     "output_type": "stream",
     "text": [
      "Read frame: 2518 from DSC_6299\nRead frame: 2519 from DSC_6299\nRead frame: 2520 from DSC_6299\nRead frame: 2521 from DSC_6299\nRead frame: 2522 from DSC_6299\nRead frame: 2523 from DSC_6299\nRead frame: 2524 from DSC_6299\nRead frame: 2525 from DSC_6299\nRead frame: 2526 from DSC_6299\nRead frame: 2527 from DSC_6299\nRead frame: 2528 from DSC_6299\n"
     ]
    },
    {
     "name": "stdout",
     "output_type": "stream",
     "text": [
      "Read frame: 2529 from DSC_6299\nRead frame: 2530 from DSC_6299\nRead frame: 2531 from DSC_6299\nRead frame: 2532 from DSC_6299\nRead frame: 2533 from DSC_6299\nRead frame: 2534 from DSC_6299\nRead frame: 2535 from DSC_6299\nRead frame: 2536 from DSC_6299\nRead frame: 2537 from DSC_6299\nRead frame: 2538 from DSC_6299\nRead frame: 2539 from DSC_6299\nRead frame: 2540 from DSC_6299\n"
     ]
    },
    {
     "name": "stdout",
     "output_type": "stream",
     "text": [
      "Read frame: 2541 from DSC_6299\nRead frame: 2542 from DSC_6299\nRead frame: 2543 from DSC_6299\nRead frame: 2544 from DSC_6299\nRead frame: 2545 from DSC_6299\nRead frame: 2546 from DSC_6299\nRead frame: 2547 from DSC_6299\nRead frame: 2548 from DSC_6299\nRead frame: 2549 from DSC_6299\nRead frame: 2550 from DSC_6299\nRead frame: 2551 from DSC_6299\nRead frame: 2552 from DSC_6299\n"
     ]
    },
    {
     "name": "stdout",
     "output_type": "stream",
     "text": [
      "Read frame: 2553 from DSC_6299\nRead frame: 2554 from DSC_6299\nRead frame: 2555 from DSC_6299\nRead frame: 2556 from DSC_6299\nRead frame: 2557 from DSC_6299\nRead frame: 2558 from DSC_6299\nRead frame: 2559 from DSC_6299\nRead frame: 2560 from DSC_6299\nRead frame: 2561 from DSC_6299\nRead frame: 2562 from DSC_6299\nRead frame: 2563 from DSC_6299\nRead frame: 2564 from DSC_6299\nRead frame: 2565 from DSC_6299\nRead frame: 2566 from DSC_6299\n"
     ]
    },
    {
     "name": "stdout",
     "output_type": "stream",
     "text": [
      "Read frame: 2567 from DSC_6299\nRead frame: 2568 from DSC_6299\nRead frame: 2569 from DSC_6299\nRead frame: 2570 from DSC_6299\nRead frame: 2571 from DSC_6299\nRead frame: 2572 from DSC_6299\nRead frame: 2573 from DSC_6299\nRead frame: 2574 from DSC_6299\nRead frame: 2575 from DSC_6299\nRead frame: 2576 from DSC_6299\nRead frame: 2577 from DSC_6299\nRead frame: 2578 from DSC_6299\n"
     ]
    },
    {
     "name": "stdout",
     "output_type": "stream",
     "text": [
      "Read frame: 2579 from DSC_6299\nRead frame: 2580 from DSC_6299\nRead frame: 2581 from DSC_6299\nRead frame: 2582 from DSC_6299\nRead frame: 2583 from DSC_6299\nRead frame: 2584 from DSC_6299\nRead frame: 2585 from DSC_6299\nRead frame: 2586 from DSC_6299\nRead frame: 2587 from DSC_6299\nRead frame: 2588 from DSC_6299\nRead frame: 2589 from DSC_6299\n"
     ]
    },
    {
     "name": "stdout",
     "output_type": "stream",
     "text": [
      "Read frame: 2590 from DSC_6299\nRead frame: 2591 from DSC_6299\nRead frame: 2592 from DSC_6299\nRead frame: 2593 from DSC_6299\nRead frame: 2594 from DSC_6299\nRead frame: 2595 from DSC_6299\nRead frame: 2596 from DSC_6299\nRead frame: 2597 from DSC_6299\nRead frame: 2598 from DSC_6299\nRead frame: 2599 from DSC_6299\n"
     ]
    },
    {
     "name": "stdout",
     "output_type": "stream",
     "text": [
      "Read frame: 2600 from DSC_6299\nRead frame: 2601 from DSC_6299\nRead frame: 2602 from DSC_6299\nRead frame: 2603 from DSC_6299\nRead frame: 2604 from DSC_6299\nRead frame: 2605 from DSC_6299\nRead frame: 2606 from DSC_6299\nRead frame: 2607 from DSC_6299\nRead frame: 2608 from DSC_6299\nRead frame: 2609 from DSC_6299\nRead frame: 2610 from DSC_6299\nRead frame: 2611 from DSC_6299\nRead frame: 2612 from DSC_6299\n"
     ]
    },
    {
     "name": "stdout",
     "output_type": "stream",
     "text": [
      "Read frame: 2613 from DSC_6299\nRead frame: 2614 from DSC_6299\nRead frame: 2615 from DSC_6299\nRead frame: 2616 from DSC_6299\nRead frame: 2617 from DSC_6299\nRead frame: 2618 from DSC_6299\nRead frame: 2619 from DSC_6299\n"
     ]
    },
    {
     "name": "stdout",
     "output_type": "stream",
     "text": [
      "Read frame: 2620 from DSC_6299\nRead frame: 2621 from DSC_6299\nRead frame: 2622 from DSC_6299\nRead frame: 2623 from DSC_6299\nRead frame: 2624 from DSC_6299\nRead frame: 2625 from DSC_6299\nRead frame: 2626 from DSC_6299\nRead frame: 2627 from DSC_6299\nRead frame: 2628 from DSC_6299\n"
     ]
    },
    {
     "name": "stdout",
     "output_type": "stream",
     "text": [
      "Read frame: 2629 from DSC_6299\nRead frame: 2630 from DSC_6299\nRead frame: 2631 from DSC_6299\nRead frame: 2632 from DSC_6299\nRead frame: 2633 from DSC_6299\nRead frame: 2634 from DSC_6299\nRead frame: 2635 from DSC_6299\nRead frame: 2636 from DSC_6299\nRead frame: 2637 from DSC_6299\nRead frame: 2638 from DSC_6299\nRead frame: 2639 from DSC_6299\nRead frame: 2640 from DSC_6299\n"
     ]
    },
    {
     "name": "stdout",
     "output_type": "stream",
     "text": [
      "Read frame: 2641 from DSC_6299\nRead frame: 2642 from DSC_6299\nRead frame: 2643 from DSC_6299\nRead frame: 2644 from DSC_6299\nRead frame: 2645 from DSC_6299\nRead frame: 2646 from DSC_6299\nRead frame: 2647 from DSC_6299\nRead frame: 2648 from DSC_6299\nRead frame: 2649 from DSC_6299\nRead frame: 2650 from DSC_6299\n"
     ]
    },
    {
     "name": "stdout",
     "output_type": "stream",
     "text": [
      "Read frame: 2651 from DSC_6299\nRead frame: 2652 from DSC_6299\nRead frame: 2653 from DSC_6299\nRead frame: 2654 from DSC_6299\nRead frame: 2655 from DSC_6299\nRead frame: 2656 from DSC_6299\nRead frame: 2657 from DSC_6299\nRead frame: 2658 from DSC_6299\nRead frame: 2659 from DSC_6299\nRead frame: 2660 from DSC_6299\n"
     ]
    },
    {
     "name": "stdout",
     "output_type": "stream",
     "text": [
      "Read frame: 2661 from DSC_6299\nRead frame: 2662 from DSC_6299\nRead frame: 2663 from DSC_6299\nRead frame: 2664 from DSC_6299\nRead frame: 2665 from DSC_6299\nRead frame: 2666 from DSC_6299\nRead frame: 2667 from DSC_6299\nRead frame: 2668 from DSC_6299\n"
     ]
    },
    {
     "name": "stdout",
     "output_type": "stream",
     "text": [
      "Read frame: 2669 from DSC_6299\nRead frame: 2670 from DSC_6299\nRead frame: 2671 from DSC_6299\nRead frame: 2672 from DSC_6299\nRead frame: 2673 from DSC_6299\nRead frame: 2674 from DSC_6299\nRead frame: 2675 from DSC_6299\nRead frame: 2676 from DSC_6299\nRead frame: 2677 from DSC_6299\nRead frame: 2678 from DSC_6299\n"
     ]
    },
    {
     "name": "stdout",
     "output_type": "stream",
     "text": [
      "Read frame: 2679 from DSC_6299\nRead frame: 2680 from DSC_6299\nRead frame: 2681 from DSC_6299\nRead frame: 2682 from DSC_6299\nRead frame: 2683 from DSC_6299\nRead frame: 2684 from DSC_6299\nRead frame: 2685 from DSC_6299\nRead frame: 2686 from DSC_6299\nRead frame: 2687 from DSC_6299\nRead frame: 2688 from DSC_6299\n"
     ]
    },
    {
     "name": "stdout",
     "output_type": "stream",
     "text": [
      "Read frame: 2689 from DSC_6299\nRead frame: 2690 from DSC_6299\nRead frame: 2691 from DSC_6299\nRead frame: 2692 from DSC_6299\nRead frame: 2693 from DSC_6299\nRead frame: 2694 from DSC_6299\nRead frame: 2695 from DSC_6299\nRead frame: 2696 from DSC_6299\nRead frame: 2697 from DSC_6299\nRead frame: 2698 from DSC_6299\nRead frame: 2699 from DSC_6299\n"
     ]
    },
    {
     "name": "stdout",
     "output_type": "stream",
     "text": [
      "Read frame: 2700 from DSC_6299\nRead frame: 2701 from DSC_6299\nRead frame: 2702 from DSC_6299\nRead frame: 2703 from DSC_6299\nRead frame: 2704 from DSC_6299\nRead frame: 2705 from DSC_6299\nRead frame: 2706 from DSC_6299\nRead frame: 2707 from DSC_6299\nRead frame: 2708 from DSC_6299\nRead frame: 2709 from DSC_6299\nRead frame: 2710 from DSC_6299\n"
     ]
    },
    {
     "name": "stdout",
     "output_type": "stream",
     "text": [
      "Read frame: 2711 from DSC_6299\nRead frame: 2712 from DSC_6299\nRead frame: 2713 from DSC_6299\nRead frame: 2714 from DSC_6299\nRead frame: 2715 from DSC_6299\nRead frame: 2716 from DSC_6299\nRead frame: 2717 from DSC_6299\nRead frame: 2718 from DSC_6299\nRead frame: 2719 from DSC_6299\nRead frame: 2720 from DSC_6299\nRead frame: 2721 from DSC_6299\nRead frame: 2722 from DSC_6299\n"
     ]
    },
    {
     "name": "stdout",
     "output_type": "stream",
     "text": [
      "Read frame: 2723 from DSC_6299\nRead frame: 2724 from DSC_6299\nRead frame: 2725 from DSC_6299\nRead frame: 2726 from DSC_6299\nRead frame: 2727 from DSC_6299\nRead frame: 2728 from DSC_6299\nRead frame: 2729 from DSC_6299\nRead frame: 2730 from DSC_6299\nRead frame: 2731 from DSC_6299\nRead frame: 2732 from DSC_6299\nRead frame: 2733 from DSC_6299\nRead frame: 2734 from DSC_6299\nRead frame: 2735 from DSC_6299\n"
     ]
    },
    {
     "name": "stdout",
     "output_type": "stream",
     "text": [
      "Read frame: 2736 from DSC_6299\nRead frame: 2737 from DSC_6299\nRead frame: 2738 from DSC_6299\nRead frame: 2739 from DSC_6299\nRead frame: 2740 from DSC_6299\nRead frame: 2741 from DSC_6299\nRead frame: 2742 from DSC_6299\nRead frame: 2743 from DSC_6299\nRead frame: 2744 from DSC_6299\nRead frame: 2745 from DSC_6299\nRead frame: 2746 from DSC_6299\n"
     ]
    },
    {
     "name": "stdout",
     "output_type": "stream",
     "text": [
      "Read frame: 2747 from DSC_6299\nRead frame: 2748 from DSC_6299\nRead frame: 2749 from DSC_6299\nRead frame: 2750 from DSC_6299\nRead frame: 2751 from DSC_6299\nRead frame: 2752 from DSC_6299\nRead frame: 2753 from DSC_6299\nRead frame: 2754 from DSC_6299\nRead frame: 2755 from DSC_6299\nRead frame: 2756 from DSC_6299\nRead frame: 2757 from DSC_6299\nRead frame: 2758 from DSC_6299\n"
     ]
    },
    {
     "name": "stdout",
     "output_type": "stream",
     "text": [
      "Read frame: 2759 from DSC_6299\nRead frame: 2760 from DSC_6299\nRead frame: 2761 from DSC_6299\nRead frame: 2762 from DSC_6299\nRead frame: 2763 from DSC_6299\nRead frame: 2764 from DSC_6299\nRead frame: 2765 from DSC_6299\nRead frame: 2766 from DSC_6299\nRead frame: 2767 from DSC_6299\nRead frame: 2768 from DSC_6299\nRead frame: 2769 from DSC_6299\nRead frame: 2770 from DSC_6299\n"
     ]
    },
    {
     "name": "stdout",
     "output_type": "stream",
     "text": [
      "Read frame: 2771 from DSC_6299\nRead frame: 2772 from DSC_6299\nRead frame: 2773 from DSC_6299\nRead frame: 2774 from DSC_6299\nRead frame: 2775 from DSC_6299\nRead frame: 2776 from DSC_6299\nRead frame: 2777 from DSC_6299\nRead frame: 2778 from DSC_6299\nRead frame: 2779 from DSC_6299\nRead frame: 2780 from DSC_6299\nRead frame: 2781 from DSC_6299\nRead frame: 2782 from DSC_6299\n"
     ]
    },
    {
     "name": "stdout",
     "output_type": "stream",
     "text": [
      "Read frame: 2783 from DSC_6299\nRead frame: 2784 from DSC_6299\nRead frame: 2785 from DSC_6299\nRead frame: 2786 from DSC_6299\nRead frame: 2787 from DSC_6299\nRead frame: 2788 from DSC_6299\nRead frame: 2789 from DSC_6299\nRead frame: 2790 from DSC_6299\nRead frame: 2791 from DSC_6299\nRead frame: 2792 from DSC_6299\nRead frame: 2793 from DSC_6299\nRead frame: 2794 from DSC_6299\n"
     ]
    },
    {
     "name": "stdout",
     "output_type": "stream",
     "text": [
      "Read frame: 2795 from DSC_6299\nRead frame: 2796 from DSC_6299\nRead frame: 2797 from DSC_6299\nRead frame: 2798 from DSC_6299\nRead frame: 2799 from DSC_6299\nRead frame: 2800 from DSC_6299\nRead frame: 2801 from DSC_6299\nRead frame: 2802 from DSC_6299\nRead frame: 2803 from DSC_6299\nRead frame: 2804 from DSC_6299\nRead frame: 2805 from DSC_6299\nRead frame: 2806 from DSC_6299\nRead frame: 2807 from DSC_6299\n"
     ]
    },
    {
     "name": "stdout",
     "output_type": "stream",
     "text": [
      "Read frame: 2808 from DSC_6299\nRead frame: 2809 from DSC_6299\nRead frame: 2810 from DSC_6299\nRead frame: 2811 from DSC_6299\nRead frame: 2812 from DSC_6299\nRead frame: 2813 from DSC_6299\nRead frame: 2814 from DSC_6299\nRead frame: 2815 from DSC_6299\n"
     ]
    },
    {
     "name": "stdout",
     "output_type": "stream",
     "text": [
      "Read frame: 2816 from DSC_6299\nRead frame: 2817 from DSC_6299\nRead frame: 2818 from DSC_6299\nRead frame: 2819 from DSC_6299\nRead frame: 2820 from DSC_6299\nRead frame: 2821 from DSC_6299\nRead frame: 2822 from DSC_6299\nRead frame: 2823 from DSC_6299\n"
     ]
    },
    {
     "name": "stdout",
     "output_type": "stream",
     "text": [
      "Read frame: 2824 from DSC_6299\nRead frame: 2825 from DSC_6299\nRead frame: 2826 from DSC_6299\nRead frame: 2827 from DSC_6299\nRead frame: 2828 from DSC_6299\nRead frame: 2829 from DSC_6299\n"
     ]
    },
    {
     "name": "stdout",
     "output_type": "stream",
     "text": [
      "Read frame: 2830 from DSC_6299\nRead frame: 2831 from DSC_6299\nRead frame: 2832 from DSC_6299\nRead frame: 2833 from DSC_6299\nRead frame: 2834 from DSC_6299\nRead frame: 2835 from DSC_6299\nRead frame: 2836 from DSC_6299\nRead frame: 2837 from DSC_6299\nRead frame: 2838 from DSC_6299\nRead frame: 2839 from DSC_6299\n"
     ]
    },
    {
     "name": "stdout",
     "output_type": "stream",
     "text": [
      "Read frame: 2840 from DSC_6299\nRead frame: 2841 from DSC_6299\nRead frame: 2842 from DSC_6299\nRead frame: 2843 from DSC_6299\nRead frame: 2844 from DSC_6299\nRead frame: 2845 from DSC_6299\nRead frame: 2846 from DSC_6299\nRead frame: 2847 from DSC_6299\nRead frame: 2848 from DSC_6299\n"
     ]
    },
    {
     "name": "stdout",
     "output_type": "stream",
     "text": [
      "Read frame: 2849 from DSC_6299\nRead frame: 2850 from DSC_6299\nRead frame: 2851 from DSC_6299\nRead frame: 2852 from DSC_6299\nRead frame: 2853 from DSC_6299\nRead frame: 2854 from DSC_6299\nRead frame: 2855 from DSC_6299\nRead frame: 2856 from DSC_6299\nRead frame: 2857 from DSC_6299\n"
     ]
    },
    {
     "name": "stdout",
     "output_type": "stream",
     "text": [
      "Read frame: 2858 from DSC_6299\nRead frame: 2859 from DSC_6299\nRead frame: 2860 from DSC_6299\nRead frame: 2861 from DSC_6299\nRead frame: 2862 from DSC_6299\nRead frame: 2863 from DSC_6299\nRead frame: 2864 from DSC_6299\nRead frame: 2865 from DSC_6299\nRead frame: 2866 from DSC_6299\nRead frame: 2867 from DSC_6299\nRead frame: 2868 from DSC_6299\n"
     ]
    },
    {
     "name": "stdout",
     "output_type": "stream",
     "text": [
      "Read frame: 2869 from DSC_6299\nRead frame: 2870 from DSC_6299\nRead frame: 2871 from DSC_6299\nRead frame: 2872 from DSC_6299\nRead frame: 2873 from DSC_6299\nRead frame: 2874 from DSC_6299\nRead frame: 2875 from DSC_6299\nRead frame: 2876 from DSC_6299\nRead frame: 2877 from DSC_6299\nRead frame: 2878 from DSC_6299\nRead frame: 2879 from DSC_6299\n"
     ]
    },
    {
     "name": "stdout",
     "output_type": "stream",
     "text": [
      "Read frame: 2880 from DSC_6299\nRead frame: 2881 from DSC_6299\nRead frame: 2882 from DSC_6299\nRead frame: 2883 from DSC_6299\nRead frame: 2884 from DSC_6299\nRead frame: 2885 from DSC_6299\nRead frame: 2886 from DSC_6299\nRead frame: 2887 from DSC_6299\nRead frame: 2888 from DSC_6299\nRead frame: 2889 from DSC_6299\nRead frame: 2890 from DSC_6299\nRead frame: 2891 from DSC_6299\nRead frame: 2892 from DSC_6299\n"
     ]
    },
    {
     "name": "stdout",
     "output_type": "stream",
     "text": [
      "Read frame: 2893 from DSC_6299\nRead frame: 2894 from DSC_6299\nRead frame: 2895 from DSC_6299\nRead frame: 2896 from DSC_6299\nRead frame: 2897 from DSC_6299\nRead frame: 2898 from DSC_6299\nRead frame: 2899 from DSC_6299\nRead frame: 2900 from DSC_6299\nRead frame: 2901 from DSC_6299\nRead frame: 2902 from DSC_6299\nRead frame: 2903 from DSC_6299\nRead frame: 2904 from DSC_6299\nRead frame: 2905 from DSC_6299\n"
     ]
    },
    {
     "name": "stdout",
     "output_type": "stream",
     "text": [
      "Read frame: 2906 from DSC_6299\nRead frame: 2907 from DSC_6299\nRead frame: 2908 from DSC_6299\nRead frame: 2909 from DSC_6299\nRead frame: 2910 from DSC_6299\nRead frame: 2911 from DSC_6299\nRead frame: 2912 from DSC_6299\nRead frame: 2913 from DSC_6299\nRead frame: 2914 from DSC_6299\nRead frame: 2915 from DSC_6299\nRead frame: 2916 from DSC_6299\nRead frame: 2917 from DSC_6299\nRead frame: 2918 from DSC_6299\n"
     ]
    },
    {
     "name": "stdout",
     "output_type": "stream",
     "text": [
      "Read frame: 2919 from DSC_6299\nRead frame: 2920 from DSC_6299\nRead frame: 2921 from DSC_6299\nRead frame: 2922 from DSC_6299\nRead frame: 2923 from DSC_6299\nRead frame: 2924 from DSC_6299\nRead frame: 2925 from DSC_6299\nRead frame: 2926 from DSC_6299\nRead frame: 2927 from DSC_6299\nRead frame: 2928 from DSC_6299\nRead frame: 2929 from DSC_6299\nRead frame: 2930 from DSC_6299\nRead frame: 2931 from DSC_6299\n"
     ]
    },
    {
     "name": "stdout",
     "output_type": "stream",
     "text": [
      "Read frame: 2932 from DSC_6299\nRead frame: 2933 from DSC_6299\nRead frame: 2934 from DSC_6299\nRead frame: 2935 from DSC_6299\nRead frame: 2936 from DSC_6299\nRead frame: 2937 from DSC_6299\nRead frame: 2938 from DSC_6299\nRead frame: 2939 from DSC_6299\nRead frame: 2940 from DSC_6299\nRead frame: 2941 from DSC_6299\nRead frame: 2942 from DSC_6299\nRead frame: 2943 from DSC_6299\nRead frame: 2944 from DSC_6299\nRead frame: 2945 from DSC_6299\n"
     ]
    },
    {
     "name": "stdout",
     "output_type": "stream",
     "text": [
      "Read frame: 2946 from DSC_6299\nRead frame: 2947 from DSC_6299\nRead frame: 2948 from DSC_6299\nRead frame: 2949 from DSC_6299\nRead frame: 2950 from DSC_6299\nRead frame: 2951 from DSC_6299\nRead frame: 2952 from DSC_6299\nRead frame: 2953 from DSC_6299\nRead frame: 2954 from DSC_6299\nRead frame: 2955 from DSC_6299\nRead frame: 2956 from DSC_6299\n"
     ]
    },
    {
     "name": "stdout",
     "output_type": "stream",
     "text": [
      "Read frame: 2957 from DSC_6299\nRead frame: 2958 from DSC_6299\nRead frame: 2959 from DSC_6299\nRead frame: 2960 from DSC_6299\n"
     ]
    },
    {
     "ename": "KeyboardInterrupt",
     "evalue": "",
     "traceback": [
      "\u001b[1;31m---------------------------------------------------------------------------\u001b[0m",
      "\u001b[1;31mKeyboardInterrupt\u001b[0m                         Traceback (most recent call last)",
      "\u001b[1;32m<ipython-input-9-5e583a646958>\u001b[0m in \u001b[0;36m<module>\u001b[1;34m\u001b[0m\n\u001b[0;32m      8\u001b[0m         \u001b[1;32mcontinue\u001b[0m\u001b[1;33m\u001b[0m\u001b[1;33m\u001b[0m\u001b[0m\n\u001b[0;32m      9\u001b[0m     \u001b[0medited_files\u001b[0m\u001b[1;33m.\u001b[0m\u001b[0mappend\u001b[0m\u001b[1;33m(\u001b[0m\u001b[0mdata_name\u001b[0m\u001b[1;33m)\u001b[0m\u001b[1;33m\u001b[0m\u001b[1;33m\u001b[0m\u001b[0m\n\u001b[1;32m---> 10\u001b[1;33m     \u001b[0medit_file\u001b[0m\u001b[1;33m(\u001b[0m\u001b[0mdirectory\u001b[0m\u001b[1;33m+\u001b[0m\u001b[1;34m\"\\\\\"\u001b[0m\u001b[1;33m+\u001b[0m\u001b[0mdata_name\u001b[0m\u001b[1;33m+\u001b[0m\u001b[1;34m\".MOV\"\u001b[0m\u001b[1;33m,\u001b[0m\u001b[0mdirectory\u001b[0m\u001b[1;33m+\u001b[0m\u001b[1;34m\"\\\\\"\u001b[0m\u001b[1;33m+\u001b[0m\u001b[0mdata_name\u001b[0m\u001b[1;33m+\u001b[0m\u001b[1;34m\".txt\"\u001b[0m\u001b[1;33m,\u001b[0m\u001b[0mcropped_dir\u001b[0m\u001b[1;33m)\u001b[0m\u001b[1;33m\u001b[0m\u001b[1;33m\u001b[0m\u001b[0m\n\u001b[0m",
      "\u001b[1;32m<ipython-input-7-46e049ca110c>\u001b[0m in \u001b[0;36medit_file\u001b[1;34m(mov_file, txt_file, save_dir)\u001b[0m\n\u001b[0;32m     17\u001b[0m         \u001b[0mgray_image\u001b[0m \u001b[1;33m=\u001b[0m \u001b[0mcv2\u001b[0m\u001b[1;33m.\u001b[0m\u001b[0mcvtColor\u001b[0m\u001b[1;33m(\u001b[0m\u001b[0mcrop_img\u001b[0m\u001b[1;33m,\u001b[0m \u001b[0mcv2\u001b[0m\u001b[1;33m.\u001b[0m\u001b[0mCOLOR_BGR2GRAY\u001b[0m\u001b[1;33m)\u001b[0m\u001b[1;33m\u001b[0m\u001b[1;33m\u001b[0m\u001b[0m\n\u001b[0;32m     18\u001b[0m         \u001b[0mcv2\u001b[0m\u001b[1;33m.\u001b[0m\u001b[0mimwrite\u001b[0m\u001b[1;33m(\u001b[0m\u001b[0msave_dir\u001b[0m \u001b[1;33m+\u001b[0m \u001b[1;34m\"\\\\\"\u001b[0m \u001b[1;33m+\u001b[0m \u001b[0mdata_name\u001b[0m \u001b[1;33m+\u001b[0m \u001b[1;34m\"_frame%d.jpg\"\u001b[0m \u001b[1;33m%\u001b[0m \u001b[0mcount\u001b[0m\u001b[1;33m,\u001b[0m \u001b[0mgray_image\u001b[0m\u001b[1;33m)\u001b[0m  \u001b[1;31m# save frame as JPEG file\u001b[0m\u001b[1;33m\u001b[0m\u001b[1;33m\u001b[0m\u001b[0m\n\u001b[1;32m---> 19\u001b[1;33m         \u001b[0msuccess\u001b[0m\u001b[1;33m,\u001b[0m \u001b[0mimage\u001b[0m \u001b[1;33m=\u001b[0m \u001b[0mvidcap\u001b[0m\u001b[1;33m.\u001b[0m\u001b[0mread\u001b[0m\u001b[1;33m(\u001b[0m\u001b[1;33m)\u001b[0m\u001b[1;33m\u001b[0m\u001b[1;33m\u001b[0m\u001b[0m\n\u001b[0m\u001b[0;32m     20\u001b[0m         \u001b[0mprint\u001b[0m\u001b[1;33m(\u001b[0m\u001b[1;34m\"Read frame: %d from %s\"\u001b[0m \u001b[1;33m%\u001b[0m \u001b[1;33m(\u001b[0m\u001b[0mcount\u001b[0m\u001b[1;33m,\u001b[0m \u001b[0mdata_name\u001b[0m\u001b[1;33m)\u001b[0m\u001b[1;33m)\u001b[0m\u001b[1;33m\u001b[0m\u001b[1;33m\u001b[0m\u001b[0m\n\u001b[0;32m     21\u001b[0m         \u001b[0mcount\u001b[0m \u001b[1;33m+=\u001b[0m \u001b[1;36m1\u001b[0m\u001b[1;33m\u001b[0m\u001b[1;33m\u001b[0m\u001b[0m\n",
      "\u001b[1;31mKeyboardInterrupt\u001b[0m: "
     ],
     "output_type": "error"
    }
   ],
   "source": [
    "edited_files=[cropped_dir_name]\n",
    "for filename in os.listdir(directory):\n",
    "    data_name=filename.split(\".\")[0]\n",
    "    if not (filename.endswith(\".txt\") or filename.endswith(\".MOV\") or filename==cropped_dir_name):\n",
    "        print(\"Toar you stupid boy, %s isn't .MOV or .txt file, fix your bugs motherfucker\" % data_name)\n",
    "        break\n",
    "    if data_name in edited_files:\n",
    "        continue\n",
    "    edited_files.append(data_name)\n",
    "    edit_file(directory+\"\\\\\"+data_name+\".MOV\",directory+\"\\\\\"+data_name+\".txt\",cropped_dir)\n"
   ]
  },
  {
   "cell_type": "code",
   "execution_count": 10,
   "metadata": {},
   "outputs": [],
   "source": [
    "cropped_names = []\n",
    "for filename in os.listdir(cropped_dir):\n",
    "    if filename in cropped_names:\n",
    "        ask_remove_duplicates(cropped_dir)\n",
    "        \n",
    "        break\n",
    "    cropped_names.append(filename)\n"
   ]
  },
  {
   "cell_type": "code",
   "execution_count": 11,
   "metadata": {},
   "outputs": [
    {
     "data": {
      "text/plain": [
       "16280"
      ]
     },
     "execution_count": 11,
     "metadata": {},
     "output_type": "execute_result"
    }
   ],
   "source": [
    "len(set(cropped_names))"
   ]
  },
  {
   "cell_type": "code",
   "execution_count": null,
   "metadata": {},
   "outputs": [],
   "source": []
  }
 ],
 "metadata": {
  "kernelspec": {
   "display_name": "Python 3",
   "language": "python",
   "name": "python3"
  },
  "language_info": {
   "codemirror_mode": {
    "name": "ipython",
    "version": 3
   },
   "file_extension": ".py",
   "mimetype": "text/x-python",
   "name": "python",
   "nbconvert_exporter": "python",
   "pygments_lexer": "ipython3",
   "version": "3.7.1"
  }
 },
 "nbformat": 4,
 "nbformat_minor": 2
}
