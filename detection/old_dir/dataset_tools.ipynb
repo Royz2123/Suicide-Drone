{
 "cells": [
  {
   "cell_type": "code",
   "execution_count": 2,
   "metadata": {},
   "outputs": [],
   "source": [
    "import cv2\n",
    "import matplotlib.pyplot as plt\n",
    "import numpy as np\n",
    "\n",
    "import os\n"
   ]
  },
  {
   "cell_type": "code",
   "execution_count": 3,
   "metadata": {},
   "outputs": [
    {
     "data": {
      "text/plain": [
       "'C:\\\\Users\\\\t8637523\\\\Desktop\\\\Puzzles Refael\\\\Suicide-Drone'"
      ]
     },
     "execution_count": 3,
     "metadata": {},
     "output_type": "execute_result"
    }
   ],
   "source": [
    "os.getcwd()\n",
    "os.chdir(\"C:\\\\Users\\\\t8637523\\\\Desktop\\\\Puzzles Refael\\\\Suicide-Drone\")\n",
    "os.getcwd()"
   ]
  },
  {
   "cell_type": "code",
   "execution_count": 4,
   "metadata": {},
   "outputs": [],
   "source": [
    "PARSE_POS = False\n",
    "PARSE_NEG = True"
   ]
  },
  {
   "cell_type": "code",
   "execution_count": 5,
   "metadata": {},
   "outputs": [
    {
     "name": "stdout",
     "output_type": "stream",
     "text": [
      "Creation of the directory .\\train_images\\drones\\final_images\\p succeeded, because it's already exists Toar...\nCreation of the directory .\\train_images\\drones\\final_images\\n succeeded, because it's already exists Toar...\n"
     ]
    }
   ],
   "source": [
    "base = \".\\\\train_images\\\\drones\"\n",
    "\n",
    "directory = base + \"\\\\raw_data\"\n",
    "\n",
    "positive_directory = directory + \"\\\\positives\"\n",
    "negative_directory = directory + \"\\\\negatives\"\n",
    "\n",
    "\n",
    "final_dir = base + \"\\\\final_images\"\n",
    "cropped_dir_name = \"p\"\n",
    "cropped_dir = final_dir + \"\\\\\" + cropped_dir_name\n",
    "seperated_dir_name = \"n\"\n",
    "\n",
    "seperated_dir = final_dir + \"\\\\\" + seperated_dir_name\n",
    "\n",
    "try:\n",
    "    if not os.path.isdir(cropped_dir):\n",
    "        os.mkdir(cropped_dir)\n",
    "        print(\"Successfully created the directory %s \" % cropped_dir)\n",
    "    else:\n",
    "        print(\"Creation of the directory %s succeeded, because it's already exists Toar...\" % cropped_dir)\n",
    "except OSError:\n",
    "    print(\"Creation of the directory %s failed\" % cropped_dir)\n",
    "\n",
    "try:\n",
    "    if not os.path.isdir(seperated_dir):\n",
    "        os.mkdir(seperated_dir)\n",
    "        print(\"Successfully created the directory %s \" % seperated_dir)\n",
    "    else:\n",
    "        print(\"Creation of the directory %s succeeded, because it's already exists Toar...\" % seperated_dir)\n",
    "except OSError:\n",
    "    print(\"Creation of the directory %s failed\" % seperated_dir)\n"
   ]
  },
  {
   "cell_type": "markdown",
   "metadata": {},
   "source": [
    "positive images"
   ]
  },
  {
   "cell_type": "code",
   "execution_count": 6,
   "metadata": {},
   "outputs": [],
   "source": [
    "def extract_rect(line):\n",
    "    size_str = line.split(\" \")\n",
    "    sizes = [int(s) for s in size_str]\n",
    "    return sizes[0], sizes[1], sizes[2], sizes[3]"
   ]
  },
  {
   "cell_type": "code",
   "execution_count": 7,
   "metadata": {},
   "outputs": [],
   "source": [
    "def edit_file(mov_file, txt_file, save_dir):\n",
    "    data_name = mov_file.split(\".\")[-2].split(\"\\\\\")[-1]\n",
    "    vidcap = cv2.VideoCapture(mov_file)\n",
    "    success, image = vidcap.read()\n",
    "    count = 0\n",
    "    with open(txt_file, 'r') as txt:\n",
    "        lines = txt.readlines()\n",
    "\n",
    "    while success:\n",
    "        if 3 * count >= len(lines):\n",
    "            print(\"The data of %s is not complete it has %d labeled images but %d images\" % (\n",
    "            data_name, count, len(lines) / 3))\n",
    "            break\n",
    "        x, y, w, h = extract_rect(lines[count * 3 + 2][:-1])\n",
    "        crop_img = image[y:y + h, x:x + w]\n",
    "        gray_image = cv2.cvtColor(crop_img, cv2.COLOR_BGR2GRAY)\n",
    "        cv2.imwrite(save_dir + \"\\\\\" + data_name + \"_frame%d.jpg\" % count, gray_image)  # save frame as JPEG file      \n",
    "        success, image = vidcap.read()\n",
    "        print(\"Read frame: %d from %s\" % (count, data_name))\n",
    "        count += 1\n"
   ]
  },
  {
   "cell_type": "code",
   "execution_count": 8,
   "metadata": {},
   "outputs": [],
   "source": [
    "def ask_remove_duplicates(directory):\n",
    "    remove_duplicates = input(\n",
    "        \"duplicate images were found, delete all duplicates? (you can erase %s and run the script again)[y/n]\" % directory)\n",
    "    if remove_duplicates == \"y\":\n",
    "        used_names = []\n",
    "        for filename in os.listdir(directory):\n",
    "            if filename in used_names:\n",
    "                os.remove(directory + filename)\n",
    "                print(\"Removed %s\" % filename)\n",
    "            else:\n",
    "                used_names.append(filename)\n",
    "    else:\n",
    "        print(\"Ok, Toar...\")\n"
   ]
  },
  {
   "cell_type": "code",
   "execution_count": 9,
   "metadata": {},
   "outputs": [],
   "source": [
    "# POSITIVE HANDLING\n",
    "\n",
    "if PARSE_POS:\n",
    "    edited_files=[cropped_dir_name]\n",
    "    for filename in os.listdir(positive_directory):\n",
    "        data_name=filename.split(\".\")[0]\n",
    "        if not (filename.endswith(\".txt\") or filename.endswith(\".MOV\") or filename==cropped_dir_name):\n",
    "            print(\"Toar you stupid boy, %s isn't .MOV or .txt file, fix your bugs motherfucker\" % data_name)\n",
    "            break\n",
    "        if data_name in edited_files:\n",
    "            continue\n",
    "        edited_files.append(data_name)\n",
    "        edit_file(positive_directory+\"\\\\\"+data_name+\".MOV\",positive_directory+\"\\\\\"+data_name+\".txt\",cropped_dir)\n"
   ]
  },
  {
   "cell_type": "markdown",
   "metadata": {},
   "source": [
    "negative images"
   ]
  },
  {
   "cell_type": "code",
   "execution_count": 11,
   "metadata": {},
   "outputs": [],
   "source": [
    "SAMPLE_FREQUENCY = 20\n",
    "\n",
    "def seperate_frames(mov_file, save_dir):\n",
    "    data_name = mov_file.split(\".\")[-2].split(\"\\\\\")[-1]\n",
    "    vidcap = cv2.VideoCapture(mov_file)\n",
    "    success, image = vidcap.read()\n",
    "    count = 0\n",
    "\n",
    "    while success:\n",
    "        gray_image = cv2.cvtColor(image, cv2.COLOR_BGR2GRAY)\n",
    "\n",
    "        if count % SAMPLE_FREQUENCY == 0:\n",
    "            print(\"Read frame: %d from %s\" %(count, data_name))\n",
    "            cv2.imwrite(save_dir + \"\\\\\" + data_name + \"_frame%d.jpg\" % count, gray_image)  # save frame as JPEG file      \n",
    "        \n",
    "        success, image = vidcap.read()\n",
    "\n",
    "    \n",
    "\n",
    "        count += 1\n"
   ]
  },
  {
   "cell_type": "code",
   "execution_count": 12,
   "metadata": {},
   "outputs": [
    {
     "name": "stdout",
     "output_type": "stream",
     "text": [
      "Read frame: 0 from drone_vid_1\n"
     ]
    },
    {
     "name": "stdout",
     "output_type": "stream",
     "text": [
      "Read frame: 20 from drone_vid_1\n"
     ]
    },
    {
     "name": "stdout",
     "output_type": "stream",
     "text": [
      "Read frame: 40 from drone_vid_1\n"
     ]
    },
    {
     "name": "stdout",
     "output_type": "stream",
     "text": [
      "Read frame: 60 from drone_vid_1\n"
     ]
    },
    {
     "name": "stdout",
     "output_type": "stream",
     "text": [
      "Read frame: 80 from drone_vid_1\n"
     ]
    },
    {
     "name": "stdout",
     "output_type": "stream",
     "text": [
      "Read frame: 100 from drone_vid_1\n"
     ]
    },
    {
     "name": "stdout",
     "output_type": "stream",
     "text": [
      "Read frame: 120 from drone_vid_1\n"
     ]
    },
    {
     "name": "stdout",
     "output_type": "stream",
     "text": [
      "Read frame: 140 from drone_vid_1\n"
     ]
    },
    {
     "name": "stdout",
     "output_type": "stream",
     "text": [
      "Read frame: 160 from drone_vid_1\n"
     ]
    },
    {
     "name": "stdout",
     "output_type": "stream",
     "text": [
      "Read frame: 180 from drone_vid_1\n"
     ]
    },
    {
     "name": "stdout",
     "output_type": "stream",
     "text": [
      "Read frame: 200 from drone_vid_1\n"
     ]
    },
    {
     "name": "stdout",
     "output_type": "stream",
     "text": [
      "Read frame: 220 from drone_vid_1\n"
     ]
    },
    {
     "name": "stdout",
     "output_type": "stream",
     "text": [
      "Read frame: 240 from drone_vid_1\n"
     ]
    },
    {
     "name": "stdout",
     "output_type": "stream",
     "text": [
      "Read frame: 260 from drone_vid_1\n"
     ]
    },
    {
     "name": "stdout",
     "output_type": "stream",
     "text": [
      "Read frame: 280 from drone_vid_1\n"
     ]
    },
    {
     "name": "stdout",
     "output_type": "stream",
     "text": [
      "Read frame: 300 from drone_vid_1\n"
     ]
    },
    {
     "name": "stdout",
     "output_type": "stream",
     "text": [
      "Read frame: 320 from drone_vid_1\n"
     ]
    },
    {
     "name": "stdout",
     "output_type": "stream",
     "text": [
      "Read frame: 340 from drone_vid_1\n"
     ]
    },
    {
     "name": "stdout",
     "output_type": "stream",
     "text": [
      "Read frame: 360 from drone_vid_1\n"
     ]
    },
    {
     "name": "stdout",
     "output_type": "stream",
     "text": [
      "Read frame: 380 from drone_vid_1\n"
     ]
    },
    {
     "name": "stdout",
     "output_type": "stream",
     "text": [
      "Read frame: 400 from drone_vid_1\n"
     ]
    },
    {
     "name": "stdout",
     "output_type": "stream",
     "text": [
      "Read frame: 420 from drone_vid_1\n"
     ]
    },
    {
     "name": "stdout",
     "output_type": "stream",
     "text": [
      "Read frame: 440 from drone_vid_1\n"
     ]
    },
    {
     "name": "stdout",
     "output_type": "stream",
     "text": [
      "Read frame: 460 from drone_vid_1\n"
     ]
    },
    {
     "name": "stdout",
     "output_type": "stream",
     "text": [
      "Read frame: 480 from drone_vid_1\n"
     ]
    },
    {
     "name": "stdout",
     "output_type": "stream",
     "text": [
      "Read frame: 500 from drone_vid_1\n"
     ]
    },
    {
     "name": "stdout",
     "output_type": "stream",
     "text": [
      "Read frame: 520 from drone_vid_1\n"
     ]
    },
    {
     "name": "stdout",
     "output_type": "stream",
     "text": [
      "Read frame: 540 from drone_vid_1\n"
     ]
    },
    {
     "name": "stdout",
     "output_type": "stream",
     "text": [
      "Read frame: 560 from drone_vid_1\n"
     ]
    },
    {
     "name": "stdout",
     "output_type": "stream",
     "text": [
      "Read frame: 580 from drone_vid_1\n"
     ]
    },
    {
     "name": "stdout",
     "output_type": "stream",
     "text": [
      "Read frame: 600 from drone_vid_1\n"
     ]
    },
    {
     "name": "stdout",
     "output_type": "stream",
     "text": [
      "Read frame: 620 from drone_vid_1\n"
     ]
    },
    {
     "name": "stdout",
     "output_type": "stream",
     "text": [
      "Read frame: 640 from drone_vid_1\n"
     ]
    },
    {
     "name": "stdout",
     "output_type": "stream",
     "text": [
      "Read frame: 660 from drone_vid_1\n"
     ]
    },
    {
     "name": "stdout",
     "output_type": "stream",
     "text": [
      "Read frame: 680 from drone_vid_1\n"
     ]
    },
    {
     "name": "stdout",
     "output_type": "stream",
     "text": [
      "Read frame: 700 from drone_vid_1\n"
     ]
    },
    {
     "name": "stdout",
     "output_type": "stream",
     "text": [
      "Read frame: 720 from drone_vid_1\n"
     ]
    },
    {
     "name": "stdout",
     "output_type": "stream",
     "text": [
      "Read frame: 740 from drone_vid_1\n"
     ]
    },
    {
     "name": "stdout",
     "output_type": "stream",
     "text": [
      "Read frame: 760 from drone_vid_1\n"
     ]
    },
    {
     "name": "stdout",
     "output_type": "stream",
     "text": [
      "Read frame: 780 from drone_vid_1\n"
     ]
    },
    {
     "name": "stdout",
     "output_type": "stream",
     "text": [
      "Read frame: 800 from drone_vid_1\n"
     ]
    },
    {
     "name": "stdout",
     "output_type": "stream",
     "text": [
      "Read frame: 820 from drone_vid_1\n"
     ]
    },
    {
     "name": "stdout",
     "output_type": "stream",
     "text": [
      "Read frame: 840 from drone_vid_1\n"
     ]
    },
    {
     "name": "stdout",
     "output_type": "stream",
     "text": [
      "Read frame: 860 from drone_vid_1\n"
     ]
    },
    {
     "name": "stdout",
     "output_type": "stream",
     "text": [
      "Read frame: 880 from drone_vid_1\n"
     ]
    },
    {
     "name": "stdout",
     "output_type": "stream",
     "text": [
      "Read frame: 900 from drone_vid_1\n"
     ]
    },
    {
     "name": "stdout",
     "output_type": "stream",
     "text": [
      "Read frame: 920 from drone_vid_1\n"
     ]
    },
    {
     "name": "stdout",
     "output_type": "stream",
     "text": [
      "Read frame: 940 from drone_vid_1\n"
     ]
    },
    {
     "name": "stdout",
     "output_type": "stream",
     "text": [
      "Read frame: 960 from drone_vid_1\n"
     ]
    },
    {
     "name": "stdout",
     "output_type": "stream",
     "text": [
      "Read frame: 980 from drone_vid_1\n"
     ]
    },
    {
     "name": "stdout",
     "output_type": "stream",
     "text": [
      "Read frame: 1000 from drone_vid_1\n"
     ]
    },
    {
     "name": "stdout",
     "output_type": "stream",
     "text": [
      "Read frame: 1020 from drone_vid_1\n"
     ]
    },
    {
     "name": "stdout",
     "output_type": "stream",
     "text": [
      "Read frame: 1040 from drone_vid_1\n"
     ]
    },
    {
     "name": "stdout",
     "output_type": "stream",
     "text": [
      "Read frame: 1060 from drone_vid_1\n"
     ]
    },
    {
     "name": "stdout",
     "output_type": "stream",
     "text": [
      "Read frame: 1080 from drone_vid_1\n"
     ]
    },
    {
     "name": "stdout",
     "output_type": "stream",
     "text": [
      "Read frame: 1100 from drone_vid_1\n"
     ]
    },
    {
     "name": "stdout",
     "output_type": "stream",
     "text": [
      "Read frame: 1120 from drone_vid_1\n"
     ]
    },
    {
     "name": "stdout",
     "output_type": "stream",
     "text": [
      "Read frame: 1140 from drone_vid_1\n"
     ]
    },
    {
     "name": "stdout",
     "output_type": "stream",
     "text": [
      "Read frame: 1160 from drone_vid_1\n"
     ]
    },
    {
     "name": "stdout",
     "output_type": "stream",
     "text": [
      "Read frame: 1180 from drone_vid_1\n"
     ]
    },
    {
     "name": "stdout",
     "output_type": "stream",
     "text": [
      "Read frame: 1200 from drone_vid_1\n"
     ]
    },
    {
     "name": "stdout",
     "output_type": "stream",
     "text": [
      "Read frame: 1220 from drone_vid_1\n"
     ]
    },
    {
     "name": "stdout",
     "output_type": "stream",
     "text": [
      "Read frame: 1240 from drone_vid_1\n"
     ]
    },
    {
     "name": "stdout",
     "output_type": "stream",
     "text": [
      "Read frame: 1260 from drone_vid_1\n"
     ]
    },
    {
     "name": "stdout",
     "output_type": "stream",
     "text": [
      "Read frame: 1280 from drone_vid_1\n"
     ]
    },
    {
     "name": "stdout",
     "output_type": "stream",
     "text": [
      "Read frame: 1300 from drone_vid_1\n"
     ]
    },
    {
     "name": "stdout",
     "output_type": "stream",
     "text": [
      "Read frame: 1320 from drone_vid_1\n"
     ]
    },
    {
     "name": "stdout",
     "output_type": "stream",
     "text": [
      "Read frame: 1340 from drone_vid_1\n"
     ]
    },
    {
     "name": "stdout",
     "output_type": "stream",
     "text": [
      "Read frame: 1360 from drone_vid_1\n"
     ]
    },
    {
     "name": "stdout",
     "output_type": "stream",
     "text": [
      "Read frame: 1380 from drone_vid_1\n"
     ]
    },
    {
     "name": "stdout",
     "output_type": "stream",
     "text": [
      "Read frame: 1400 from drone_vid_1\n"
     ]
    },
    {
     "name": "stdout",
     "output_type": "stream",
     "text": [
      "Read frame: 1420 from drone_vid_1\n"
     ]
    },
    {
     "name": "stdout",
     "output_type": "stream",
     "text": [
      "Read frame: 1440 from drone_vid_1\n"
     ]
    },
    {
     "name": "stdout",
     "output_type": "stream",
     "text": [
      "Read frame: 1460 from drone_vid_1\n"
     ]
    },
    {
     "name": "stdout",
     "output_type": "stream",
     "text": [
      "Read frame: 1480 from drone_vid_1\n"
     ]
    },
    {
     "name": "stdout",
     "output_type": "stream",
     "text": [
      "Read frame: 1500 from drone_vid_1\n"
     ]
    },
    {
     "name": "stdout",
     "output_type": "stream",
     "text": [
      "Read frame: 1520 from drone_vid_1\n"
     ]
    },
    {
     "name": "stdout",
     "output_type": "stream",
     "text": [
      "Read frame: 1540 from drone_vid_1\n"
     ]
    },
    {
     "name": "stdout",
     "output_type": "stream",
     "text": [
      "Read frame: 1560 from drone_vid_1\n"
     ]
    },
    {
     "name": "stdout",
     "output_type": "stream",
     "text": [
      "Read frame: 1580 from drone_vid_1\n"
     ]
    },
    {
     "name": "stdout",
     "output_type": "stream",
     "text": [
      "Read frame: 1600 from drone_vid_1\n"
     ]
    },
    {
     "name": "stdout",
     "output_type": "stream",
     "text": [
      "Read frame: 1620 from drone_vid_1\n"
     ]
    },
    {
     "name": "stdout",
     "output_type": "stream",
     "text": [
      "Read frame: 1640 from drone_vid_1\n"
     ]
    },
    {
     "name": "stdout",
     "output_type": "stream",
     "text": [
      "Read frame: 1660 from drone_vid_1\n"
     ]
    },
    {
     "name": "stdout",
     "output_type": "stream",
     "text": [
      "Read frame: 1680 from drone_vid_1\n"
     ]
    },
    {
     "name": "stdout",
     "output_type": "stream",
     "text": [
      "Read frame: 1700 from drone_vid_1\n"
     ]
    },
    {
     "name": "stdout",
     "output_type": "stream",
     "text": [
      "Read frame: 1720 from drone_vid_1\n"
     ]
    },
    {
     "name": "stdout",
     "output_type": "stream",
     "text": [
      "Read frame: 1740 from drone_vid_1\n"
     ]
    },
    {
     "name": "stdout",
     "output_type": "stream",
     "text": [
      "Read frame: 1760 from drone_vid_1\n"
     ]
    },
    {
     "name": "stdout",
     "output_type": "stream",
     "text": [
      "Read frame: 1780 from drone_vid_1\n"
     ]
    },
    {
     "name": "stdout",
     "output_type": "stream",
     "text": [
      "Read frame: 1800 from drone_vid_1\n"
     ]
    },
    {
     "name": "stdout",
     "output_type": "stream",
     "text": [
      "Read frame: 1820 from drone_vid_1\n"
     ]
    },
    {
     "name": "stdout",
     "output_type": "stream",
     "text": [
      "Read frame: 1840 from drone_vid_1\n"
     ]
    },
    {
     "name": "stdout",
     "output_type": "stream",
     "text": [
      "Read frame: 1860 from drone_vid_1\n"
     ]
    },
    {
     "name": "stdout",
     "output_type": "stream",
     "text": [
      "Read frame: 1880 from drone_vid_1\n"
     ]
    },
    {
     "name": "stdout",
     "output_type": "stream",
     "text": [
      "Read frame: 1900 from drone_vid_1\n"
     ]
    },
    {
     "name": "stdout",
     "output_type": "stream",
     "text": [
      "Read frame: 1920 from drone_vid_1\n"
     ]
    },
    {
     "name": "stdout",
     "output_type": "stream",
     "text": [
      "Read frame: 1940 from drone_vid_1\n"
     ]
    },
    {
     "name": "stdout",
     "output_type": "stream",
     "text": [
      "Read frame: 1960 from drone_vid_1\n"
     ]
    },
    {
     "name": "stdout",
     "output_type": "stream",
     "text": [
      "Read frame: 1980 from drone_vid_1\n"
     ]
    },
    {
     "name": "stdout",
     "output_type": "stream",
     "text": [
      "Read frame: 2000 from drone_vid_1\n"
     ]
    },
    {
     "name": "stdout",
     "output_type": "stream",
     "text": [
      "Read frame: 2020 from drone_vid_1\n"
     ]
    },
    {
     "name": "stdout",
     "output_type": "stream",
     "text": [
      "Read frame: 2040 from drone_vid_1\n"
     ]
    },
    {
     "name": "stdout",
     "output_type": "stream",
     "text": [
      "Read frame: 2060 from drone_vid_1\n"
     ]
    },
    {
     "name": "stdout",
     "output_type": "stream",
     "text": [
      "Read frame: 2080 from drone_vid_1\n"
     ]
    },
    {
     "name": "stdout",
     "output_type": "stream",
     "text": [
      "Read frame: 2100 from drone_vid_1\n"
     ]
    },
    {
     "name": "stdout",
     "output_type": "stream",
     "text": [
      "Read frame: 2120 from drone_vid_1\n"
     ]
    },
    {
     "name": "stdout",
     "output_type": "stream",
     "text": [
      "Read frame: 2140 from drone_vid_1\n"
     ]
    },
    {
     "name": "stdout",
     "output_type": "stream",
     "text": [
      "Read frame: 2160 from drone_vid_1\n"
     ]
    },
    {
     "name": "stdout",
     "output_type": "stream",
     "text": [
      "Read frame: 2180 from drone_vid_1\n"
     ]
    },
    {
     "name": "stdout",
     "output_type": "stream",
     "text": [
      "Read frame: 2200 from drone_vid_1\n"
     ]
    },
    {
     "name": "stdout",
     "output_type": "stream",
     "text": [
      "Read frame: 2220 from drone_vid_1\n"
     ]
    },
    {
     "name": "stdout",
     "output_type": "stream",
     "text": [
      "Read frame: 2240 from drone_vid_1\n"
     ]
    },
    {
     "name": "stdout",
     "output_type": "stream",
     "text": [
      "Read frame: 2260 from drone_vid_1\n"
     ]
    },
    {
     "name": "stdout",
     "output_type": "stream",
     "text": [
      "Read frame: 2280 from drone_vid_1\n"
     ]
    },
    {
     "name": "stdout",
     "output_type": "stream",
     "text": [
      "Read frame: 2300 from drone_vid_1\n"
     ]
    },
    {
     "name": "stdout",
     "output_type": "stream",
     "text": [
      "Read frame: 2320 from drone_vid_1\n"
     ]
    },
    {
     "name": "stdout",
     "output_type": "stream",
     "text": [
      "Read frame: 2340 from drone_vid_1\n"
     ]
    },
    {
     "name": "stdout",
     "output_type": "stream",
     "text": [
      "Read frame: 2360 from drone_vid_1\n"
     ]
    },
    {
     "name": "stdout",
     "output_type": "stream",
     "text": [
      "Read frame: 2380 from drone_vid_1\n"
     ]
    },
    {
     "name": "stdout",
     "output_type": "stream",
     "text": [
      "Read frame: 2400 from drone_vid_1\n"
     ]
    },
    {
     "name": "stdout",
     "output_type": "stream",
     "text": [
      "Read frame: 2420 from drone_vid_1\n"
     ]
    },
    {
     "name": "stdout",
     "output_type": "stream",
     "text": [
      "Read frame: 2440 from drone_vid_1\n"
     ]
    },
    {
     "name": "stdout",
     "output_type": "stream",
     "text": [
      "Read frame: 2460 from drone_vid_1\n"
     ]
    },
    {
     "name": "stdout",
     "output_type": "stream",
     "text": [
      "Read frame: 2480 from drone_vid_1\n"
     ]
    },
    {
     "name": "stdout",
     "output_type": "stream",
     "text": [
      "Read frame: 2500 from drone_vid_1\n"
     ]
    },
    {
     "name": "stdout",
     "output_type": "stream",
     "text": [
      "Read frame: 2520 from drone_vid_1\n"
     ]
    },
    {
     "name": "stdout",
     "output_type": "stream",
     "text": [
      "Read frame: 2540 from drone_vid_1\n"
     ]
    },
    {
     "name": "stdout",
     "output_type": "stream",
     "text": [
      "Read frame: 2560 from drone_vid_1\n"
     ]
    },
    {
     "name": "stdout",
     "output_type": "stream",
     "text": [
      "Read frame: 2580 from drone_vid_1\n"
     ]
    },
    {
     "name": "stdout",
     "output_type": "stream",
     "text": [
      "Read frame: 2600 from drone_vid_1\n"
     ]
    },
    {
     "name": "stdout",
     "output_type": "stream",
     "text": [
      "Read frame: 2620 from drone_vid_1\n"
     ]
    },
    {
     "name": "stdout",
     "output_type": "stream",
     "text": [
      "Read frame: 2640 from drone_vid_1\n"
     ]
    },
    {
     "name": "stdout",
     "output_type": "stream",
     "text": [
      "Read frame: 2660 from drone_vid_1\n"
     ]
    },
    {
     "name": "stdout",
     "output_type": "stream",
     "text": [
      "Read frame: 2680 from drone_vid_1\n"
     ]
    },
    {
     "name": "stdout",
     "output_type": "stream",
     "text": [
      "Read frame: 2700 from drone_vid_1\n"
     ]
    },
    {
     "name": "stdout",
     "output_type": "stream",
     "text": [
      "Read frame: 2720 from drone_vid_1\n"
     ]
    },
    {
     "name": "stdout",
     "output_type": "stream",
     "text": [
      "Read frame: 2740 from drone_vid_1\n"
     ]
    },
    {
     "name": "stdout",
     "output_type": "stream",
     "text": [
      "Read frame: 2760 from drone_vid_1\n"
     ]
    },
    {
     "name": "stdout",
     "output_type": "stream",
     "text": [
      "Read frame: 2780 from drone_vid_1\n"
     ]
    },
    {
     "name": "stdout",
     "output_type": "stream",
     "text": [
      "Read frame: 2800 from drone_vid_1\n"
     ]
    },
    {
     "name": "stdout",
     "output_type": "stream",
     "text": [
      "Read frame: 2820 from drone_vid_1\n"
     ]
    },
    {
     "name": "stdout",
     "output_type": "stream",
     "text": [
      "Read frame: 2840 from drone_vid_1\n"
     ]
    },
    {
     "name": "stdout",
     "output_type": "stream",
     "text": [
      "Read frame: 2860 from drone_vid_1\n"
     ]
    },
    {
     "name": "stdout",
     "output_type": "stream",
     "text": [
      "Read frame: 2880 from drone_vid_1\n"
     ]
    },
    {
     "name": "stdout",
     "output_type": "stream",
     "text": [
      "Read frame: 2900 from drone_vid_1\n"
     ]
    },
    {
     "name": "stdout",
     "output_type": "stream",
     "text": [
      "Read frame: 2920 from drone_vid_1\n"
     ]
    },
    {
     "name": "stdout",
     "output_type": "stream",
     "text": [
      "Read frame: 2940 from drone_vid_1\n"
     ]
    },
    {
     "name": "stdout",
     "output_type": "stream",
     "text": [
      "Read frame: 2960 from drone_vid_1\n"
     ]
    },
    {
     "name": "stdout",
     "output_type": "stream",
     "text": [
      "Read frame: 2980 from drone_vid_1\n"
     ]
    },
    {
     "name": "stdout",
     "output_type": "stream",
     "text": [
      "Read frame: 3000 from drone_vid_1\n"
     ]
    },
    {
     "name": "stdout",
     "output_type": "stream",
     "text": [
      "Read frame: 3020 from drone_vid_1\n"
     ]
    },
    {
     "name": "stdout",
     "output_type": "stream",
     "text": [
      "Read frame: 3040 from drone_vid_1\n"
     ]
    },
    {
     "name": "stdout",
     "output_type": "stream",
     "text": [
      "Read frame: 3060 from drone_vid_1\n"
     ]
    },
    {
     "name": "stdout",
     "output_type": "stream",
     "text": [
      "Read frame: 3080 from drone_vid_1\n"
     ]
    },
    {
     "name": "stdout",
     "output_type": "stream",
     "text": [
      "Read frame: 3100 from drone_vid_1\n"
     ]
    },
    {
     "name": "stdout",
     "output_type": "stream",
     "text": [
      "Read frame: 3120 from drone_vid_1\n"
     ]
    },
    {
     "name": "stdout",
     "output_type": "stream",
     "text": [
      "Read frame: 3140 from drone_vid_1\n"
     ]
    },
    {
     "name": "stdout",
     "output_type": "stream",
     "text": [
      "Read frame: 3160 from drone_vid_1\n"
     ]
    },
    {
     "name": "stdout",
     "output_type": "stream",
     "text": [
      "Read frame: 3180 from drone_vid_1\n"
     ]
    },
    {
     "name": "stdout",
     "output_type": "stream",
     "text": [
      "Read frame: 3200 from drone_vid_1\n"
     ]
    },
    {
     "name": "stdout",
     "output_type": "stream",
     "text": [
      "Read frame: 3220 from drone_vid_1\n"
     ]
    },
    {
     "name": "stdout",
     "output_type": "stream",
     "text": [
      "Read frame: 3240 from drone_vid_1\n"
     ]
    },
    {
     "name": "stdout",
     "output_type": "stream",
     "text": [
      "Read frame: 3260 from drone_vid_1\n"
     ]
    },
    {
     "name": "stdout",
     "output_type": "stream",
     "text": [
      "Read frame: 3280 from drone_vid_1\n"
     ]
    },
    {
     "name": "stdout",
     "output_type": "stream",
     "text": [
      "Read frame: 3300 from drone_vid_1\n"
     ]
    },
    {
     "name": "stdout",
     "output_type": "stream",
     "text": [
      "Read frame: 3320 from drone_vid_1\n"
     ]
    },
    {
     "name": "stdout",
     "output_type": "stream",
     "text": [
      "Read frame: 3340 from drone_vid_1\n"
     ]
    },
    {
     "name": "stdout",
     "output_type": "stream",
     "text": [
      "Read frame: 3360 from drone_vid_1\n"
     ]
    },
    {
     "name": "stdout",
     "output_type": "stream",
     "text": [
      "Read frame: 3380 from drone_vid_1\n"
     ]
    },
    {
     "name": "stdout",
     "output_type": "stream",
     "text": [
      "Read frame: 3400 from drone_vid_1\n"
     ]
    },
    {
     "name": "stdout",
     "output_type": "stream",
     "text": [
      "Read frame: 3420 from drone_vid_1\n"
     ]
    },
    {
     "name": "stdout",
     "output_type": "stream",
     "text": [
      "Read frame: 3440 from drone_vid_1\n"
     ]
    },
    {
     "name": "stdout",
     "output_type": "stream",
     "text": [
      "Read frame: 3460 from drone_vid_1\n"
     ]
    },
    {
     "name": "stdout",
     "output_type": "stream",
     "text": [
      "Read frame: 3480 from drone_vid_1\n"
     ]
    },
    {
     "name": "stdout",
     "output_type": "stream",
     "text": [
      "Read frame: 3500 from drone_vid_1\n"
     ]
    },
    {
     "name": "stdout",
     "output_type": "stream",
     "text": [
      "Read frame: 3520 from drone_vid_1\n"
     ]
    },
    {
     "name": "stdout",
     "output_type": "stream",
     "text": [
      "Read frame: 3540 from drone_vid_1\n"
     ]
    },
    {
     "name": "stdout",
     "output_type": "stream",
     "text": [
      "Read frame: 3560 from drone_vid_1\n"
     ]
    },
    {
     "name": "stdout",
     "output_type": "stream",
     "text": [
      "Read frame: 3580 from drone_vid_1\n"
     ]
    },
    {
     "name": "stdout",
     "output_type": "stream",
     "text": [
      "Read frame: 3600 from drone_vid_1\n"
     ]
    },
    {
     "name": "stdout",
     "output_type": "stream",
     "text": [
      "Read frame: 3620 from drone_vid_1\n"
     ]
    },
    {
     "name": "stdout",
     "output_type": "stream",
     "text": [
      "Read frame: 3640 from drone_vid_1\n"
     ]
    },
    {
     "name": "stdout",
     "output_type": "stream",
     "text": [
      "Read frame: 3660 from drone_vid_1\n"
     ]
    },
    {
     "name": "stdout",
     "output_type": "stream",
     "text": [
      "Read frame: 3680 from drone_vid_1\n"
     ]
    },
    {
     "name": "stdout",
     "output_type": "stream",
     "text": [
      "Read frame: 3700 from drone_vid_1\n"
     ]
    },
    {
     "name": "stdout",
     "output_type": "stream",
     "text": [
      "Read frame: 3720 from drone_vid_1\n"
     ]
    },
    {
     "name": "stdout",
     "output_type": "stream",
     "text": [
      "Read frame: 3740 from drone_vid_1\n"
     ]
    },
    {
     "name": "stdout",
     "output_type": "stream",
     "text": [
      "Read frame: 3760 from drone_vid_1\n"
     ]
    },
    {
     "name": "stdout",
     "output_type": "stream",
     "text": [
      "Read frame: 3780 from drone_vid_1\n"
     ]
    },
    {
     "name": "stdout",
     "output_type": "stream",
     "text": [
      "Read frame: 3800 from drone_vid_1\n"
     ]
    },
    {
     "name": "stdout",
     "output_type": "stream",
     "text": [
      "Read frame: 3820 from drone_vid_1\n"
     ]
    },
    {
     "name": "stdout",
     "output_type": "stream",
     "text": [
      "Read frame: 3840 from drone_vid_1\n"
     ]
    },
    {
     "name": "stdout",
     "output_type": "stream",
     "text": [
      "Read frame: 3860 from drone_vid_1\n"
     ]
    },
    {
     "name": "stdout",
     "output_type": "stream",
     "text": [
      "Read frame: 3880 from drone_vid_1\n"
     ]
    },
    {
     "name": "stdout",
     "output_type": "stream",
     "text": [
      "Read frame: 3900 from drone_vid_1\n"
     ]
    },
    {
     "name": "stdout",
     "output_type": "stream",
     "text": [
      "Read frame: 3920 from drone_vid_1\n"
     ]
    },
    {
     "name": "stdout",
     "output_type": "stream",
     "text": [
      "Read frame: 3940 from drone_vid_1\n"
     ]
    },
    {
     "name": "stdout",
     "output_type": "stream",
     "text": [
      "Read frame: 3960 from drone_vid_1\n"
     ]
    },
    {
     "name": "stdout",
     "output_type": "stream",
     "text": [
      "Read frame: 3980 from drone_vid_1\n"
     ]
    },
    {
     "name": "stdout",
     "output_type": "stream",
     "text": [
      "Read frame: 4000 from drone_vid_1\n"
     ]
    },
    {
     "name": "stdout",
     "output_type": "stream",
     "text": [
      "Read frame: 4020 from drone_vid_1\n"
     ]
    },
    {
     "name": "stdout",
     "output_type": "stream",
     "text": [
      "Read frame: 4040 from drone_vid_1\n"
     ]
    },
    {
     "name": "stdout",
     "output_type": "stream",
     "text": [
      "Read frame: 4060 from drone_vid_1\n"
     ]
    },
    {
     "name": "stdout",
     "output_type": "stream",
     "text": [
      "Read frame: 4080 from drone_vid_1\n"
     ]
    },
    {
     "name": "stdout",
     "output_type": "stream",
     "text": [
      "Read frame: 4100 from drone_vid_1\n"
     ]
    },
    {
     "name": "stdout",
     "output_type": "stream",
     "text": [
      "Read frame: 4120 from drone_vid_1\n"
     ]
    },
    {
     "name": "stdout",
     "output_type": "stream",
     "text": [
      "Read frame: 4140 from drone_vid_1\n"
     ]
    },
    {
     "name": "stdout",
     "output_type": "stream",
     "text": [
      "Read frame: 4160 from drone_vid_1\n"
     ]
    },
    {
     "name": "stdout",
     "output_type": "stream",
     "text": [
      "Read frame: 4180 from drone_vid_1\n"
     ]
    },
    {
     "name": "stdout",
     "output_type": "stream",
     "text": [
      "Read frame: 4200 from drone_vid_1\n"
     ]
    },
    {
     "name": "stdout",
     "output_type": "stream",
     "text": [
      "Read frame: 4220 from drone_vid_1\n"
     ]
    },
    {
     "name": "stdout",
     "output_type": "stream",
     "text": [
      "Read frame: 4240 from drone_vid_1\n"
     ]
    },
    {
     "name": "stdout",
     "output_type": "stream",
     "text": [
      "Read frame: 4260 from drone_vid_1\n"
     ]
    },
    {
     "name": "stdout",
     "output_type": "stream",
     "text": [
      "Read frame: 4280 from drone_vid_1\n"
     ]
    },
    {
     "name": "stdout",
     "output_type": "stream",
     "text": [
      "Read frame: 4300 from drone_vid_1\n"
     ]
    },
    {
     "name": "stdout",
     "output_type": "stream",
     "text": [
      "Read frame: 4320 from drone_vid_1\n"
     ]
    },
    {
     "name": "stdout",
     "output_type": "stream",
     "text": [
      "Read frame: 4340 from drone_vid_1\n"
     ]
    },
    {
     "name": "stdout",
     "output_type": "stream",
     "text": [
      "Read frame: 4360 from drone_vid_1\n"
     ]
    },
    {
     "name": "stdout",
     "output_type": "stream",
     "text": [
      "Read frame: 4380 from drone_vid_1\n"
     ]
    },
    {
     "name": "stdout",
     "output_type": "stream",
     "text": [
      "Read frame: 4400 from drone_vid_1\n"
     ]
    },
    {
     "name": "stdout",
     "output_type": "stream",
     "text": [
      "Read frame: 4420 from drone_vid_1\n"
     ]
    },
    {
     "name": "stdout",
     "output_type": "stream",
     "text": [
      "Read frame: 4440 from drone_vid_1\n"
     ]
    },
    {
     "name": "stdout",
     "output_type": "stream",
     "text": [
      "Read frame: 4460 from drone_vid_1\n"
     ]
    },
    {
     "name": "stdout",
     "output_type": "stream",
     "text": [
      "Read frame: 4480 from drone_vid_1\n"
     ]
    },
    {
     "name": "stdout",
     "output_type": "stream",
     "text": [
      "Read frame: 4500 from drone_vid_1\n"
     ]
    },
    {
     "name": "stdout",
     "output_type": "stream",
     "text": [
      "Read frame: 4520 from drone_vid_1\n"
     ]
    },
    {
     "name": "stdout",
     "output_type": "stream",
     "text": [
      "Read frame: 4540 from drone_vid_1\n"
     ]
    },
    {
     "name": "stdout",
     "output_type": "stream",
     "text": [
      "Read frame: 4560 from drone_vid_1\n"
     ]
    },
    {
     "name": "stdout",
     "output_type": "stream",
     "text": [
      "Read frame: 4580 from drone_vid_1\n"
     ]
    },
    {
     "name": "stdout",
     "output_type": "stream",
     "text": [
      "Read frame: 4600 from drone_vid_1\n"
     ]
    },
    {
     "name": "stdout",
     "output_type": "stream",
     "text": [
      "Read frame: 4620 from drone_vid_1\n"
     ]
    },
    {
     "name": "stdout",
     "output_type": "stream",
     "text": [
      "Read frame: 4640 from drone_vid_1\n"
     ]
    },
    {
     "name": "stdout",
     "output_type": "stream",
     "text": [
      "Read frame: 4660 from drone_vid_1\n"
     ]
    },
    {
     "name": "stdout",
     "output_type": "stream",
     "text": [
      "Read frame: 4680 from drone_vid_1\n"
     ]
    },
    {
     "name": "stdout",
     "output_type": "stream",
     "text": [
      "Read frame: 4700 from drone_vid_1\n"
     ]
    },
    {
     "name": "stdout",
     "output_type": "stream",
     "text": [
      "Read frame: 4720 from drone_vid_1\n"
     ]
    },
    {
     "name": "stdout",
     "output_type": "stream",
     "text": [
      "Read frame: 4740 from drone_vid_1\n"
     ]
    },
    {
     "name": "stdout",
     "output_type": "stream",
     "text": [
      "Read frame: 4760 from drone_vid_1\n"
     ]
    },
    {
     "name": "stdout",
     "output_type": "stream",
     "text": [
      "Read frame: 4780 from drone_vid_1\n"
     ]
    },
    {
     "name": "stdout",
     "output_type": "stream",
     "text": [
      "Read frame: 4800 from drone_vid_1\n"
     ]
    },
    {
     "name": "stdout",
     "output_type": "stream",
     "text": [
      "Read frame: 4820 from drone_vid_1\n"
     ]
    },
    {
     "name": "stdout",
     "output_type": "stream",
     "text": [
      "Read frame: 4840 from drone_vid_1\n"
     ]
    },
    {
     "name": "stdout",
     "output_type": "stream",
     "text": [
      "Read frame: 4860 from drone_vid_1\n"
     ]
    },
    {
     "name": "stdout",
     "output_type": "stream",
     "text": [
      "Read frame: 4880 from drone_vid_1\n"
     ]
    },
    {
     "name": "stdout",
     "output_type": "stream",
     "text": [
      "Read frame: 4900 from drone_vid_1\n"
     ]
    },
    {
     "name": "stdout",
     "output_type": "stream",
     "text": [
      "Read frame: 4920 from drone_vid_1\n"
     ]
    },
    {
     "name": "stdout",
     "output_type": "stream",
     "text": [
      "Read frame: 4940 from drone_vid_1\n"
     ]
    },
    {
     "name": "stdout",
     "output_type": "stream",
     "text": [
      "Read frame: 4960 from drone_vid_1\n"
     ]
    },
    {
     "name": "stdout",
     "output_type": "stream",
     "text": [
      "Read frame: 4980 from drone_vid_1\n"
     ]
    },
    {
     "name": "stdout",
     "output_type": "stream",
     "text": [
      "Read frame: 5000 from drone_vid_1\n"
     ]
    },
    {
     "name": "stdout",
     "output_type": "stream",
     "text": [
      "Read frame: 5020 from drone_vid_1\n"
     ]
    },
    {
     "name": "stdout",
     "output_type": "stream",
     "text": [
      "Read frame: 5040 from drone_vid_1\n"
     ]
    },
    {
     "name": "stdout",
     "output_type": "stream",
     "text": [
      "Read frame: 5060 from drone_vid_1\n"
     ]
    },
    {
     "name": "stdout",
     "output_type": "stream",
     "text": [
      "Read frame: 0 from drone_vid_10\nRead frame: 20 from drone_vid_10\n"
     ]
    },
    {
     "name": "stdout",
     "output_type": "stream",
     "text": [
      "Read frame: 40 from drone_vid_10\nRead frame: 60 from drone_vid_10\n"
     ]
    },
    {
     "name": "stdout",
     "output_type": "stream",
     "text": [
      "Read frame: 80 from drone_vid_10\nRead frame: 100 from drone_vid_10\n"
     ]
    },
    {
     "name": "stdout",
     "output_type": "stream",
     "text": [
      "Read frame: 120 from drone_vid_10\nRead frame: 140 from drone_vid_10\n"
     ]
    },
    {
     "name": "stdout",
     "output_type": "stream",
     "text": [
      "Read frame: 160 from drone_vid_10\nRead frame: 180 from drone_vid_10\n"
     ]
    },
    {
     "name": "stdout",
     "output_type": "stream",
     "text": [
      "Read frame: 200 from drone_vid_10\nRead frame: 220 from drone_vid_10\n"
     ]
    },
    {
     "name": "stdout",
     "output_type": "stream",
     "text": [
      "Read frame: 240 from drone_vid_10\nRead frame: 260 from drone_vid_10\n"
     ]
    },
    {
     "name": "stdout",
     "output_type": "stream",
     "text": [
      "Read frame: 280 from drone_vid_10\nRead frame: 300 from drone_vid_10\n"
     ]
    },
    {
     "name": "stdout",
     "output_type": "stream",
     "text": [
      "Read frame: 320 from drone_vid_10\nRead frame: 340 from drone_vid_10\n"
     ]
    },
    {
     "name": "stdout",
     "output_type": "stream",
     "text": [
      "Read frame: 360 from drone_vid_10\nRead frame: 380 from drone_vid_10\n"
     ]
    },
    {
     "name": "stdout",
     "output_type": "stream",
     "text": [
      "Read frame: 400 from drone_vid_10\nRead frame: 420 from drone_vid_10\n"
     ]
    },
    {
     "name": "stdout",
     "output_type": "stream",
     "text": [
      "Read frame: 440 from drone_vid_10\nRead frame: 460 from drone_vid_10\n"
     ]
    },
    {
     "name": "stdout",
     "output_type": "stream",
     "text": [
      "Read frame: 480 from drone_vid_10\nRead frame: 500 from drone_vid_10\n"
     ]
    },
    {
     "name": "stdout",
     "output_type": "stream",
     "text": [
      "Read frame: 520 from drone_vid_10\n"
     ]
    },
    {
     "name": "stdout",
     "output_type": "stream",
     "text": [
      "Read frame: 540 from drone_vid_10\nRead frame: 560 from drone_vid_10\n"
     ]
    },
    {
     "name": "stdout",
     "output_type": "stream",
     "text": [
      "Read frame: 580 from drone_vid_10\nRead frame: 600 from drone_vid_10\n"
     ]
    },
    {
     "name": "stdout",
     "output_type": "stream",
     "text": [
      "Read frame: 620 from drone_vid_10\nRead frame: 640 from drone_vid_10\n"
     ]
    },
    {
     "name": "stdout",
     "output_type": "stream",
     "text": [
      "Read frame: 660 from drone_vid_10\nRead frame: 680 from drone_vid_10\n"
     ]
    },
    {
     "name": "stdout",
     "output_type": "stream",
     "text": [
      "Read frame: 700 from drone_vid_10\nRead frame: 720 from drone_vid_10\n"
     ]
    },
    {
     "name": "stdout",
     "output_type": "stream",
     "text": [
      "Read frame: 740 from drone_vid_10\nRead frame: 760 from drone_vid_10\n"
     ]
    },
    {
     "name": "stdout",
     "output_type": "stream",
     "text": [
      "Read frame: 780 from drone_vid_10\nRead frame: 800 from drone_vid_10\n"
     ]
    },
    {
     "name": "stdout",
     "output_type": "stream",
     "text": [
      "Read frame: 820 from drone_vid_10\nRead frame: 840 from drone_vid_10\n"
     ]
    },
    {
     "name": "stdout",
     "output_type": "stream",
     "text": [
      "Read frame: 860 from drone_vid_10\nRead frame: 880 from drone_vid_10\n"
     ]
    },
    {
     "name": "stdout",
     "output_type": "stream",
     "text": [
      "Read frame: 900 from drone_vid_10\nRead frame: 920 from drone_vid_10\n"
     ]
    },
    {
     "name": "stdout",
     "output_type": "stream",
     "text": [
      "Read frame: 940 from drone_vid_10\nRead frame: 960 from drone_vid_10\n"
     ]
    },
    {
     "name": "stdout",
     "output_type": "stream",
     "text": [
      "Read frame: 980 from drone_vid_10\nRead frame: 1000 from drone_vid_10\n"
     ]
    },
    {
     "name": "stdout",
     "output_type": "stream",
     "text": [
      "Read frame: 1020 from drone_vid_10\nRead frame: 1040 from drone_vid_10\n"
     ]
    },
    {
     "name": "stdout",
     "output_type": "stream",
     "text": [
      "Read frame: 1060 from drone_vid_10\nRead frame: 1080 from drone_vid_10\n"
     ]
    },
    {
     "name": "stdout",
     "output_type": "stream",
     "text": [
      "Read frame: 1100 from drone_vid_10\nRead frame: 1120 from drone_vid_10\n"
     ]
    },
    {
     "name": "stdout",
     "output_type": "stream",
     "text": [
      "Read frame: 1140 from drone_vid_10\nRead frame: 1160 from drone_vid_10\n"
     ]
    },
    {
     "name": "stdout",
     "output_type": "stream",
     "text": [
      "Read frame: 1180 from drone_vid_10\nRead frame: 1200 from drone_vid_10\n"
     ]
    },
    {
     "name": "stdout",
     "output_type": "stream",
     "text": [
      "Read frame: 1220 from drone_vid_10\nRead frame: 1240 from drone_vid_10\n"
     ]
    },
    {
     "name": "stdout",
     "output_type": "stream",
     "text": [
      "Read frame: 1260 from drone_vid_10\nRead frame: 1280 from drone_vid_10\n"
     ]
    },
    {
     "name": "stdout",
     "output_type": "stream",
     "text": [
      "Read frame: 1300 from drone_vid_10\nRead frame: 1320 from drone_vid_10\n"
     ]
    },
    {
     "name": "stdout",
     "output_type": "stream",
     "text": [
      "Read frame: 1340 from drone_vid_10\nRead frame: 1360 from drone_vid_10\n"
     ]
    },
    {
     "name": "stdout",
     "output_type": "stream",
     "text": [
      "Read frame: 1380 from drone_vid_10\nRead frame: 1400 from drone_vid_10\n"
     ]
    },
    {
     "name": "stdout",
     "output_type": "stream",
     "text": [
      "Read frame: 1420 from drone_vid_10\nRead frame: 1440 from drone_vid_10\n"
     ]
    },
    {
     "name": "stdout",
     "output_type": "stream",
     "text": [
      "Read frame: 1460 from drone_vid_10\nRead frame: 1480 from drone_vid_10\n"
     ]
    },
    {
     "name": "stdout",
     "output_type": "stream",
     "text": [
      "Read frame: 1500 from drone_vid_10\nRead frame: 1520 from drone_vid_10\n"
     ]
    },
    {
     "name": "stdout",
     "output_type": "stream",
     "text": [
      "Read frame: 1540 from drone_vid_10\nRead frame: 1560 from drone_vid_10\n"
     ]
    },
    {
     "name": "stdout",
     "output_type": "stream",
     "text": [
      "Read frame: 1580 from drone_vid_10\nRead frame: 1600 from drone_vid_10\n"
     ]
    },
    {
     "name": "stdout",
     "output_type": "stream",
     "text": [
      "Read frame: 1620 from drone_vid_10\nRead frame: 1640 from drone_vid_10\n"
     ]
    },
    {
     "name": "stdout",
     "output_type": "stream",
     "text": [
      "Read frame: 1660 from drone_vid_10\nRead frame: 1680 from drone_vid_10\n"
     ]
    },
    {
     "name": "stdout",
     "output_type": "stream",
     "text": [
      "Read frame: 1700 from drone_vid_10\nRead frame: 1720 from drone_vid_10\n"
     ]
    },
    {
     "name": "stdout",
     "output_type": "stream",
     "text": [
      "Read frame: 1740 from drone_vid_10\nRead frame: 1760 from drone_vid_10\n"
     ]
    },
    {
     "name": "stdout",
     "output_type": "stream",
     "text": [
      "Read frame: 1780 from drone_vid_10\nRead frame: 1800 from drone_vid_10\n"
     ]
    },
    {
     "name": "stdout",
     "output_type": "stream",
     "text": [
      "Read frame: 1820 from drone_vid_10\nRead frame: 1840 from drone_vid_10\n"
     ]
    },
    {
     "name": "stdout",
     "output_type": "stream",
     "text": [
      "Read frame: 1860 from drone_vid_10\nRead frame: 1880 from drone_vid_10\n"
     ]
    },
    {
     "name": "stdout",
     "output_type": "stream",
     "text": [
      "Read frame: 1900 from drone_vid_10\nRead frame: 1920 from drone_vid_10\n"
     ]
    },
    {
     "name": "stdout",
     "output_type": "stream",
     "text": [
      "Read frame: 1940 from drone_vid_10\nRead frame: 1960 from drone_vid_10\n"
     ]
    },
    {
     "name": "stdout",
     "output_type": "stream",
     "text": [
      "Read frame: 1980 from drone_vid_10\nRead frame: 2000 from drone_vid_10\n"
     ]
    },
    {
     "name": "stdout",
     "output_type": "stream",
     "text": [
      "Read frame: 2020 from drone_vid_10\nRead frame: 2040 from drone_vid_10\n"
     ]
    },
    {
     "name": "stdout",
     "output_type": "stream",
     "text": [
      "Read frame: 2060 from drone_vid_10\n"
     ]
    },
    {
     "name": "stdout",
     "output_type": "stream",
     "text": [
      "Read frame: 2080 from drone_vid_10\n"
     ]
    },
    {
     "name": "stdout",
     "output_type": "stream",
     "text": [
      "Read frame: 2100 from drone_vid_10\n"
     ]
    },
    {
     "name": "stdout",
     "output_type": "stream",
     "text": [
      "Read frame: 2120 from drone_vid_10\n"
     ]
    },
    {
     "name": "stdout",
     "output_type": "stream",
     "text": [
      "Read frame: 2140 from drone_vid_10\n"
     ]
    },
    {
     "name": "stdout",
     "output_type": "stream",
     "text": [
      "Read frame: 2160 from drone_vid_10\n"
     ]
    },
    {
     "name": "stdout",
     "output_type": "stream",
     "text": [
      "Read frame: 2180 from drone_vid_10\n"
     ]
    },
    {
     "name": "stdout",
     "output_type": "stream",
     "text": [
      "Read frame: 2200 from drone_vid_10\n"
     ]
    },
    {
     "name": "stdout",
     "output_type": "stream",
     "text": [
      "Read frame: 2220 from drone_vid_10\n"
     ]
    },
    {
     "name": "stdout",
     "output_type": "stream",
     "text": [
      "Read frame: 2240 from drone_vid_10\n"
     ]
    },
    {
     "name": "stdout",
     "output_type": "stream",
     "text": [
      "Read frame: 2260 from drone_vid_10\n"
     ]
    },
    {
     "name": "stdout",
     "output_type": "stream",
     "text": [
      "Read frame: 2280 from drone_vid_10\n"
     ]
    },
    {
     "name": "stdout",
     "output_type": "stream",
     "text": [
      "Read frame: 2300 from drone_vid_10\n"
     ]
    },
    {
     "name": "stdout",
     "output_type": "stream",
     "text": [
      "Read frame: 2320 from drone_vid_10\nRead frame: 2340 from drone_vid_10\n"
     ]
    },
    {
     "name": "stdout",
     "output_type": "stream",
     "text": [
      "Read frame: 2360 from drone_vid_10\nRead frame: 2380 from drone_vid_10\n"
     ]
    },
    {
     "name": "stdout",
     "output_type": "stream",
     "text": [
      "Read frame: 2400 from drone_vid_10\nRead frame: 2420 from drone_vid_10\n"
     ]
    },
    {
     "name": "stdout",
     "output_type": "stream",
     "text": [
      "Read frame: 2440 from drone_vid_10\nRead frame: 2460 from drone_vid_10\n"
     ]
    },
    {
     "name": "stdout",
     "output_type": "stream",
     "text": [
      "Read frame: 2480 from drone_vid_10\nRead frame: 2500 from drone_vid_10\n"
     ]
    },
    {
     "name": "stdout",
     "output_type": "stream",
     "text": [
      "Read frame: 2520 from drone_vid_10\nRead frame: 2540 from drone_vid_10\n"
     ]
    },
    {
     "name": "stdout",
     "output_type": "stream",
     "text": [
      "Read frame: 2560 from drone_vid_10\nRead frame: 2580 from drone_vid_10\n"
     ]
    },
    {
     "name": "stdout",
     "output_type": "stream",
     "text": [
      "Read frame: 2600 from drone_vid_10\nRead frame: 2620 from drone_vid_10\n"
     ]
    },
    {
     "name": "stdout",
     "output_type": "stream",
     "text": [
      "Read frame: 2640 from drone_vid_10\nRead frame: 2660 from drone_vid_10\n"
     ]
    },
    {
     "name": "stdout",
     "output_type": "stream",
     "text": [
      "Read frame: 2680 from drone_vid_10\nRead frame: 2700 from drone_vid_10\n"
     ]
    },
    {
     "name": "stdout",
     "output_type": "stream",
     "text": [
      "Read frame: 2720 from drone_vid_10\nRead frame: 2740 from drone_vid_10\n"
     ]
    },
    {
     "name": "stdout",
     "output_type": "stream",
     "text": [
      "Read frame: 2760 from drone_vid_10\nRead frame: 2780 from drone_vid_10\n"
     ]
    },
    {
     "name": "stdout",
     "output_type": "stream",
     "text": [
      "Read frame: 2800 from drone_vid_10\n"
     ]
    },
    {
     "name": "stdout",
     "output_type": "stream",
     "text": [
      "Read frame: 2820 from drone_vid_10\n"
     ]
    },
    {
     "name": "stdout",
     "output_type": "stream",
     "text": [
      "Read frame: 2840 from drone_vid_10\nRead frame: 2860 from drone_vid_10\n"
     ]
    },
    {
     "name": "stdout",
     "output_type": "stream",
     "text": [
      "Read frame: 2880 from drone_vid_10\nRead frame: 0 from drone_vid_2\nRead frame: 20 from drone_vid_2\nRead frame: 40 from drone_vid_2\nRead frame: 60 from drone_vid_2\n"
     ]
    },
    {
     "name": "stdout",
     "output_type": "stream",
     "text": [
      "Read frame: 80 from drone_vid_2\nRead frame: 100 from drone_vid_2\nRead frame: 120 from drone_vid_2\nRead frame: 140 from drone_vid_2\nRead frame: 160 from drone_vid_2\nRead frame: 180 from drone_vid_2\nRead frame: 200 from drone_vid_2\nRead frame: 220 from drone_vid_2\nRead frame: 240 from drone_vid_2\n"
     ]
    },
    {
     "name": "stdout",
     "output_type": "stream",
     "text": [
      "Read frame: 260 from drone_vid_2\nRead frame: 280 from drone_vid_2\nRead frame: 300 from drone_vid_2\nRead frame: 320 from drone_vid_2\nRead frame: 340 from drone_vid_2\nRead frame: 360 from drone_vid_2\nRead frame: 380 from drone_vid_2\n"
     ]
    },
    {
     "name": "stdout",
     "output_type": "stream",
     "text": [
      "Read frame: 400 from drone_vid_2\nRead frame: 420 from drone_vid_2\nRead frame: 440 from drone_vid_2\nRead frame: 460 from drone_vid_2\nRead frame: 480 from drone_vid_2\nRead frame: 500 from drone_vid_2\nRead frame: 520 from drone_vid_2\n"
     ]
    },
    {
     "name": "stdout",
     "output_type": "stream",
     "text": [
      "Read frame: 540 from drone_vid_2\nRead frame: 560 from drone_vid_2\nRead frame: 580 from drone_vid_2\nRead frame: 600 from drone_vid_2\nRead frame: 620 from drone_vid_2\nRead frame: 640 from drone_vid_2\n"
     ]
    },
    {
     "name": "stdout",
     "output_type": "stream",
     "text": [
      "Read frame: 660 from drone_vid_2\nRead frame: 680 from drone_vid_2\nRead frame: 700 from drone_vid_2\nRead frame: 720 from drone_vid_2\nRead frame: 740 from drone_vid_2\nRead frame: 760 from drone_vid_2\nRead frame: 780 from drone_vid_2\nRead frame: 800 from drone_vid_2\n"
     ]
    },
    {
     "name": "stdout",
     "output_type": "stream",
     "text": [
      "Read frame: 820 from drone_vid_2\nRead frame: 840 from drone_vid_2\nRead frame: 860 from drone_vid_2\nRead frame: 880 from drone_vid_2\nRead frame: 900 from drone_vid_2\nRead frame: 920 from drone_vid_2\nRead frame: 940 from drone_vid_2\nRead frame: 960 from drone_vid_2\n"
     ]
    },
    {
     "name": "stdout",
     "output_type": "stream",
     "text": [
      "Read frame: 980 from drone_vid_2\nRead frame: 1000 from drone_vid_2\nRead frame: 1020 from drone_vid_2\nRead frame: 1040 from drone_vid_2\nRead frame: 1060 from drone_vid_2\nRead frame: 1080 from drone_vid_2\nRead frame: 1100 from drone_vid_2\n"
     ]
    },
    {
     "name": "stdout",
     "output_type": "stream",
     "text": [
      "Read frame: 1120 from drone_vid_2\nRead frame: 1140 from drone_vid_2\nRead frame: 1160 from drone_vid_2\nRead frame: 1180 from drone_vid_2\nRead frame: 1200 from drone_vid_2\nRead frame: 1220 from drone_vid_2\nRead frame: 1240 from drone_vid_2\n"
     ]
    },
    {
     "name": "stdout",
     "output_type": "stream",
     "text": [
      "Read frame: 1260 from drone_vid_2\nRead frame: 1280 from drone_vid_2\nRead frame: 1300 from drone_vid_2\nRead frame: 1320 from drone_vid_2\nRead frame: 1340 from drone_vid_2\nRead frame: 1360 from drone_vid_2\nRead frame: 1380 from drone_vid_2\nRead frame: 1400 from drone_vid_2\nRead frame: 1420 from drone_vid_2"
     ]
    },
    {
     "name": "stdout",
     "output_type": "stream",
     "text": [
      "\nRead frame: 1440 from drone_vid_2\nRead frame: 1460 from drone_vid_2\nRead frame: 1480 from drone_vid_2\nRead frame: 1500 from drone_vid_2\nRead frame: 1520 from drone_vid_2\nRead frame: 1540 from drone_vid_2\nRead frame: 1560 from drone_vid_2\n"
     ]
    },
    {
     "name": "stdout",
     "output_type": "stream",
     "text": [
      "Read frame: 1580 from drone_vid_2\nRead frame: 1600 from drone_vid_2\nRead frame: 1620 from drone_vid_2\nRead frame: 1640 from drone_vid_2\nRead frame: 1660 from drone_vid_2\nRead frame: 1680 from drone_vid_2\nRead frame: 1700 from drone_vid_2\nRead frame: 1720 from drone_vid_2\n"
     ]
    },
    {
     "name": "stdout",
     "output_type": "stream",
     "text": [
      "Read frame: 1740 from drone_vid_2\nRead frame: 1760 from drone_vid_2\nRead frame: 1780 from drone_vid_2\n"
     ]
    },
    {
     "name": "stdout",
     "output_type": "stream",
     "text": [
      "Read frame: 1800 from drone_vid_2\nRead frame: 1820 from drone_vid_2\nRead frame: 1840 from drone_vid_2\nRead frame: 1860 from drone_vid_2\n"
     ]
    },
    {
     "name": "stdout",
     "output_type": "stream",
     "text": [
      "Read frame: 1880 from drone_vid_2\nRead frame: 1900 from drone_vid_2\nRead frame: 1920 from drone_vid_2\nRead frame: 1940 from drone_vid_2\nRead frame: 1960 from drone_vid_2\n"
     ]
    },
    {
     "name": "stdout",
     "output_type": "stream",
     "text": [
      "Read frame: 1980 from drone_vid_2\nRead frame: 2000 from drone_vid_2\nRead frame: 2020 from drone_vid_2\nRead frame: 2040 from drone_vid_2\nRead frame: 2060 from drone_vid_2\nRead frame: 2080 from drone_vid_2\n"
     ]
    },
    {
     "name": "stdout",
     "output_type": "stream",
     "text": [
      "Read frame: 2100 from drone_vid_2\nRead frame: 2120 from drone_vid_2\nRead frame: 2140 from drone_vid_2\nRead frame: 2160 from drone_vid_2\nRead frame: 2180 from drone_vid_2\nRead frame: 2200 from drone_vid_2\n"
     ]
    },
    {
     "name": "stdout",
     "output_type": "stream",
     "text": [
      "Read frame: 2220 from drone_vid_2\nRead frame: 2240 from drone_vid_2\nRead frame: 2260 from drone_vid_2\n"
     ]
    },
    {
     "name": "stdout",
     "output_type": "stream",
     "text": [
      "Read frame: 2280 from drone_vid_2\nRead frame: 2300 from drone_vid_2\nRead frame: 2320 from drone_vid_2\nRead frame: 2340 from drone_vid_2\nRead frame: 2360 from drone_vid_2\nRead frame: 2380 from drone_vid_2\n"
     ]
    },
    {
     "name": "stdout",
     "output_type": "stream",
     "text": [
      "Read frame: 2400 from drone_vid_2\nRead frame: 2420 from drone_vid_2\nRead frame: 2440 from drone_vid_2\nRead frame: 2460 from drone_vid_2\nRead frame: 2480 from drone_vid_2\nRead frame: 2500 from drone_vid_2\n"
     ]
    },
    {
     "name": "stdout",
     "output_type": "stream",
     "text": [
      "Read frame: 2520 from drone_vid_2\nRead frame: 2540 from drone_vid_2\nRead frame: 2560 from drone_vid_2\nRead frame: 2580 from drone_vid_2\nRead frame: 2600 from drone_vid_2\nRead frame: 2620 from drone_vid_2\nRead frame: 2640 from drone_vid_2\n"
     ]
    },
    {
     "name": "stdout",
     "output_type": "stream",
     "text": [
      "Read frame: 2660 from drone_vid_2\nRead frame: 2680 from drone_vid_2\nRead frame: 2700 from drone_vid_2\nRead frame: 2720 from drone_vid_2\nRead frame: 2740 from drone_vid_2\nRead frame: 2760 from drone_vid_2\n"
     ]
    },
    {
     "name": "stdout",
     "output_type": "stream",
     "text": [
      "Read frame: 2780 from drone_vid_2\nRead frame: 2800 from drone_vid_2\nRead frame: 2820 from drone_vid_2\nRead frame: 2840 from drone_vid_2\nRead frame: 2860 from drone_vid_2\n"
     ]
    },
    {
     "name": "stdout",
     "output_type": "stream",
     "text": [
      "Read frame: 2880 from drone_vid_2\nRead frame: 2900 from drone_vid_2\nRead frame: 2920 from drone_vid_2\nRead frame: 2940 from drone_vid_2\nRead frame: 2960 from drone_vid_2\n"
     ]
    },
    {
     "name": "stdout",
     "output_type": "stream",
     "text": [
      "Read frame: 2980 from drone_vid_2\nRead frame: 3000 from drone_vid_2\nRead frame: 0 from drone_vid_3\nRead frame: 20 from drone_vid_3\nRead frame: 40 from drone_vid_3\n"
     ]
    },
    {
     "name": "stdout",
     "output_type": "stream",
     "text": [
      "Read frame: 60 from drone_vid_3\nRead frame: 80 from drone_vid_3\nRead frame: 100 from drone_vid_3\nRead frame: 120 from drone_vid_3\nRead frame: 140 from drone_vid_3\nRead frame: 160 from drone_vid_3\nRead frame: 180 from drone_vid_3\n"
     ]
    },
    {
     "name": "stdout",
     "output_type": "stream",
     "text": [
      "Read frame: 200 from drone_vid_3\nRead frame: 220 from drone_vid_3\nRead frame: 240 from drone_vid_3\nRead frame: 260 from drone_vid_3\n"
     ]
    },
    {
     "name": "stdout",
     "output_type": "stream",
     "text": [
      "Read frame: 280 from drone_vid_3\nRead frame: 300 from drone_vid_3\nRead frame: 320 from drone_vid_3\nRead frame: 340 from drone_vid_3\nRead frame: 360 from drone_vid_3\nRead frame: 380 from drone_vid_3\n"
     ]
    },
    {
     "name": "stdout",
     "output_type": "stream",
     "text": [
      "Read frame: 400 from drone_vid_3\nRead frame: 420 from drone_vid_3\nRead frame: 440 from drone_vid_3\nRead frame: 460 from drone_vid_3\nRead frame: 480 from drone_vid_3\nRead frame: 500 from drone_vid_3\nRead frame: 520 from drone_vid_3\n"
     ]
    },
    {
     "name": "stdout",
     "output_type": "stream",
     "text": [
      "Read frame: 540 from drone_vid_3\nRead frame: 560 from drone_vid_3\nRead frame: 580 from drone_vid_3\nRead frame: 600 from drone_vid_3\nRead frame: 620 from drone_vid_3\nRead frame: 640 from drone_vid_3\nRead frame: 660 from drone_vid_3\n"
     ]
    },
    {
     "name": "stdout",
     "output_type": "stream",
     "text": [
      "Read frame: 680 from drone_vid_3\nRead frame: 700 from drone_vid_3\nRead frame: 720 from drone_vid_3\nRead frame: 740 from drone_vid_3\nRead frame: 760 from drone_vid_3\nRead frame: 780 from drone_vid_3\n"
     ]
    },
    {
     "name": "stdout",
     "output_type": "stream",
     "text": [
      "Read frame: 800 from drone_vid_3\nRead frame: 820 from drone_vid_3\nRead frame: 840 from drone_vid_3\nRead frame: 860 from drone_vid_3\nRead frame: 880 from drone_vid_3\nRead frame: 900 from drone_vid_3\nRead frame: 920 from drone_vid_3\nRead frame: 940 from drone_vid_3\n"
     ]
    },
    {
     "name": "stdout",
     "output_type": "stream",
     "text": [
      "Read frame: 960 from drone_vid_3\nRead frame: 980 from drone_vid_3\nRead frame: 1000 from drone_vid_3\nRead frame: 1020 from drone_vid_3\nRead frame: 1040 from drone_vid_3\n"
     ]
    },
    {
     "name": "stdout",
     "output_type": "stream",
     "text": [
      "Read frame: 1060 from drone_vid_3\nRead frame: 1080 from drone_vid_3\nRead frame: 1100 from drone_vid_3\nRead frame: 1120 from drone_vid_3\nRead frame: 1140 from drone_vid_3\nRead frame: 1160 from drone_vid_3\nRead frame: 1180 from drone_vid_3\nRead frame: 1200 from drone_vid_3\n"
     ]
    },
    {
     "name": "stdout",
     "output_type": "stream",
     "text": [
      "Read frame: 1220 from drone_vid_3\nRead frame: 1240 from drone_vid_3\nRead frame: 1260 from drone_vid_3\nRead frame: 1280 from drone_vid_3\nRead frame: 1300 from drone_vid_3\nRead frame: 1320 from drone_vid_3\nRead frame: 1340 from drone_vid_3\nRead frame: 1360 from drone_vid_3\n"
     ]
    },
    {
     "name": "stdout",
     "output_type": "stream",
     "text": [
      "Read frame: 1380 from drone_vid_3\nRead frame: 1400 from drone_vid_3\nRead frame: 1420 from drone_vid_3\nRead frame: 1440 from drone_vid_3\nRead frame: 1460 from drone_vid_3\nRead frame: 1480 from drone_vid_3\n"
     ]
    },
    {
     "name": "stdout",
     "output_type": "stream",
     "text": [
      "Read frame: 0 from drone_vid_4\nRead frame: 20 from drone_vid_4\nRead frame: 40 from drone_vid_4\nRead frame: 60 from drone_vid_4\nRead frame: 80 from drone_vid_4\n"
     ]
    },
    {
     "name": "stdout",
     "output_type": "stream",
     "text": [
      "Read frame: 100 from drone_vid_4\nRead frame: 120 from drone_vid_4\nRead frame: 140 from drone_vid_4\nRead frame: 160 from drone_vid_4\nRead frame: 180 from drone_vid_4\nRead frame: 200 from drone_vid_4\nRead frame: 220 from drone_vid_4\n"
     ]
    },
    {
     "name": "stdout",
     "output_type": "stream",
     "text": [
      "Read frame: 240 from drone_vid_4\nRead frame: 260 from drone_vid_4\nRead frame: 280 from drone_vid_4\nRead frame: 300 from drone_vid_4\nRead frame: 320 from drone_vid_4\n"
     ]
    },
    {
     "name": "stdout",
     "output_type": "stream",
     "text": [
      "Read frame: 340 from drone_vid_4\nRead frame: 360 from drone_vid_4\nRead frame: 380 from drone_vid_4\nRead frame: 400 from drone_vid_4\n"
     ]
    },
    {
     "name": "stdout",
     "output_type": "stream",
     "text": [
      "Read frame: 420 from drone_vid_4\nRead frame: 440 from drone_vid_4\nRead frame: 460 from drone_vid_4\nRead frame: 480 from drone_vid_4\nRead frame: 500 from drone_vid_4\n"
     ]
    },
    {
     "name": "stdout",
     "output_type": "stream",
     "text": [
      "Read frame: 520 from drone_vid_4\nRead frame: 540 from drone_vid_4\nRead frame: 560 from drone_vid_4\nRead frame: 580 from drone_vid_4\nRead frame: 600 from drone_vid_4\nRead frame: 620 from drone_vid_4\n"
     ]
    },
    {
     "name": "stdout",
     "output_type": "stream",
     "text": [
      "Read frame: 640 from drone_vid_4\nRead frame: 660 from drone_vid_4\nRead frame: 680 from drone_vid_4\nRead frame: 700 from drone_vid_4\nRead frame: 720 from drone_vid_4\nRead frame: 740 from drone_vid_4\n"
     ]
    },
    {
     "name": "stdout",
     "output_type": "stream",
     "text": [
      "Read frame: 760 from drone_vid_4\nRead frame: 780 from drone_vid_4\nRead frame: 800 from drone_vid_4\nRead frame: 820 from drone_vid_4\n"
     ]
    },
    {
     "name": "stdout",
     "output_type": "stream",
     "text": [
      "Read frame: 840 from drone_vid_4\nRead frame: 860 from drone_vid_4\nRead frame: 880 from drone_vid_4\nRead frame: 900 from drone_vid_4\nRead frame: 920 from drone_vid_4\n"
     ]
    },
    {
     "name": "stdout",
     "output_type": "stream",
     "text": [
      "Read frame: 940 from drone_vid_4\nRead frame: 960 from drone_vid_4\nRead frame: 980 from drone_vid_4\nRead frame: 1000 from drone_vid_4\nRead frame: 1020 from drone_vid_4\nRead frame: 1040 from drone_vid_4\nRead frame: 1060 from drone_vid_4\nRead frame: 1080 from drone_vid_4"
     ]
    },
    {
     "name": "stdout",
     "output_type": "stream",
     "text": [
      "\nRead frame: 1100 from drone_vid_4\nRead frame: 1120 from drone_vid_4\nRead frame: 1140 from drone_vid_4\nRead frame: 1160 from drone_vid_4\nRead frame: 1180 from drone_vid_4\nRead frame: 1200 from drone_vid_4\n"
     ]
    },
    {
     "name": "stdout",
     "output_type": "stream",
     "text": [
      "Read frame: 1220 from drone_vid_4\nRead frame: 1240 from drone_vid_4\nRead frame: 1260 from drone_vid_4\nRead frame: 1280 from drone_vid_4\nRead frame: 1300 from drone_vid_4\nRead frame: 1320 from drone_vid_4\nRead frame: 1340 from drone_vid_4\nRead frame: 1360 from drone_vid_4\n"
     ]
    },
    {
     "name": "stdout",
     "output_type": "stream",
     "text": [
      "Read frame: 1380 from drone_vid_4\nRead frame: 1400 from drone_vid_4\nRead frame: 1420 from drone_vid_4\nRead frame: 1440 from drone_vid_4\nRead frame: 1460 from drone_vid_4\nRead frame: 1480 from drone_vid_4\nRead frame: 1500 from drone_vid_4\nRead frame: 1520 from drone_vid_4\n"
     ]
    },
    {
     "name": "stdout",
     "output_type": "stream",
     "text": [
      "Read frame: 1540 from drone_vid_4\nRead frame: 1560 from drone_vid_4\nRead frame: 1580 from drone_vid_4\nRead frame: 1600 from drone_vid_4\nRead frame: 1620 from drone_vid_4\nRead frame: 1640 from drone_vid_4\nRead frame: 1660 from drone_vid_4\n"
     ]
    },
    {
     "name": "stdout",
     "output_type": "stream",
     "text": [
      "Read frame: 1680 from drone_vid_4\nRead frame: 1700 from drone_vid_4\nRead frame: 1720 from drone_vid_4\nRead frame: 1740 from drone_vid_4\n"
     ]
    },
    {
     "name": "stdout",
     "output_type": "stream",
     "text": [
      "Read frame: 1760 from drone_vid_4\nRead frame: 1780 from drone_vid_4\nRead frame: 1800 from drone_vid_4\nRead frame: 1820 from drone_vid_4\nRead frame: 1840 from drone_vid_4\n"
     ]
    },
    {
     "name": "stdout",
     "output_type": "stream",
     "text": [
      "Read frame: 1860 from drone_vid_4\nRead frame: 1880 from drone_vid_4\nRead frame: 1900 from drone_vid_4\nRead frame: 1920 from drone_vid_4\nRead frame: 1940 from drone_vid_4\n"
     ]
    },
    {
     "name": "stdout",
     "output_type": "stream",
     "text": [
      "Read frame: 1960 from drone_vid_4\nRead frame: 1980 from drone_vid_4\nRead frame: 2000 from drone_vid_4\nRead frame: 0 from drone_vid_5\nRead frame: 20 from drone_vid_5\n"
     ]
    },
    {
     "name": "stdout",
     "output_type": "stream",
     "text": [
      "Read frame: 40 from drone_vid_5\nRead frame: 60 from drone_vid_5\nRead frame: 80 from drone_vid_5\nRead frame: 100 from drone_vid_5\nRead frame: 120 from drone_vid_5\nRead frame: 140 from drone_vid_5\nRead frame: 160 from drone_vid_5\n"
     ]
    },
    {
     "name": "stdout",
     "output_type": "stream",
     "text": [
      "Read frame: 180 from drone_vid_5\nRead frame: 200 from drone_vid_5\nRead frame: 220 from drone_vid_5\nRead frame: 240 from drone_vid_5\nRead frame: 260 from drone_vid_5\nRead frame: 280 from drone_vid_5\nRead frame: 300 from drone_vid_5\n"
     ]
    },
    {
     "name": "stdout",
     "output_type": "stream",
     "text": [
      "Read frame: 320 from drone_vid_5\nRead frame: 340 from drone_vid_5\nRead frame: 360 from drone_vid_5\nRead frame: 380 from drone_vid_5\nRead frame: 400 from drone_vid_5\nRead frame: 420 from drone_vid_5\n"
     ]
    },
    {
     "name": "stdout",
     "output_type": "stream",
     "text": [
      "Read frame: 440 from drone_vid_5\nRead frame: 460 from drone_vid_5\nRead frame: 480 from drone_vid_5\nRead frame: 500 from drone_vid_5\nRead frame: 520 from drone_vid_5\n"
     ]
    },
    {
     "name": "stdout",
     "output_type": "stream",
     "text": [
      "Read frame: 540 from drone_vid_5\nRead frame: 560 from drone_vid_5\nRead frame: 580 from drone_vid_5\nRead frame: 600 from drone_vid_5\nRead frame: 620 from drone_vid_5\nRead frame: 640 from drone_vid_5\nRead frame: 660 from drone_vid_5"
     ]
    },
    {
     "name": "stdout",
     "output_type": "stream",
     "text": [
      "\nRead frame: 680 from drone_vid_5\nRead frame: 700 from drone_vid_5\nRead frame: 720 from drone_vid_5\nRead frame: 740 from drone_vid_5\nRead frame: 760 from drone_vid_5\nRead frame: 780 from drone_vid_5\n"
     ]
    },
    {
     "name": "stdout",
     "output_type": "stream",
     "text": [
      "Read frame: 800 from drone_vid_5\nRead frame: 820 from drone_vid_5\nRead frame: 840 from drone_vid_5\nRead frame: 860 from drone_vid_5\nRead frame: 880 from drone_vid_5\nRead frame: 900 from drone_vid_5\nRead frame: 920 from drone_vid_5\n"
     ]
    },
    {
     "name": "stdout",
     "output_type": "stream",
     "text": [
      "Read frame: 940 from drone_vid_5\nRead frame: 960 from drone_vid_5\nRead frame: 980 from drone_vid_5\nRead frame: 1000 from drone_vid_5\nRead frame: 1020 from drone_vid_5\nRead frame: 1040 from drone_vid_5\nRead frame: 1060 from drone_vid_5\n"
     ]
    },
    {
     "name": "stdout",
     "output_type": "stream",
     "text": [
      "Read frame: 1080 from drone_vid_5\nRead frame: 1100 from drone_vid_5\nRead frame: 1120 from drone_vid_5\nRead frame: 1140 from drone_vid_5\nRead frame: 1160 from drone_vid_5\nRead frame: 1180 from drone_vid_5\n"
     ]
    },
    {
     "name": "stdout",
     "output_type": "stream",
     "text": [
      "Read frame: 1200 from drone_vid_5\nRead frame: 1220 from drone_vid_5\nRead frame: 1240 from drone_vid_5\nRead frame: 1260 from drone_vid_5\nRead frame: 1280 from drone_vid_5\nRead frame: 1300 from drone_vid_5\n"
     ]
    },
    {
     "name": "stdout",
     "output_type": "stream",
     "text": [
      "Read frame: 1320 from drone_vid_5\nRead frame: 1340 from drone_vid_5\nRead frame: 1360 from drone_vid_5\nRead frame: 1380 from drone_vid_5\nRead frame: 1400 from drone_vid_5\n"
     ]
    },
    {
     "name": "stdout",
     "output_type": "stream",
     "text": [
      "Read frame: 1420 from drone_vid_5\nRead frame: 1440 from drone_vid_5\nRead frame: 1460 from drone_vid_5\nRead frame: 1480 from drone_vid_5\nRead frame: 1500 from drone_vid_5\n"
     ]
    },
    {
     "name": "stdout",
     "output_type": "stream",
     "text": [
      "Read frame: 1520 from drone_vid_5\nRead frame: 1540 from drone_vid_5\nRead frame: 1560 from drone_vid_5\n"
     ]
    },
    {
     "name": "stdout",
     "output_type": "stream",
     "text": [
      "Read frame: 1580 from drone_vid_5\nRead frame: 1600 from drone_vid_5\nRead frame: 1620 from drone_vid_5\nRead frame: 1640 from drone_vid_5\n"
     ]
    },
    {
     "name": "stdout",
     "output_type": "stream",
     "text": [
      "Read frame: 1660 from drone_vid_5\nRead frame: 1680 from drone_vid_5\nRead frame: 1700 from drone_vid_5\nRead frame: 1720 from drone_vid_5\nRead frame: 1740 from drone_vid_5\nRead frame: 1760 from drone_vid_5"
     ]
    },
    {
     "name": "stdout",
     "output_type": "stream",
     "text": [
      "\nRead frame: 1780 from drone_vid_5\nRead frame: 1800 from drone_vid_5\nRead frame: 1820 from drone_vid_5\nRead frame: 1840 from drone_vid_5\nRead frame: 1860 from drone_vid_5\nRead frame: 1880 from drone_vid_5\n"
     ]
    },
    {
     "name": "stdout",
     "output_type": "stream",
     "text": [
      "Read frame: 1900 from drone_vid_5\nRead frame: 1920 from drone_vid_5\nRead frame: 1940 from drone_vid_5\nRead frame: 1960 from drone_vid_5\nRead frame: 1980 from drone_vid_5\n"
     ]
    },
    {
     "name": "stdout",
     "output_type": "stream",
     "text": [
      "Read frame: 2000 from drone_vid_5\nRead frame: 2020 from drone_vid_5\nRead frame: 2040 from drone_vid_5\nRead frame: 2060 from drone_vid_5\n"
     ]
    },
    {
     "name": "stdout",
     "output_type": "stream",
     "text": [
      "Read frame: 2080 from drone_vid_5\nRead frame: 2100 from drone_vid_5\nRead frame: 2120 from drone_vid_5\nRead frame: 2140 from drone_vid_5\nRead frame: 2160 from drone_vid_5\nRead frame: 2180 from drone_vid_5"
     ]
    },
    {
     "name": "stdout",
     "output_type": "stream",
     "text": [
      "\nRead frame: 2200 from drone_vid_5\nRead frame: 2220 from drone_vid_5\nRead frame: 2240 from drone_vid_5\nRead frame: 2260 from drone_vid_5\n"
     ]
    },
    {
     "name": "stdout",
     "output_type": "stream",
     "text": [
      "Read frame: 2280 from drone_vid_5\nRead frame: 2300 from drone_vid_5\nRead frame: 2320 from drone_vid_5\nRead frame: 2340 from drone_vid_5\nRead frame: 2360 from drone_vid_5\nRead frame: 2380 from drone_vid_5\nRead frame: 2400 from drone_vid_5\n"
     ]
    },
    {
     "name": "stdout",
     "output_type": "stream",
     "text": [
      "Read frame: 2420 from drone_vid_5\nRead frame: 2440 from drone_vid_5\nRead frame: 2460 from drone_vid_5\nRead frame: 2480 from drone_vid_5\nRead frame: 2500 from drone_vid_5\nRead frame: 2520 from drone_vid_5\nRead frame: 2540 from drone_vid_5\n"
     ]
    },
    {
     "name": "stdout",
     "output_type": "stream",
     "text": [
      "Read frame: 2560 from drone_vid_5\nRead frame: 2580 from drone_vid_5\nRead frame: 2600 from drone_vid_5\nRead frame: 2620 from drone_vid_5\nRead frame: 2640 from drone_vid_5\nRead frame: 2660 from drone_vid_5\nRead frame: 2680 from drone_vid_5\n"
     ]
    },
    {
     "name": "stdout",
     "output_type": "stream",
     "text": [
      "Read frame: 2700 from drone_vid_5\nRead frame: 2720 from drone_vid_5\nRead frame: 2740 from drone_vid_5\nRead frame: 2760 from drone_vid_5\nRead frame: 2780 from drone_vid_5\nRead frame: 2800 from drone_vid_5"
     ]
    },
    {
     "name": "stdout",
     "output_type": "stream",
     "text": [
      "\nRead frame: 2820 from drone_vid_5\nRead frame: 2840 from drone_vid_5\nRead frame: 2860 from drone_vid_5\nRead frame: 2880 from drone_vid_5\n"
     ]
    },
    {
     "name": "stdout",
     "output_type": "stream",
     "text": [
      "Read frame: 2900 from drone_vid_5\nRead frame: 2920 from drone_vid_5\nRead frame: 2940 from drone_vid_5\nRead frame: 2960 from drone_vid_5\nRead frame: 2980 from drone_vid_5\nRead frame: 3000 from drone_vid_5\nRead frame: 3020 from drone_vid_5\n"
     ]
    },
    {
     "name": "stdout",
     "output_type": "stream",
     "text": [
      "Read frame: 3040 from drone_vid_5\nRead frame: 3060 from drone_vid_5\nRead frame: 3080 from drone_vid_5\n"
     ]
    },
    {
     "name": "stdout",
     "output_type": "stream",
     "text": [
      "Read frame: 3100 from drone_vid_5\nRead frame: 3120 from drone_vid_5\nRead frame: 3140 from drone_vid_5\nRead frame: 3160 from drone_vid_5\nRead frame: 3180 from drone_vid_5\nRead frame: 3200 from drone_vid_5\n"
     ]
    },
    {
     "name": "stdout",
     "output_type": "stream",
     "text": [
      "Read frame: 3220 from drone_vid_5\nRead frame: 3240 from drone_vid_5\nRead frame: 3260 from drone_vid_5\nRead frame: 3280 from drone_vid_5\nRead frame: 3300 from drone_vid_5\nRead frame: 3320 from drone_vid_5\nRead frame: 3340 from drone_vid_5\nRead frame: 3360 from drone_vid_5\n"
     ]
    },
    {
     "name": "stdout",
     "output_type": "stream",
     "text": [
      "Read frame: 3380 from drone_vid_5\nRead frame: 3400 from drone_vid_5\nRead frame: 3420 from drone_vid_5\nRead frame: 3440 from drone_vid_5\nRead frame: 3460 from drone_vid_5\nRead frame: 3480 from drone_vid_5\nRead frame: 3500 from drone_vid_5\n"
     ]
    },
    {
     "name": "stdout",
     "output_type": "stream",
     "text": [
      "Read frame: 3520 from drone_vid_5\nRead frame: 3540 from drone_vid_5\nRead frame: 3560 from drone_vid_5\nRead frame: 3580 from drone_vid_5\n"
     ]
    },
    {
     "name": "stdout",
     "output_type": "stream",
     "text": [
      "Read frame: 0 from drone_vid_6\nRead frame: 20 from drone_vid_6\n"
     ]
    },
    {
     "name": "stdout",
     "output_type": "stream",
     "text": [
      "Read frame: 40 from drone_vid_6\nRead frame: 60 from drone_vid_6\n"
     ]
    },
    {
     "name": "stdout",
     "output_type": "stream",
     "text": [
      "Read frame: 80 from drone_vid_6\nRead frame: 100 from drone_vid_6\n"
     ]
    },
    {
     "name": "stdout",
     "output_type": "stream",
     "text": [
      "Read frame: 120 from drone_vid_6\nRead frame: 140 from drone_vid_6\n"
     ]
    },
    {
     "name": "stdout",
     "output_type": "stream",
     "text": [
      "Read frame: 160 from drone_vid_6\nRead frame: 180 from drone_vid_6\n"
     ]
    },
    {
     "name": "stdout",
     "output_type": "stream",
     "text": [
      "Read frame: 200 from drone_vid_6\nRead frame: 220 from drone_vid_6\n"
     ]
    },
    {
     "name": "stdout",
     "output_type": "stream",
     "text": [
      "Read frame: 240 from drone_vid_6\nRead frame: 260 from drone_vid_6\n"
     ]
    },
    {
     "name": "stdout",
     "output_type": "stream",
     "text": [
      "Read frame: 280 from drone_vid_6\n"
     ]
    },
    {
     "name": "stdout",
     "output_type": "stream",
     "text": [
      "Read frame: 300 from drone_vid_6\n"
     ]
    },
    {
     "name": "stdout",
     "output_type": "stream",
     "text": [
      "Read frame: 320 from drone_vid_6\nRead frame: 340 from drone_vid_6\n"
     ]
    },
    {
     "name": "stdout",
     "output_type": "stream",
     "text": [
      "Read frame: 360 from drone_vid_6\nRead frame: 380 from drone_vid_6\n"
     ]
    },
    {
     "name": "stdout",
     "output_type": "stream",
     "text": [
      "Read frame: 400 from drone_vid_6\nRead frame: 420 from drone_vid_6\n"
     ]
    },
    {
     "name": "stdout",
     "output_type": "stream",
     "text": [
      "Read frame: 440 from drone_vid_6\nRead frame: 460 from drone_vid_6\n"
     ]
    },
    {
     "name": "stdout",
     "output_type": "stream",
     "text": [
      "Read frame: 480 from drone_vid_6\nRead frame: 500 from drone_vid_6\n"
     ]
    },
    {
     "name": "stdout",
     "output_type": "stream",
     "text": [
      "Read frame: 520 from drone_vid_6\n"
     ]
    },
    {
     "name": "stdout",
     "output_type": "stream",
     "text": [
      "Read frame: 540 from drone_vid_6\n"
     ]
    },
    {
     "name": "stdout",
     "output_type": "stream",
     "text": [
      "Read frame: 560 from drone_vid_6\n"
     ]
    },
    {
     "name": "stdout",
     "output_type": "stream",
     "text": [
      "Read frame: 580 from drone_vid_6\nRead frame: 600 from drone_vid_6\n"
     ]
    },
    {
     "name": "stdout",
     "output_type": "stream",
     "text": [
      "Read frame: 620 from drone_vid_6\nRead frame: 640 from drone_vid_6\n"
     ]
    },
    {
     "name": "stdout",
     "output_type": "stream",
     "text": [
      "Read frame: 660 from drone_vid_6\nRead frame: 680 from drone_vid_6\n"
     ]
    },
    {
     "name": "stdout",
     "output_type": "stream",
     "text": [
      "Read frame: 700 from drone_vid_6\nRead frame: 720 from drone_vid_6\n"
     ]
    },
    {
     "name": "stdout",
     "output_type": "stream",
     "text": [
      "Read frame: 740 from drone_vid_6\n"
     ]
    },
    {
     "name": "stdout",
     "output_type": "stream",
     "text": [
      "Read frame: 760 from drone_vid_6\nRead frame: 780 from drone_vid_6\n"
     ]
    },
    {
     "name": "stdout",
     "output_type": "stream",
     "text": [
      "Read frame: 800 from drone_vid_6\nRead frame: 820 from drone_vid_6\n"
     ]
    },
    {
     "name": "stdout",
     "output_type": "stream",
     "text": [
      "Read frame: 840 from drone_vid_6\nRead frame: 860 from drone_vid_6\n"
     ]
    },
    {
     "name": "stdout",
     "output_type": "stream",
     "text": [
      "Read frame: 880 from drone_vid_6\nRead frame: 900 from drone_vid_6\n"
     ]
    },
    {
     "name": "stdout",
     "output_type": "stream",
     "text": [
      "Read frame: 920 from drone_vid_6\n"
     ]
    },
    {
     "name": "stdout",
     "output_type": "stream",
     "text": [
      "Read frame: 940 from drone_vid_6\n"
     ]
    },
    {
     "name": "stdout",
     "output_type": "stream",
     "text": [
      "Read frame: 960 from drone_vid_6\nRead frame: 980 from drone_vid_6\n"
     ]
    },
    {
     "name": "stdout",
     "output_type": "stream",
     "text": [
      "Read frame: 1000 from drone_vid_6\nRead frame: 1020 from drone_vid_6\n"
     ]
    },
    {
     "name": "stdout",
     "output_type": "stream",
     "text": [
      "Read frame: 1040 from drone_vid_6\nRead frame: 1060 from drone_vid_6\n"
     ]
    },
    {
     "name": "stdout",
     "output_type": "stream",
     "text": [
      "Read frame: 1080 from drone_vid_6\nRead frame: 1100 from drone_vid_6\n"
     ]
    },
    {
     "name": "stdout",
     "output_type": "stream",
     "text": [
      "Read frame: 1120 from drone_vid_6\nRead frame: 1140 from drone_vid_6\n"
     ]
    },
    {
     "name": "stdout",
     "output_type": "stream",
     "text": [
      "Read frame: 1160 from drone_vid_6\nRead frame: 1180 from drone_vid_6\n"
     ]
    },
    {
     "name": "stdout",
     "output_type": "stream",
     "text": [
      "Read frame: 1200 from drone_vid_6\nRead frame: 1220 from drone_vid_6\n"
     ]
    },
    {
     "name": "stdout",
     "output_type": "stream",
     "text": [
      "Read frame: 1240 from drone_vid_6\nRead frame: 1260 from drone_vid_6\n"
     ]
    },
    {
     "name": "stdout",
     "output_type": "stream",
     "text": [
      "Read frame: 1280 from drone_vid_6\n"
     ]
    },
    {
     "name": "stdout",
     "output_type": "stream",
     "text": [
      "Read frame: 1300 from drone_vid_6\nRead frame: 1320 from drone_vid_6\n"
     ]
    },
    {
     "name": "stdout",
     "output_type": "stream",
     "text": [
      "Read frame: 1340 from drone_vid_6\nRead frame: 1360 from drone_vid_6\n"
     ]
    },
    {
     "name": "stdout",
     "output_type": "stream",
     "text": [
      "Read frame: 1380 from drone_vid_6\nRead frame: 1400 from drone_vid_6\n"
     ]
    },
    {
     "name": "stdout",
     "output_type": "stream",
     "text": [
      "Read frame: 1420 from drone_vid_6\nRead frame: 1440 from drone_vid_6\n"
     ]
    },
    {
     "name": "stdout",
     "output_type": "stream",
     "text": [
      "Read frame: 1460 from drone_vid_6\nRead frame: 1480 from drone_vid_6\n"
     ]
    },
    {
     "name": "stdout",
     "output_type": "stream",
     "text": [
      "Read frame: 1500 from drone_vid_6\nRead frame: 1520 from drone_vid_6\n"
     ]
    },
    {
     "name": "stdout",
     "output_type": "stream",
     "text": [
      "Read frame: 1540 from drone_vid_6\n"
     ]
    },
    {
     "name": "stdout",
     "output_type": "stream",
     "text": [
      "Read frame: 1560 from drone_vid_6\nRead frame: 1580 from drone_vid_6\n"
     ]
    },
    {
     "name": "stdout",
     "output_type": "stream",
     "text": [
      "Read frame: 1600 from drone_vid_6\nRead frame: 1620 from drone_vid_6\n"
     ]
    },
    {
     "name": "stdout",
     "output_type": "stream",
     "text": [
      "Read frame: 1640 from drone_vid_6\nRead frame: 1660 from drone_vid_6\n"
     ]
    },
    {
     "name": "stdout",
     "output_type": "stream",
     "text": [
      "Read frame: 1680 from drone_vid_6\nRead frame: 1700 from drone_vid_6\n"
     ]
    },
    {
     "name": "stdout",
     "output_type": "stream",
     "text": [
      "Read frame: 1720 from drone_vid_6\nRead frame: 1740 from drone_vid_6\n"
     ]
    },
    {
     "name": "stdout",
     "output_type": "stream",
     "text": [
      "Read frame: 1760 from drone_vid_6\nRead frame: 1780 from drone_vid_6\n"
     ]
    },
    {
     "name": "stdout",
     "output_type": "stream",
     "text": [
      "Read frame: 1800 from drone_vid_6\nRead frame: 1820 from drone_vid_6\n"
     ]
    },
    {
     "name": "stdout",
     "output_type": "stream",
     "text": [
      "Read frame: 1840 from drone_vid_6\nRead frame: 1860 from drone_vid_6"
     ]
    },
    {
     "name": "stdout",
     "output_type": "stream",
     "text": [
      "\n"
     ]
    },
    {
     "name": "stdout",
     "output_type": "stream",
     "text": [
      "Read frame: 1880 from drone_vid_6\nRead frame: 1900 from drone_vid_6\n"
     ]
    },
    {
     "name": "stdout",
     "output_type": "stream",
     "text": [
      "Read frame: 1920 from drone_vid_6\nRead frame: 1940 from drone_vid_6\n"
     ]
    },
    {
     "name": "stdout",
     "output_type": "stream",
     "text": [
      "Read frame: 1960 from drone_vid_6\nRead frame: 1980 from drone_vid_6\n"
     ]
    },
    {
     "name": "stdout",
     "output_type": "stream",
     "text": [
      "Read frame: 2000 from drone_vid_6\nRead frame: 2020 from drone_vid_6\n"
     ]
    },
    {
     "name": "stdout",
     "output_type": "stream",
     "text": [
      "Read frame: 2040 from drone_vid_6\nRead frame: 2060 from drone_vid_6\n"
     ]
    },
    {
     "name": "stdout",
     "output_type": "stream",
     "text": [
      "Read frame: 2080 from drone_vid_6\nRead frame: 2100 from drone_vid_6\n"
     ]
    },
    {
     "name": "stdout",
     "output_type": "stream",
     "text": [
      "Read frame: 2120 from drone_vid_6\nRead frame: 2140 from drone_vid_6\n"
     ]
    },
    {
     "name": "stdout",
     "output_type": "stream",
     "text": [
      "Read frame: 2160 from drone_vid_6\nRead frame: 2180 from drone_vid_6\n"
     ]
    },
    {
     "name": "stdout",
     "output_type": "stream",
     "text": [
      "Read frame: 2200 from drone_vid_6\nRead frame: 2220 from drone_vid_6\n"
     ]
    },
    {
     "name": "stdout",
     "output_type": "stream",
     "text": [
      "Read frame: 2240 from drone_vid_6\nRead frame: 2260 from drone_vid_6\n"
     ]
    },
    {
     "name": "stdout",
     "output_type": "stream",
     "text": [
      "Read frame: 2280 from drone_vid_6\nRead frame: 2300 from drone_vid_6\n"
     ]
    },
    {
     "name": "stdout",
     "output_type": "stream",
     "text": [
      "Read frame: 2320 from drone_vid_6\n"
     ]
    },
    {
     "name": "stdout",
     "output_type": "stream",
     "text": [
      "Read frame: 2340 from drone_vid_6\n"
     ]
    },
    {
     "name": "stdout",
     "output_type": "stream",
     "text": [
      "Read frame: 2360 from drone_vid_6\nRead frame: 2380 from drone_vid_6\n"
     ]
    },
    {
     "name": "stdout",
     "output_type": "stream",
     "text": [
      "Read frame: 2400 from drone_vid_6\nRead frame: 2420 from drone_vid_6\n"
     ]
    },
    {
     "name": "stdout",
     "output_type": "stream",
     "text": [
      "Read frame: 2440 from drone_vid_6\nRead frame: 2460 from drone_vid_6"
     ]
    },
    {
     "name": "stdout",
     "output_type": "stream",
     "text": [
      "\nRead frame: 2480 from drone_vid_6\n"
     ]
    },
    {
     "name": "stdout",
     "output_type": "stream",
     "text": [
      "Read frame: 2500 from drone_vid_6\nRead frame: 2520 from drone_vid_6\n"
     ]
    },
    {
     "name": "stdout",
     "output_type": "stream",
     "text": [
      "Read frame: 2540 from drone_vid_6\nRead frame: 2560 from drone_vid_6\n"
     ]
    },
    {
     "name": "stdout",
     "output_type": "stream",
     "text": [
      "Read frame: 2580 from drone_vid_6\nRead frame: 2600 from drone_vid_6\n"
     ]
    },
    {
     "name": "stdout",
     "output_type": "stream",
     "text": [
      "Read frame: 2620 from drone_vid_6\nRead frame: 2640 from drone_vid_6\n"
     ]
    },
    {
     "name": "stdout",
     "output_type": "stream",
     "text": [
      "Read frame: 2660 from drone_vid_6\n"
     ]
    },
    {
     "name": "stdout",
     "output_type": "stream",
     "text": [
      "Read frame: 2680 from drone_vid_6\n"
     ]
    },
    {
     "name": "stdout",
     "output_type": "stream",
     "text": [
      "Read frame: 2700 from drone_vid_6\nRead frame: 2720 from drone_vid_6\n"
     ]
    },
    {
     "name": "stdout",
     "output_type": "stream",
     "text": [
      "Read frame: 2740 from drone_vid_6\nRead frame: 2760 from drone_vid_6\n"
     ]
    },
    {
     "name": "stdout",
     "output_type": "stream",
     "text": [
      "Read frame: 2780 from drone_vid_6\nRead frame: 2800 from drone_vid_6\n"
     ]
    },
    {
     "name": "stdout",
     "output_type": "stream",
     "text": [
      "Read frame: 2820 from drone_vid_6\nRead frame: 2840 from drone_vid_6\n"
     ]
    },
    {
     "name": "stdout",
     "output_type": "stream",
     "text": [
      "Read frame: 2860 from drone_vid_6\nRead frame: 2880 from drone_vid_6\n"
     ]
    },
    {
     "name": "stdout",
     "output_type": "stream",
     "text": [
      "Read frame: 2900 from drone_vid_6\nRead frame: 2920 from drone_vid_6\n"
     ]
    },
    {
     "name": "stdout",
     "output_type": "stream",
     "text": [
      "Read frame: 2940 from drone_vid_6\nRead frame: 2960 from drone_vid_6\n"
     ]
    },
    {
     "name": "stdout",
     "output_type": "stream",
     "text": [
      "Read frame: 2980 from drone_vid_6\nRead frame: 3000 from drone_vid_6\n"
     ]
    },
    {
     "name": "stdout",
     "output_type": "stream",
     "text": [
      "Read frame: 3020 from drone_vid_6\nRead frame: 3040 from drone_vid_6\n"
     ]
    },
    {
     "name": "stdout",
     "output_type": "stream",
     "text": [
      "Read frame: 3060 from drone_vid_6\n"
     ]
    },
    {
     "name": "stdout",
     "output_type": "stream",
     "text": [
      "Read frame: 3080 from drone_vid_6\n"
     ]
    },
    {
     "name": "stdout",
     "output_type": "stream",
     "text": [
      "Read frame: 3100 from drone_vid_6\n"
     ]
    },
    {
     "name": "stdout",
     "output_type": "stream",
     "text": [
      "Read frame: 3120 from drone_vid_6\n"
     ]
    },
    {
     "name": "stdout",
     "output_type": "stream",
     "text": [
      "Read frame: 3140 from drone_vid_6\n"
     ]
    },
    {
     "name": "stdout",
     "output_type": "stream",
     "text": [
      "Read frame: 3160 from drone_vid_6\nRead frame: 3180 from drone_vid_6\n"
     ]
    },
    {
     "name": "stdout",
     "output_type": "stream",
     "text": [
      "Read frame: 0 from drone_vid_7\nRead frame: 20 from drone_vid_7\nRead frame: 40 from drone_vid_7\nRead frame: 60 from drone_vid_7\nRead frame: 80 from drone_vid_7\nRead frame: 100 from drone_vid_7\nRead frame: 120 from drone_vid_7\nRead frame: 140 from drone_vid_7\nRead frame: 160 from drone_vid_7\n"
     ]
    },
    {
     "name": "stdout",
     "output_type": "stream",
     "text": [
      "Read frame: 180 from drone_vid_7\nRead frame: 200 from drone_vid_7\nRead frame: 220 from drone_vid_7\nRead frame: 240 from drone_vid_7\nRead frame: 260 from drone_vid_7\nRead frame: 280 from drone_vid_7\nRead frame: 300 from drone_vid_7\nRead frame: 320 from drone_vid_7\n"
     ]
    },
    {
     "name": "stdout",
     "output_type": "stream",
     "text": [
      "Read frame: 340 from drone_vid_7\nRead frame: 360 from drone_vid_7\nRead frame: 380 from drone_vid_7\nRead frame: 400 from drone_vid_7\nRead frame: 420 from drone_vid_7\nRead frame: 440 from drone_vid_7\nRead frame: 460 from drone_vid_7\n"
     ]
    },
    {
     "name": "stdout",
     "output_type": "stream",
     "text": [
      "Read frame: 480 from drone_vid_7\nRead frame: 500 from drone_vid_7\nRead frame: 520 from drone_vid_7\nRead frame: 540 from drone_vid_7\nRead frame: 560 from drone_vid_7\nRead frame: 580 from drone_vid_7\nRead frame: 600 from drone_vid_7\n"
     ]
    },
    {
     "name": "stdout",
     "output_type": "stream",
     "text": [
      "Read frame: 620 from drone_vid_7\nRead frame: 640 from drone_vid_7\nRead frame: 660 from drone_vid_7\nRead frame: 680 from drone_vid_7\nRead frame: 700 from drone_vid_7\nRead frame: 720 from drone_vid_7\n"
     ]
    },
    {
     "name": "stdout",
     "output_type": "stream",
     "text": [
      "Read frame: 740 from drone_vid_7\nRead frame: 760 from drone_vid_7\nRead frame: 780 from drone_vid_7\nRead frame: 800 from drone_vid_7\nRead frame: 820 from drone_vid_7\nRead frame: 840 from drone_vid_7\nRead frame: 860 from drone_vid_7\n"
     ]
    },
    {
     "name": "stdout",
     "output_type": "stream",
     "text": [
      "Read frame: 880 from drone_vid_7\nRead frame: 900 from drone_vid_7\nRead frame: 920 from drone_vid_7\nRead frame: 940 from drone_vid_7\nRead frame: 960 from drone_vid_7\nRead frame: 980 from drone_vid_7\nRead frame: 1000 from drone_vid_7\nRead frame: 1020 from drone_vid_7"
     ]
    },
    {
     "name": "stdout",
     "output_type": "stream",
     "text": [
      "\nRead frame: 1040 from drone_vid_7\nRead frame: 1060 from drone_vid_7\nRead frame: 1080 from drone_vid_7\nRead frame: 1100 from drone_vid_7\nRead frame: 1120 from drone_vid_7\n"
     ]
    },
    {
     "name": "stdout",
     "output_type": "stream",
     "text": [
      "Read frame: 1140 from drone_vid_7\nRead frame: 1160 from drone_vid_7\nRead frame: 1180 from drone_vid_7\nRead frame: 1200 from drone_vid_7\nRead frame: 1220 from drone_vid_7\nRead frame: 1240 from drone_vid_7\nRead frame: 1260 from drone_vid_7\n"
     ]
    },
    {
     "name": "stdout",
     "output_type": "stream",
     "text": [
      "Read frame: 1280 from drone_vid_7\nRead frame: 1300 from drone_vid_7\nRead frame: 1320 from drone_vid_7\nRead frame: 1340 from drone_vid_7\nRead frame: 1360 from drone_vid_7\nRead frame: 1380 from drone_vid_7\nRead frame: 1400 from drone_vid_7\nRead frame: 1420 from drone_vid_7\n"
     ]
    },
    {
     "name": "stdout",
     "output_type": "stream",
     "text": [
      "Read frame: 1440 from drone_vid_7\nRead frame: 1460 from drone_vid_7\nRead frame: 1480 from drone_vid_7\nRead frame: 1500 from drone_vid_7\nRead frame: 1520 from drone_vid_7\nRead frame: 1540 from drone_vid_7\nRead frame: 1560 from drone_vid_7\nRead frame: 1580 from drone_vid_7\n"
     ]
    },
    {
     "name": "stdout",
     "output_type": "stream",
     "text": [
      "Read frame: 1600 from drone_vid_7\nRead frame: 1620 from drone_vid_7\nRead frame: 1640 from drone_vid_7\nRead frame: 1660 from drone_vid_7\nRead frame: 1680 from drone_vid_7\nRead frame: 1700 from drone_vid_7\nRead frame: 1720 from drone_vid_7\nRead frame: 1740 from drone_vid_7\n"
     ]
    },
    {
     "name": "stdout",
     "output_type": "stream",
     "text": [
      "Read frame: 1760 from drone_vid_7\nRead frame: 1780 from drone_vid_7\nRead frame: 1800 from drone_vid_7\nRead frame: 1820 from drone_vid_7\nRead frame: 1840 from drone_vid_7\nRead frame: 1860 from drone_vid_7\nRead frame: 1880 from drone_vid_7\n"
     ]
    },
    {
     "name": "stdout",
     "output_type": "stream",
     "text": [
      "Read frame: 1900 from drone_vid_7\nRead frame: 1920 from drone_vid_7\nRead frame: 1940 from drone_vid_7\nRead frame: 1960 from drone_vid_7\nRead frame: 1980 from drone_vid_7\n"
     ]
    },
    {
     "name": "stdout",
     "output_type": "stream",
     "text": [
      "Read frame: 2000 from drone_vid_7\nRead frame: 2020 from drone_vid_7\nRead frame: 2040 from drone_vid_7\nRead frame: 2060 from drone_vid_7\nRead frame: 2080 from drone_vid_7\n"
     ]
    },
    {
     "name": "stdout",
     "output_type": "stream",
     "text": [
      "Read frame: 2100 from drone_vid_7\nRead frame: 2120 from drone_vid_7\nRead frame: 2140 from drone_vid_7\nRead frame: 2160 from drone_vid_7\nRead frame: 2180 from drone_vid_7\n"
     ]
    },
    {
     "name": "stdout",
     "output_type": "stream",
     "text": [
      "Read frame: 2200 from drone_vid_7\nRead frame: 2220 from drone_vid_7\nRead frame: 2240 from drone_vid_7\nRead frame: 2260 from drone_vid_7\nRead frame: 2280 from drone_vid_7\nRead frame: 2300 from drone_vid_7\nRead frame: 2320 from drone_vid_7\n"
     ]
    },
    {
     "name": "stdout",
     "output_type": "stream",
     "text": [
      "Read frame: 2340 from drone_vid_7\nRead frame: 2360 from drone_vid_7\nRead frame: 2380 from drone_vid_7\nRead frame: 2400 from drone_vid_7\nRead frame: 2420 from drone_vid_7\n"
     ]
    },
    {
     "name": "stdout",
     "output_type": "stream",
     "text": [
      "Read frame: 2440 from drone_vid_7\nRead frame: 2460 from drone_vid_7\nRead frame: 2480 from drone_vid_7\nRead frame: 2500 from drone_vid_7\nRead frame: 2520 from drone_vid_7\nRead frame: 2540 from drone_vid_7"
     ]
    },
    {
     "name": "stdout",
     "output_type": "stream",
     "text": [
      "\nRead frame: 2560 from drone_vid_7\nRead frame: 2580 from drone_vid_7\nRead frame: 2600 from drone_vid_7\nRead frame: 2620 from drone_vid_7\nRead frame: 2640 from drone_vid_7"
     ]
    },
    {
     "name": "stdout",
     "output_type": "stream",
     "text": [
      "\nRead frame: 2660 from drone_vid_7\nRead frame: 2680 from drone_vid_7\nRead frame: 2700 from drone_vid_7\nRead frame: 2720 from drone_vid_7\nRead frame: 2740 from drone_vid_7\n"
     ]
    },
    {
     "name": "stdout",
     "output_type": "stream",
     "text": [
      "Read frame: 2760 from drone_vid_7\nRead frame: 2780 from drone_vid_7\nRead frame: 2800 from drone_vid_7\nRead frame: 2820 from drone_vid_7\nRead frame: 2840 from drone_vid_7\nRead frame: 2860 from drone_vid_7\n"
     ]
    },
    {
     "name": "stdout",
     "output_type": "stream",
     "text": [
      "Read frame: 2880 from drone_vid_7\nRead frame: 2900 from drone_vid_7\nRead frame: 2920 from drone_vid_7\nRead frame: 2940 from drone_vid_7\nRead frame: 2960 from drone_vid_7\nRead frame: 2980 from drone_vid_7\n"
     ]
    },
    {
     "name": "stdout",
     "output_type": "stream",
     "text": [
      "Read frame: 3000 from drone_vid_7\nRead frame: 3020 from drone_vid_7\nRead frame: 3040 from drone_vid_7\nRead frame: 3060 from drone_vid_7\n"
     ]
    },
    {
     "name": "stdout",
     "output_type": "stream",
     "text": [
      "Read frame: 3080 from drone_vid_7\nRead frame: 3100 from drone_vid_7\nRead frame: 3120 from drone_vid_7\nRead frame: 3140 from drone_vid_7\nRead frame: 3160 from drone_vid_7\nRead frame: 3180 from drone_vid_7"
     ]
    },
    {
     "name": "stdout",
     "output_type": "stream",
     "text": [
      "\nRead frame: 3200 from drone_vid_7\nRead frame: 3220 from drone_vid_7\nRead frame: 3240 from drone_vid_7\nRead frame: 3260 from drone_vid_7\nRead frame: 3280 from drone_vid_7\n"
     ]
    },
    {
     "name": "stdout",
     "output_type": "stream",
     "text": [
      "Read frame: 3300 from drone_vid_7\nRead frame: 3320 from drone_vid_7\nRead frame: 3340 from drone_vid_7\n"
     ]
    },
    {
     "name": "stdout",
     "output_type": "stream",
     "text": [
      "Read frame: 3360 from drone_vid_7\nRead frame: 3380 from drone_vid_7\nRead frame: 3400 from drone_vid_7\nRead frame: 3420 from drone_vid_7\nRead frame: 3440 from drone_vid_7\n"
     ]
    },
    {
     "name": "stdout",
     "output_type": "stream",
     "text": [
      "Read frame: 3460 from drone_vid_7\nRead frame: 3480 from drone_vid_7\nRead frame: 3500 from drone_vid_7\nRead frame: 3520 from drone_vid_7\nRead frame: 3540 from drone_vid_7\nRead frame: 3560 from drone_vid_7\n"
     ]
    },
    {
     "name": "stdout",
     "output_type": "stream",
     "text": [
      "Read frame: 3580 from drone_vid_7\nRead frame: 3600 from drone_vid_7\nRead frame: 3620 from drone_vid_7\nRead frame: 0 from drone_vid_8\n"
     ]
    },
    {
     "name": "stdout",
     "output_type": "stream",
     "text": [
      "Read frame: 20 from drone_vid_8\nRead frame: 40 from drone_vid_8\n"
     ]
    },
    {
     "name": "stdout",
     "output_type": "stream",
     "text": [
      "Read frame: 60 from drone_vid_8\nRead frame: 80 from drone_vid_8\n"
     ]
    },
    {
     "name": "stdout",
     "output_type": "stream",
     "text": [
      "Read frame: 100 from drone_vid_8\nRead frame: 120 from drone_vid_8\n"
     ]
    },
    {
     "name": "stdout",
     "output_type": "stream",
     "text": [
      "Read frame: 140 from drone_vid_8\nRead frame: 160 from drone_vid_8\n"
     ]
    },
    {
     "name": "stdout",
     "output_type": "stream",
     "text": [
      "Read frame: 180 from drone_vid_8\nRead frame: 200 from drone_vid_8\n"
     ]
    },
    {
     "name": "stdout",
     "output_type": "stream",
     "text": [
      "Read frame: 220 from drone_vid_8\nRead frame: 240 from drone_vid_8\n"
     ]
    },
    {
     "name": "stdout",
     "output_type": "stream",
     "text": [
      "Read frame: 260 from drone_vid_8\nRead frame: 280 from drone_vid_8\n"
     ]
    },
    {
     "name": "stdout",
     "output_type": "stream",
     "text": [
      "Read frame: 300 from drone_vid_8\n"
     ]
    },
    {
     "name": "stdout",
     "output_type": "stream",
     "text": [
      "Read frame: 320 from drone_vid_8\nRead frame: 340 from drone_vid_8\n"
     ]
    },
    {
     "name": "stdout",
     "output_type": "stream",
     "text": [
      "Read frame: 360 from drone_vid_8\nRead frame: 380 from drone_vid_8\n"
     ]
    },
    {
     "name": "stdout",
     "output_type": "stream",
     "text": [
      "Read frame: 400 from drone_vid_8\nRead frame: 420 from drone_vid_8\n"
     ]
    },
    {
     "name": "stdout",
     "output_type": "stream",
     "text": [
      "Read frame: 440 from drone_vid_8\nRead frame: 460 from drone_vid_8\n"
     ]
    },
    {
     "name": "stdout",
     "output_type": "stream",
     "text": [
      "Read frame: 480 from drone_vid_8\nRead frame: 500 from drone_vid_8\n"
     ]
    },
    {
     "name": "stdout",
     "output_type": "stream",
     "text": [
      "Read frame: 520 from drone_vid_8\nRead frame: 540 from drone_vid_8"
     ]
    },
    {
     "name": "stdout",
     "output_type": "stream",
     "text": [
      "\n"
     ]
    },
    {
     "name": "stdout",
     "output_type": "stream",
     "text": [
      "Read frame: 560 from drone_vid_8\n"
     ]
    },
    {
     "name": "stdout",
     "output_type": "stream",
     "text": [
      "Read frame: 580 from drone_vid_8\n"
     ]
    },
    {
     "name": "stdout",
     "output_type": "stream",
     "text": [
      "Read frame: 600 from drone_vid_8\n"
     ]
    },
    {
     "name": "stdout",
     "output_type": "stream",
     "text": [
      "Read frame: 620 from drone_vid_8\nRead frame: 640 from drone_vid_8\n"
     ]
    },
    {
     "name": "stdout",
     "output_type": "stream",
     "text": [
      "Read frame: 660 from drone_vid_8\nRead frame: 680 from drone_vid_8\n"
     ]
    },
    {
     "name": "stdout",
     "output_type": "stream",
     "text": [
      "Read frame: 700 from drone_vid_8\nRead frame: 720 from drone_vid_8\n"
     ]
    },
    {
     "name": "stdout",
     "output_type": "stream",
     "text": [
      "Read frame: 740 from drone_vid_8\nRead frame: 760 from drone_vid_8\n"
     ]
    },
    {
     "name": "stdout",
     "output_type": "stream",
     "text": [
      "Read frame: 780 from drone_vid_8\nRead frame: 800 from drone_vid_8\n"
     ]
    },
    {
     "name": "stdout",
     "output_type": "stream",
     "text": [
      "Read frame: 820 from drone_vid_8\n"
     ]
    },
    {
     "name": "stdout",
     "output_type": "stream",
     "text": [
      "Read frame: 840 from drone_vid_8\n"
     ]
    },
    {
     "name": "stdout",
     "output_type": "stream",
     "text": [
      "Read frame: 860 from drone_vid_8\nRead frame: 880 from drone_vid_8\n"
     ]
    },
    {
     "name": "stdout",
     "output_type": "stream",
     "text": [
      "Read frame: 900 from drone_vid_8\nRead frame: 920 from drone_vid_8\n"
     ]
    },
    {
     "name": "stdout",
     "output_type": "stream",
     "text": [
      "Read frame: 940 from drone_vid_8\nRead frame: 960 from drone_vid_8\n"
     ]
    },
    {
     "name": "stdout",
     "output_type": "stream",
     "text": [
      "Read frame: 980 from drone_vid_8\nRead frame: 1000 from drone_vid_8\n"
     ]
    },
    {
     "name": "stdout",
     "output_type": "stream",
     "text": [
      "Read frame: 1020 from drone_vid_8\n"
     ]
    },
    {
     "name": "stdout",
     "output_type": "stream",
     "text": [
      "Read frame: 1040 from drone_vid_8\nRead frame: 1060 from drone_vid_8"
     ]
    },
    {
     "name": "stdout",
     "output_type": "stream",
     "text": [
      "\nRead frame: 1080 from drone_vid_8\n"
     ]
    },
    {
     "name": "stdout",
     "output_type": "stream",
     "text": [
      "Read frame: 1100 from drone_vid_8\nRead frame: 1120 from drone_vid_8\n"
     ]
    },
    {
     "name": "stdout",
     "output_type": "stream",
     "text": [
      "Read frame: 1140 from drone_vid_8\nRead frame: 1160 from drone_vid_8\n"
     ]
    },
    {
     "name": "stdout",
     "output_type": "stream",
     "text": [
      "Read frame: 1180 from drone_vid_8\nRead frame: 1200 from drone_vid_8\n"
     ]
    },
    {
     "name": "stdout",
     "output_type": "stream",
     "text": [
      "Read frame: 1220 from drone_vid_8\nRead frame: 1240 from drone_vid_8\n"
     ]
    },
    {
     "name": "stdout",
     "output_type": "stream",
     "text": [
      "Read frame: 1260 from drone_vid_8\n"
     ]
    },
    {
     "name": "stdout",
     "output_type": "stream",
     "text": [
      "Read frame: 1280 from drone_vid_8\n"
     ]
    },
    {
     "name": "stdout",
     "output_type": "stream",
     "text": [
      "Read frame: 1300 from drone_vid_8\nRead frame: 1320 from drone_vid_8\n"
     ]
    },
    {
     "name": "stdout",
     "output_type": "stream",
     "text": [
      "Read frame: 1340 from drone_vid_8\n"
     ]
    },
    {
     "name": "stdout",
     "output_type": "stream",
     "text": [
      "Read frame: 1360 from drone_vid_8\n"
     ]
    },
    {
     "name": "stdout",
     "output_type": "stream",
     "text": [
      "Read frame: 1380 from drone_vid_8\n"
     ]
    },
    {
     "name": "stdout",
     "output_type": "stream",
     "text": [
      "Read frame: 1400 from drone_vid_8\n"
     ]
    },
    {
     "name": "stdout",
     "output_type": "stream",
     "text": [
      "Read frame: 1420 from drone_vid_8\n"
     ]
    },
    {
     "name": "stdout",
     "output_type": "stream",
     "text": [
      "Read frame: 1440 from drone_vid_8\nRead frame: 1460 from drone_vid_8"
     ]
    },
    {
     "name": "stdout",
     "output_type": "stream",
     "text": [
      "\nRead frame: 1480 from drone_vid_8\n"
     ]
    },
    {
     "name": "stdout",
     "output_type": "stream",
     "text": [
      "Read frame: 1500 from drone_vid_8\nRead frame: 1520 from drone_vid_8\n"
     ]
    },
    {
     "name": "stdout",
     "output_type": "stream",
     "text": [
      "Read frame: 1540 from drone_vid_8\nRead frame: 1560 from drone_vid_8\n"
     ]
    },
    {
     "name": "stdout",
     "output_type": "stream",
     "text": [
      "Read frame: 1580 from drone_vid_8\nRead frame: 1600 from drone_vid_8\n"
     ]
    },
    {
     "name": "stdout",
     "output_type": "stream",
     "text": [
      "Read frame: 1620 from drone_vid_8\nRead frame: 1640 from drone_vid_8\n"
     ]
    },
    {
     "name": "stdout",
     "output_type": "stream",
     "text": [
      "Read frame: 1660 from drone_vid_8\nRead frame: 1680 from drone_vid_8\n"
     ]
    },
    {
     "name": "stdout",
     "output_type": "stream",
     "text": [
      "Read frame: 1700 from drone_vid_8\nRead frame: 1720 from drone_vid_8\n"
     ]
    },
    {
     "name": "stdout",
     "output_type": "stream",
     "text": [
      "Read frame: 1740 from drone_vid_8\nRead frame: 1760 from drone_vid_8\n"
     ]
    },
    {
     "name": "stdout",
     "output_type": "stream",
     "text": [
      "Read frame: 1780 from drone_vid_8\nRead frame: 1800 from drone_vid_8\n"
     ]
    },
    {
     "name": "stdout",
     "output_type": "stream",
     "text": [
      "Read frame: 1820 from drone_vid_8\nRead frame: 1840 from drone_vid_8\n"
     ]
    },
    {
     "name": "stdout",
     "output_type": "stream",
     "text": [
      "Read frame: 1860 from drone_vid_8\nRead frame: 1880 from drone_vid_8\n"
     ]
    },
    {
     "name": "stdout",
     "output_type": "stream",
     "text": [
      "Read frame: 1900 from drone_vid_8\n"
     ]
    },
    {
     "name": "stdout",
     "output_type": "stream",
     "text": [
      "Read frame: 1920 from drone_vid_8\nRead frame: 1940 from drone_vid_8\n"
     ]
    },
    {
     "name": "stdout",
     "output_type": "stream",
     "text": [
      "Read frame: 1960 from drone_vid_8\nRead frame: 1980 from drone_vid_8\n"
     ]
    },
    {
     "name": "stdout",
     "output_type": "stream",
     "text": [
      "Read frame: 2000 from drone_vid_8\nRead frame: 2020 from drone_vid_8\n"
     ]
    },
    {
     "name": "stdout",
     "output_type": "stream",
     "text": [
      "Read frame: 2040 from drone_vid_8\nRead frame: 2060 from drone_vid_8\n"
     ]
    },
    {
     "name": "stdout",
     "output_type": "stream",
     "text": [
      "Read frame: 2080 from drone_vid_8\nRead frame: 2100 from drone_vid_8\n"
     ]
    },
    {
     "name": "stdout",
     "output_type": "stream",
     "text": [
      "Read frame: 2120 from drone_vid_8\nRead frame: 2140 from drone_vid_8\n"
     ]
    },
    {
     "name": "stdout",
     "output_type": "stream",
     "text": [
      "Read frame: 2160 from drone_vid_8\nRead frame: 2180 from drone_vid_8\n"
     ]
    },
    {
     "name": "stdout",
     "output_type": "stream",
     "text": [
      "Read frame: 2200 from drone_vid_8\n"
     ]
    },
    {
     "name": "stdout",
     "output_type": "stream",
     "text": [
      "Read frame: 2220 from drone_vid_8\nRead frame: 2240 from drone_vid_8\n"
     ]
    },
    {
     "name": "stdout",
     "output_type": "stream",
     "text": [
      "Read frame: 2260 from drone_vid_8\nRead frame: 2280 from drone_vid_8\n"
     ]
    },
    {
     "name": "stdout",
     "output_type": "stream",
     "text": [
      "Read frame: 2300 from drone_vid_8\nRead frame: 2320 from drone_vid_8\n"
     ]
    },
    {
     "name": "stdout",
     "output_type": "stream",
     "text": [
      "Read frame: 2340 from drone_vid_8\nRead frame: 2360 from drone_vid_8\n"
     ]
    },
    {
     "name": "stdout",
     "output_type": "stream",
     "text": [
      "Read frame: 2380 from drone_vid_8\nRead frame: 2400 from drone_vid_8\n"
     ]
    },
    {
     "name": "stdout",
     "output_type": "stream",
     "text": [
      "Read frame: 2420 from drone_vid_8\nRead frame: 2440 from drone_vid_8\n"
     ]
    },
    {
     "name": "stdout",
     "output_type": "stream",
     "text": [
      "Read frame: 2460 from drone_vid_8\nRead frame: 2480 from drone_vid_8\n"
     ]
    },
    {
     "name": "stdout",
     "output_type": "stream",
     "text": [
      "Read frame: 2500 from drone_vid_8\n"
     ]
    },
    {
     "name": "stdout",
     "output_type": "stream",
     "text": [
      "Read frame: 2520 from drone_vid_8\nRead frame: 2540 from drone_vid_8\n"
     ]
    },
    {
     "name": "stdout",
     "output_type": "stream",
     "text": [
      "Read frame: 2560 from drone_vid_8\nRead frame: 2580 from drone_vid_8\n"
     ]
    },
    {
     "name": "stdout",
     "output_type": "stream",
     "text": [
      "Read frame: 2600 from drone_vid_8\nRead frame: 2620 from drone_vid_8\n"
     ]
    },
    {
     "name": "stdout",
     "output_type": "stream",
     "text": [
      "Read frame: 2640 from drone_vid_8\nRead frame: 2660 from drone_vid_8\n"
     ]
    },
    {
     "name": "stdout",
     "output_type": "stream",
     "text": [
      "Read frame: 2680 from drone_vid_8\nRead frame: 2700 from drone_vid_8\n"
     ]
    },
    {
     "name": "stdout",
     "output_type": "stream",
     "text": [
      "Read frame: 2720 from drone_vid_8\nRead frame: 2740 from drone_vid_8\n"
     ]
    },
    {
     "name": "stdout",
     "output_type": "stream",
     "text": [
      "Read frame: 2760 from drone_vid_8\nRead frame: 2780 from drone_vid_8\n"
     ]
    },
    {
     "name": "stdout",
     "output_type": "stream",
     "text": [
      "Read frame: 2800 from drone_vid_8\nRead frame: 2820 from drone_vid_8\n"
     ]
    },
    {
     "name": "stdout",
     "output_type": "stream",
     "text": [
      "Read frame: 2840 from drone_vid_8\nRead frame: 2860 from drone_vid_8\n"
     ]
    },
    {
     "name": "stdout",
     "output_type": "stream",
     "text": [
      "Read frame: 2880 from drone_vid_8\nRead frame: 2900 from drone_vid_8\n"
     ]
    },
    {
     "name": "stdout",
     "output_type": "stream",
     "text": [
      "Read frame: 2920 from drone_vid_8\nRead frame: 2940 from drone_vid_8\n"
     ]
    },
    {
     "name": "stdout",
     "output_type": "stream",
     "text": [
      "Read frame: 2960 from drone_vid_8\nRead frame: 2980 from drone_vid_8\n"
     ]
    },
    {
     "name": "stdout",
     "output_type": "stream",
     "text": [
      "Read frame: 3000 from drone_vid_8\nRead frame: 3020 from drone_vid_8\n"
     ]
    },
    {
     "name": "stdout",
     "output_type": "stream",
     "text": [
      "Read frame: 3040 from drone_vid_8\nRead frame: 3060 from drone_vid_8\n"
     ]
    },
    {
     "name": "stdout",
     "output_type": "stream",
     "text": [
      "Read frame: 3080 from drone_vid_8\n"
     ]
    },
    {
     "name": "stdout",
     "output_type": "stream",
     "text": [
      "Read frame: 3100 from drone_vid_8\n"
     ]
    },
    {
     "name": "stdout",
     "output_type": "stream",
     "text": [
      "Read frame: 3120 from drone_vid_8\n"
     ]
    },
    {
     "name": "stdout",
     "output_type": "stream",
     "text": [
      "Read frame: 3140 from drone_vid_8\nRead frame: 3160 from drone_vid_8\n"
     ]
    },
    {
     "name": "stdout",
     "output_type": "stream",
     "text": [
      "Read frame: 3180 from drone_vid_8\nRead frame: 3200 from drone_vid_8\n"
     ]
    },
    {
     "name": "stdout",
     "output_type": "stream",
     "text": [
      "Read frame: 3220 from drone_vid_8\nRead frame: 3240 from drone_vid_8\n"
     ]
    },
    {
     "name": "stdout",
     "output_type": "stream",
     "text": [
      "Read frame: 3260 from drone_vid_8\nRead frame: 3280 from drone_vid_8\n"
     ]
    },
    {
     "name": "stdout",
     "output_type": "stream",
     "text": [
      "Read frame: 3300 from drone_vid_8\nRead frame: 0 from drone_vid_9\n"
     ]
    },
    {
     "name": "stdout",
     "output_type": "stream",
     "text": [
      "Read frame: 20 from drone_vid_9\nRead frame: 40 from drone_vid_9\n"
     ]
    },
    {
     "name": "stdout",
     "output_type": "stream",
     "text": [
      "Read frame: 60 from drone_vid_9\nRead frame: 80 from drone_vid_9\n"
     ]
    },
    {
     "name": "stdout",
     "output_type": "stream",
     "text": [
      "Read frame: 100 from drone_vid_9\nRead frame: 120 from drone_vid_9\n"
     ]
    },
    {
     "name": "stdout",
     "output_type": "stream",
     "text": [
      "Read frame: 140 from drone_vid_9\nRead frame: 160 from drone_vid_9\n"
     ]
    },
    {
     "name": "stdout",
     "output_type": "stream",
     "text": [
      "Read frame: 180 from drone_vid_9\nRead frame: 200 from drone_vid_9\n"
     ]
    },
    {
     "name": "stdout",
     "output_type": "stream",
     "text": [
      "Read frame: 220 from drone_vid_9\nRead frame: 240 from drone_vid_9\n"
     ]
    },
    {
     "name": "stdout",
     "output_type": "stream",
     "text": [
      "Read frame: 260 from drone_vid_9\nRead frame: 280 from drone_vid_9\n"
     ]
    },
    {
     "name": "stdout",
     "output_type": "stream",
     "text": [
      "Read frame: 300 from drone_vid_9\n"
     ]
    },
    {
     "name": "stdout",
     "output_type": "stream",
     "text": [
      "Read frame: 320 from drone_vid_9\n"
     ]
    },
    {
     "name": "stdout",
     "output_type": "stream",
     "text": [
      "Read frame: 340 from drone_vid_9\nRead frame: 360 from drone_vid_9\n"
     ]
    },
    {
     "name": "stdout",
     "output_type": "stream",
     "text": [
      "Read frame: 380 from drone_vid_9\nRead frame: 400 from drone_vid_9\n"
     ]
    },
    {
     "name": "stdout",
     "output_type": "stream",
     "text": [
      "Read frame: 420 from drone_vid_9\nRead frame: 440 from drone_vid_9\n"
     ]
    },
    {
     "name": "stdout",
     "output_type": "stream",
     "text": [
      "Read frame: 460 from drone_vid_9\nRead frame: 480 from drone_vid_9\n"
     ]
    },
    {
     "name": "stdout",
     "output_type": "stream",
     "text": [
      "Read frame: 500 from drone_vid_9\nRead frame: 520 from drone_vid_9\n"
     ]
    },
    {
     "name": "stdout",
     "output_type": "stream",
     "text": [
      "Read frame: 540 from drone_vid_9\nRead frame: 560 from drone_vid_9\n"
     ]
    },
    {
     "name": "stdout",
     "output_type": "stream",
     "text": [
      "Read frame: 580 from drone_vid_9\n"
     ]
    },
    {
     "name": "stdout",
     "output_type": "stream",
     "text": [
      "Read frame: 600 from drone_vid_9\n"
     ]
    },
    {
     "name": "stdout",
     "output_type": "stream",
     "text": [
      "Read frame: 620 from drone_vid_9\nRead frame: 640 from drone_vid_9\n"
     ]
    },
    {
     "name": "stdout",
     "output_type": "stream",
     "text": [
      "Read frame: 660 from drone_vid_9\nRead frame: 680 from drone_vid_9\n"
     ]
    },
    {
     "name": "stdout",
     "output_type": "stream",
     "text": [
      "Read frame: 700 from drone_vid_9\nRead frame: 720 from drone_vid_9\n"
     ]
    },
    {
     "name": "stdout",
     "output_type": "stream",
     "text": [
      "Read frame: 740 from drone_vid_9\nRead frame: 760 from drone_vid_9\n"
     ]
    },
    {
     "name": "stdout",
     "output_type": "stream",
     "text": [
      "Read frame: 780 from drone_vid_9\nRead frame: 800 from drone_vid_9\n"
     ]
    },
    {
     "name": "stdout",
     "output_type": "stream",
     "text": [
      "Read frame: 820 from drone_vid_9\nRead frame: 840 from drone_vid_9\n"
     ]
    },
    {
     "name": "stdout",
     "output_type": "stream",
     "text": [
      "Read frame: 860 from drone_vid_9\n"
     ]
    },
    {
     "name": "stdout",
     "output_type": "stream",
     "text": [
      "Read frame: 880 from drone_vid_9\n"
     ]
    },
    {
     "name": "stdout",
     "output_type": "stream",
     "text": [
      "Read frame: 900 from drone_vid_9\n"
     ]
    },
    {
     "name": "stdout",
     "output_type": "stream",
     "text": [
      "Read frame: 920 from drone_vid_9\nRead frame: 940 from drone_vid_9\n"
     ]
    },
    {
     "name": "stdout",
     "output_type": "stream",
     "text": [
      "Read frame: 960 from drone_vid_9\nRead frame: 980 from drone_vid_9\n"
     ]
    },
    {
     "name": "stdout",
     "output_type": "stream",
     "text": [
      "Read frame: 1000 from drone_vid_9\nRead frame: 1020 from drone_vid_9\n"
     ]
    },
    {
     "name": "stdout",
     "output_type": "stream",
     "text": [
      "Read frame: 1040 from drone_vid_9\nRead frame: 1060 from drone_vid_9\n"
     ]
    },
    {
     "name": "stdout",
     "output_type": "stream",
     "text": [
      "Read frame: 1080 from drone_vid_9\nRead frame: 1100 from drone_vid_9\n"
     ]
    },
    {
     "name": "stdout",
     "output_type": "stream",
     "text": [
      "Read frame: 1120 from drone_vid_9\nRead frame: 1140 from drone_vid_9\n"
     ]
    },
    {
     "name": "stdout",
     "output_type": "stream",
     "text": [
      "Read frame: 1160 from drone_vid_9\nRead frame: 1180 from drone_vid_9\n"
     ]
    },
    {
     "name": "stdout",
     "output_type": "stream",
     "text": [
      "Read frame: 1200 from drone_vid_9\nRead frame: 1220 from drone_vid_9\n"
     ]
    },
    {
     "name": "stdout",
     "output_type": "stream",
     "text": [
      "Read frame: 1240 from drone_vid_9\nRead frame: 1260 from drone_vid_9\n"
     ]
    },
    {
     "name": "stdout",
     "output_type": "stream",
     "text": [
      "Read frame: 1280 from drone_vid_9\nRead frame: 1300 from drone_vid_9\n"
     ]
    },
    {
     "name": "stdout",
     "output_type": "stream",
     "text": [
      "Read frame: 1320 from drone_vid_9\nRead frame: 1340 from drone_vid_9\n"
     ]
    },
    {
     "name": "stdout",
     "output_type": "stream",
     "text": [
      "Read frame: 1360 from drone_vid_9\nRead frame: 1380 from drone_vid_9\n"
     ]
    },
    {
     "name": "stdout",
     "output_type": "stream",
     "text": [
      "Read frame: 1400 from drone_vid_9\nRead frame: 1420 from drone_vid_9"
     ]
    },
    {
     "name": "stdout",
     "output_type": "stream",
     "text": [
      "\n"
     ]
    },
    {
     "name": "stdout",
     "output_type": "stream",
     "text": [
      "Read frame: 1440 from drone_vid_9\n"
     ]
    },
    {
     "name": "stdout",
     "output_type": "stream",
     "text": [
      "Read frame: 1460 from drone_vid_9\nRead frame: 1480 from drone_vid_9\n"
     ]
    },
    {
     "name": "stdout",
     "output_type": "stream",
     "text": [
      "Read frame: 1500 from drone_vid_9\nRead frame: 1520 from drone_vid_9\n"
     ]
    },
    {
     "name": "stdout",
     "output_type": "stream",
     "text": [
      "Read frame: 1540 from drone_vid_9\nRead frame: 1560 from drone_vid_9\n"
     ]
    },
    {
     "name": "stdout",
     "output_type": "stream",
     "text": [
      "Read frame: 1580 from drone_vid_9\nRead frame: 1600 from drone_vid_9\n"
     ]
    },
    {
     "name": "stdout",
     "output_type": "stream",
     "text": [
      "Read frame: 1620 from drone_vid_9\nRead frame: 1640 from drone_vid_9\n"
     ]
    },
    {
     "name": "stdout",
     "output_type": "stream",
     "text": [
      "Read frame: 1660 from drone_vid_9\nRead frame: 1680 from drone_vid_9\n"
     ]
    },
    {
     "name": "stdout",
     "output_type": "stream",
     "text": [
      "Read frame: 1700 from drone_vid_9\n"
     ]
    },
    {
     "name": "stdout",
     "output_type": "stream",
     "text": [
      "Read frame: 1720 from drone_vid_9\n"
     ]
    },
    {
     "name": "stdout",
     "output_type": "stream",
     "text": [
      "Read frame: 1740 from drone_vid_9\nRead frame: 1760 from drone_vid_9\n"
     ]
    },
    {
     "name": "stdout",
     "output_type": "stream",
     "text": [
      "Read frame: 1780 from drone_vid_9\nRead frame: 1800 from drone_vid_9\n"
     ]
    },
    {
     "name": "stdout",
     "output_type": "stream",
     "text": [
      "Read frame: 1820 from drone_vid_9\nRead frame: 1840 from drone_vid_9\n"
     ]
    },
    {
     "name": "stdout",
     "output_type": "stream",
     "text": [
      "Read frame: 1860 from drone_vid_9\nRead frame: 1880 from drone_vid_9\n"
     ]
    },
    {
     "name": "stdout",
     "output_type": "stream",
     "text": [
      "Read frame: 1900 from drone_vid_9\nRead frame: 1920 from drone_vid_9\n"
     ]
    },
    {
     "name": "stdout",
     "output_type": "stream",
     "text": [
      "Read frame: 1940 from drone_vid_9\nRead frame: 1960 from drone_vid_9\n"
     ]
    },
    {
     "name": "stdout",
     "output_type": "stream",
     "text": [
      "Read frame: 1980 from drone_vid_9\n"
     ]
    },
    {
     "name": "stdout",
     "output_type": "stream",
     "text": [
      "Read frame: 2000 from drone_vid_9\n"
     ]
    },
    {
     "name": "stdout",
     "output_type": "stream",
     "text": [
      "Read frame: 2020 from drone_vid_9\nRead frame: 2040 from drone_vid_9\n"
     ]
    },
    {
     "name": "stdout",
     "output_type": "stream",
     "text": [
      "Read frame: 2060 from drone_vid_9\nRead frame: 2080 from drone_vid_9\n"
     ]
    },
    {
     "name": "stdout",
     "output_type": "stream",
     "text": [
      "Read frame: 2100 from drone_vid_9\nRead frame: 2120 from drone_vid_9\n"
     ]
    },
    {
     "name": "stdout",
     "output_type": "stream",
     "text": [
      "Read frame: 2140 from drone_vid_9\nRead frame: 2160 from drone_vid_9\n"
     ]
    },
    {
     "name": "stdout",
     "output_type": "stream",
     "text": [
      "Read frame: 2180 from drone_vid_9\nRead frame: 2200 from drone_vid_9\n"
     ]
    },
    {
     "name": "stdout",
     "output_type": "stream",
     "text": [
      "Read frame: 2220 from drone_vid_9\nRead frame: 2240 from drone_vid_9\n"
     ]
    },
    {
     "name": "stdout",
     "output_type": "stream",
     "text": [
      "Read frame: 2260 from drone_vid_9\n"
     ]
    },
    {
     "name": "stdout",
     "output_type": "stream",
     "text": [
      "Read frame: 2280 from drone_vid_9\n"
     ]
    },
    {
     "name": "stdout",
     "output_type": "stream",
     "text": [
      "Read frame: 2300 from drone_vid_9\n"
     ]
    },
    {
     "name": "stdout",
     "output_type": "stream",
     "text": [
      "Read frame: 2320 from drone_vid_9\nRead frame: 2340 from drone_vid_9\n"
     ]
    },
    {
     "name": "stdout",
     "output_type": "stream",
     "text": [
      "Read frame: 2360 from drone_vid_9\nRead frame: 2380 from drone_vid_9\n"
     ]
    },
    {
     "name": "stdout",
     "output_type": "stream",
     "text": [
      "Read frame: 2400 from drone_vid_9\nRead frame: 2420 from drone_vid_9\n"
     ]
    },
    {
     "name": "stdout",
     "output_type": "stream",
     "text": [
      "Read frame: 2440 from drone_vid_9\nRead frame: 2460 from drone_vid_9\n"
     ]
    },
    {
     "name": "stdout",
     "output_type": "stream",
     "text": [
      "Read frame: 2480 from drone_vid_9\nRead frame: 2500 from drone_vid_9\n"
     ]
    },
    {
     "name": "stdout",
     "output_type": "stream",
     "text": [
      "Read frame: 2520 from drone_vid_9\n"
     ]
    },
    {
     "name": "stdout",
     "output_type": "stream",
     "text": [
      "Read frame: 2540 from drone_vid_9\n"
     ]
    },
    {
     "name": "stdout",
     "output_type": "stream",
     "text": [
      "Read frame: 2560 from drone_vid_9\n"
     ]
    },
    {
     "name": "stdout",
     "output_type": "stream",
     "text": [
      "Read frame: 2580 from drone_vid_9\nRead frame: 2600 from drone_vid_9\n"
     ]
    },
    {
     "name": "stdout",
     "output_type": "stream",
     "text": [
      "Read frame: 2620 from drone_vid_9\nRead frame: 2640 from drone_vid_9\n"
     ]
    },
    {
     "name": "stdout",
     "output_type": "stream",
     "text": [
      "Read frame: 2660 from drone_vid_9\nRead frame: 2680 from drone_vid_9\n"
     ]
    },
    {
     "name": "stdout",
     "output_type": "stream",
     "text": [
      "Read frame: 2700 from drone_vid_9\nRead frame: 2720 from drone_vid_9\n"
     ]
    },
    {
     "name": "stdout",
     "output_type": "stream",
     "text": [
      "Read frame: 2740 from drone_vid_9\nRead frame: 2760 from drone_vid_9\n"
     ]
    },
    {
     "name": "stdout",
     "output_type": "stream",
     "text": [
      "Read frame: 2780 from drone_vid_9\nRead frame: 2800 from drone_vid_9\n"
     ]
    },
    {
     "name": "stdout",
     "output_type": "stream",
     "text": [
      "Read frame: 2820 from drone_vid_9\nRead frame: 2840 from drone_vid_9\n"
     ]
    },
    {
     "name": "stdout",
     "output_type": "stream",
     "text": [
      "Read frame: 2860 from drone_vid_9\nRead frame: 2880 from drone_vid_9\n"
     ]
    },
    {
     "name": "stdout",
     "output_type": "stream",
     "text": [
      "Read frame: 2900 from drone_vid_9\nRead frame: 2920 from drone_vid_9\n"
     ]
    },
    {
     "name": "stdout",
     "output_type": "stream",
     "text": [
      "Read frame: 2940 from drone_vid_9\nRead frame: 2960 from drone_vid_9\n"
     ]
    },
    {
     "name": "stdout",
     "output_type": "stream",
     "text": [
      "Read frame: 2980 from drone_vid_9\nRead frame: 3000 from drone_vid_9\n"
     ]
    },
    {
     "name": "stdout",
     "output_type": "stream",
     "text": [
      "Read frame: 3020 from drone_vid_9\nRead frame: 3040 from drone_vid_9\n"
     ]
    },
    {
     "name": "stdout",
     "output_type": "stream",
     "text": [
      "Read frame: 3060 from drone_vid_9\n"
     ]
    },
    {
     "name": "stdout",
     "output_type": "stream",
     "text": [
      "Read frame: 3080 from drone_vid_9\n"
     ]
    },
    {
     "name": "stdout",
     "output_type": "stream",
     "text": [
      "Read frame: 3100 from drone_vid_9\nRead frame: 3120 from drone_vid_9\n"
     ]
    },
    {
     "name": "stdout",
     "output_type": "stream",
     "text": [
      "Read frame: 3140 from drone_vid_9\nRead frame: 3160 from drone_vid_9\n"
     ]
    },
    {
     "name": "stdout",
     "output_type": "stream",
     "text": [
      "Read frame: 3180 from drone_vid_9\nRead frame: 3200 from drone_vid_9\n"
     ]
    },
    {
     "name": "stdout",
     "output_type": "stream",
     "text": [
      "Read frame: 3220 from drone_vid_9\nRead frame: 3240 from drone_vid_9\n"
     ]
    },
    {
     "name": "stdout",
     "output_type": "stream",
     "text": [
      "Read frame: 3260 from drone_vid_9\nRead frame: 3280 from drone_vid_9\n"
     ]
    },
    {
     "name": "stdout",
     "output_type": "stream",
     "text": [
      "Read frame: 3300 from drone_vid_9\n"
     ]
    },
    {
     "name": "stdout",
     "output_type": "stream",
     "text": [
      "Read frame: 3320 from drone_vid_9\n"
     ]
    },
    {
     "name": "stdout",
     "output_type": "stream",
     "text": [
      "Read frame: 3340 from drone_vid_9\nRead frame: 3360 from drone_vid_9\n"
     ]
    },
    {
     "name": "stdout",
     "output_type": "stream",
     "text": [
      "Read frame: 3380 from drone_vid_9\nRead frame: 3400 from drone_vid_9\n"
     ]
    },
    {
     "name": "stdout",
     "output_type": "stream",
     "text": [
      "Read frame: 3420 from drone_vid_9\nRead frame: 3440 from drone_vid_9\n"
     ]
    },
    {
     "name": "stdout",
     "output_type": "stream",
     "text": [
      "Read frame: 3460 from drone_vid_9\nRead frame: 3480 from drone_vid_9\n"
     ]
    },
    {
     "name": "stdout",
     "output_type": "stream",
     "text": [
      "Read frame: 3500 from drone_vid_9\nRead frame: 3520 from drone_vid_9\n"
     ]
    },
    {
     "name": "stdout",
     "output_type": "stream",
     "text": [
      "Read frame: 3540 from drone_vid_9\nRead frame: 3560 from drone_vid_9\n"
     ]
    },
    {
     "name": "stdout",
     "output_type": "stream",
     "text": [
      "Read frame: 3580 from drone_vid_9\nRead frame: 3600 from drone_vid_9\n"
     ]
    },
    {
     "name": "stdout",
     "output_type": "stream",
     "text": [
      "Read frame: 3620 from drone_vid_9\nRead frame: 3640 from drone_vid_9\n"
     ]
    },
    {
     "name": "stdout",
     "output_type": "stream",
     "text": [
      "Read frame: 3660 from drone_vid_9\nRead frame: 3680 from drone_vid_9\n"
     ]
    },
    {
     "name": "stdout",
     "output_type": "stream",
     "text": [
      "Read frame: 3700 from drone_vid_9\nRead frame: 3720 from drone_vid_9\n"
     ]
    },
    {
     "name": "stdout",
     "output_type": "stream",
     "text": [
      "Read frame: 3740 from drone_vid_9\nRead frame: 3760 from drone_vid_9\n"
     ]
    },
    {
     "name": "stdout",
     "output_type": "stream",
     "text": [
      "Read frame: 3780 from drone_vid_9\nRead frame: 3800 from drone_vid_9\n"
     ]
    },
    {
     "name": "stdout",
     "output_type": "stream",
     "text": [
      "Read frame: 3820 from drone_vid_9\nRead frame: 3840 from drone_vid_9\n"
     ]
    },
    {
     "name": "stdout",
     "output_type": "stream",
     "text": [
      "Read frame: 3860 from drone_vid_9\n"
     ]
    },
    {
     "name": "stdout",
     "output_type": "stream",
     "text": [
      "Read frame: 3880 from drone_vid_9\n"
     ]
    },
    {
     "name": "stdout",
     "output_type": "stream",
     "text": [
      "Read frame: 3900 from drone_vid_9\nRead frame: 3920 from drone_vid_9\n"
     ]
    },
    {
     "name": "stdout",
     "output_type": "stream",
     "text": [
      "Read frame: 3940 from drone_vid_9\nRead frame: 3960 from drone_vid_9\n"
     ]
    },
    {
     "name": "stdout",
     "output_type": "stream",
     "text": [
      "Read frame: 3980 from drone_vid_9\nRead frame: 4000 from drone_vid_9\n"
     ]
    },
    {
     "name": "stdout",
     "output_type": "stream",
     "text": [
      "Read frame: 4020 from drone_vid_9\nRead frame: 4040 from drone_vid_9\n"
     ]
    },
    {
     "name": "stdout",
     "output_type": "stream",
     "text": [
      "Read frame: 4060 from drone_vid_9\nRead frame: 4080 from drone_vid_9\n"
     ]
    },
    {
     "name": "stdout",
     "output_type": "stream",
     "text": [
      "Read frame: 4100 from drone_vid_9\nRead frame: 4120 from drone_vid_9\n"
     ]
    },
    {
     "name": "stdout",
     "output_type": "stream",
     "text": [
      "Read frame: 4140 from drone_vid_9\n"
     ]
    },
    {
     "name": "stdout",
     "output_type": "stream",
     "text": [
      "Read frame: 4160 from drone_vid_9\n"
     ]
    },
    {
     "name": "stdout",
     "output_type": "stream",
     "text": [
      "Read frame: 4180 from drone_vid_9\nRead frame: 4200 from drone_vid_9\n"
     ]
    },
    {
     "name": "stdout",
     "output_type": "stream",
     "text": [
      "Read frame: 4220 from drone_vid_9\nRead frame: 4240 from drone_vid_9\n"
     ]
    },
    {
     "name": "stdout",
     "output_type": "stream",
     "text": [
      "Read frame: 4260 from drone_vid_9\nRead frame: 4280 from drone_vid_9\n"
     ]
    },
    {
     "name": "stdout",
     "output_type": "stream",
     "text": [
      "Read frame: 4300 from drone_vid_9\nRead frame: 4320 from drone_vid_9\n"
     ]
    },
    {
     "name": "stdout",
     "output_type": "stream",
     "text": [
      "Read frame: 4340 from drone_vid_9\nRead frame: 4360 from drone_vid_9\n"
     ]
    },
    {
     "name": "stdout",
     "output_type": "stream",
     "text": [
      "Read frame: 4380 from drone_vid_9\nRead frame: 4400 from drone_vid_9\n"
     ]
    },
    {
     "name": "stdout",
     "output_type": "stream",
     "text": [
      "Read frame: 4420 from drone_vid_9\n"
     ]
    },
    {
     "name": "stdout",
     "output_type": "stream",
     "text": [
      "Read frame: 4440 from drone_vid_9\nRead frame: 4460 from drone_vid_9\n"
     ]
    },
    {
     "name": "stdout",
     "output_type": "stream",
     "text": [
      "Read frame: 4480 from drone_vid_9\nRead frame: 4500 from drone_vid_9\n"
     ]
    },
    {
     "name": "stdout",
     "output_type": "stream",
     "text": [
      "Read frame: 4520 from drone_vid_9\nRead frame: 4540 from drone_vid_9\n"
     ]
    },
    {
     "name": "stdout",
     "output_type": "stream",
     "text": [
      "Read frame: 4560 from drone_vid_9\nRead frame: 4580 from drone_vid_9\n"
     ]
    },
    {
     "name": "stdout",
     "output_type": "stream",
     "text": [
      "Read frame: 4600 from drone_vid_9\nRead frame: 4620 from drone_vid_9\n"
     ]
    },
    {
     "name": "stdout",
     "output_type": "stream",
     "text": [
      "Read frame: 4640 from drone_vid_9\nRead frame: 4660 from drone_vid_9\n"
     ]
    },
    {
     "name": "stdout",
     "output_type": "stream",
     "text": [
      "Read frame: 4680 from drone_vid_9\n"
     ]
    },
    {
     "name": "stdout",
     "output_type": "stream",
     "text": [
      "Read frame: 4700 from drone_vid_9\nRead frame: 4720 from drone_vid_9\n"
     ]
    },
    {
     "name": "stdout",
     "output_type": "stream",
     "text": [
      "Read frame: 4740 from drone_vid_9\nRead frame: 4760 from drone_vid_9\n"
     ]
    },
    {
     "name": "stdout",
     "output_type": "stream",
     "text": [
      "Read frame: 4780 from drone_vid_9\nRead frame: 4800 from drone_vid_9\n"
     ]
    },
    {
     "name": "stdout",
     "output_type": "stream",
     "text": [
      "Read frame: 4820 from drone_vid_9\nRead frame: 4840 from drone_vid_9\n"
     ]
    },
    {
     "name": "stdout",
     "output_type": "stream",
     "text": [
      "Read frame: 4860 from drone_vid_9\nRead frame: 4880 from drone_vid_9\n"
     ]
    },
    {
     "name": "stdout",
     "output_type": "stream",
     "text": [
      "Read frame: 4900 from drone_vid_9\nRead frame: 4920 from drone_vid_9\n"
     ]
    },
    {
     "name": "stdout",
     "output_type": "stream",
     "text": [
      "Read frame: 4940 from drone_vid_9\n"
     ]
    },
    {
     "name": "stdout",
     "output_type": "stream",
     "text": [
      "Read frame: 4960 from drone_vid_9\n"
     ]
    },
    {
     "name": "stdout",
     "output_type": "stream",
     "text": [
      "Read frame: 4980 from drone_vid_9\nRead frame: 5000 from drone_vid_9\n"
     ]
    },
    {
     "name": "stdout",
     "output_type": "stream",
     "text": [
      "Read frame: 5020 from drone_vid_9\n"
     ]
    }
   ],
   "source": [
    "# NEGATIVES HANDLING\n",
    "\n",
    "if PARSE_NEG:\n",
    "    for filename in os.listdir(negative_directory):\n",
    "        if filename.endswith(\".mp4\"):\n",
    "            seperate_frames(negative_directory + \"\\\\\" + filename, seperated_dir)\n",
    "        elif filename == seperated_dir_name:\n",
    "            continue\n",
    "        else:\n",
    "            print(\"All files should be mp4 files %s is not, Toar stop being an idiot\" % filename)\n"
   ]
  },
  {
   "cell_type": "code",
   "execution_count": null,
   "metadata": {},
   "outputs": [],
   "source": []
  }
 ],
 "metadata": {
  "kernelspec": {
   "display_name": "Python 3",
   "language": "python",
   "name": "python3"
  },
  "language_info": {
   "codemirror_mode": {
    "name": "ipython",
    "version": 3
   },
   "file_extension": ".py",
   "mimetype": "text/x-python",
   "name": "python",
   "nbconvert_exporter": "python",
   "pygments_lexer": "ipython3",
   "version": "3.7.1"
  }
 },
 "nbformat": 4,
 "nbformat_minor": 2
}
